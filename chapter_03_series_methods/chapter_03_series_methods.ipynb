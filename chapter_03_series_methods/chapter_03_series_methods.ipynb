{
  "cells": [
    {
      "cell_type": "markdown",
      "metadata": {
        "id": "NzIQ1_Iiimu7"
      },
      "source": [
        "## 3.1 Importing a Data Set with the read_csv Function"
      ]
    },
    {
      "cell_type": "code",
      "source": [
        "#  2026\n",
        "from math import *\n",
        "for a in range(2, 1000):\n",
        "  i = ceil( log2(a) )\n",
        "  N = ceil(2783*i/8)\n",
        "  if (N * 3845627) >= (11*1024*1024*1024):\n",
        "    print(a, N * 3845627, 11*1024*1024*1024)\n",
        "    break"
      ],
      "metadata": {
        "colab": {
          "base_uri": "https://localhost:8080/"
        },
        "id": "ASS-43f4u0MG",
        "outputId": "53ddeebe-a4e2-4a52-f7e2-2a2a154e8c9f"
      },
      "execution_count": 6,
      "outputs": [
        {
          "output_type": "stream",
          "name": "stdout",
          "text": [
            "257 12040658137 11811160064\n"
          ]
        }
      ]
    },
    {
      "cell_type": "code",
      "source": [
        "#  2025\n",
        "from math import *\n",
        "a = 10 + 52 + 963\n",
        "i = ceil( log2(a) )\n",
        "print(a, i)\n",
        "\n",
        "l = []\n",
        "\n",
        "for n in range(2,1000):\n",
        "  N = ceil(n*i/8)\n",
        "  if (2000*N) <= (693*1024):\n",
        "    # print(n, 2000*N, 693*1024)\n",
        "    l.append(n)\n",
        "max(l)"
      ],
      "metadata": {
        "id": "Hd-4rTOyB7oO",
        "outputId": "5b89b148-c55c-44b0-8667-303efcf34ed4",
        "colab": {
          "base_uri": "https://localhost:8080/"
        }
      },
      "execution_count": 3,
      "outputs": [
        {
          "output_type": "stream",
          "name": "stdout",
          "text": [
            "1025 11\n"
          ]
        },
        {
          "output_type": "execute_result",
          "data": {
            "text/plain": [
              "257"
            ]
          },
          "metadata": {},
          "execution_count": 3
        }
      ]
    },
    {
      "cell_type": "code",
      "execution_count": 2,
      "metadata": {
        "id": "WWO55pqnimu9"
      },
      "outputs": [],
      "source": [
        "import pandas as pd"
      ]
    },
    {
      "cell_type": "code",
      "execution_count": 3,
      "metadata": {
        "id": "Yt2Eo5_Zimu-",
        "outputId": "743816ca-bca9-4e3f-f5c5-7c74480af9b9",
        "colab": {
          "base_uri": "https://localhost:8080/",
          "height": 423
        }
      },
      "outputs": [
        {
          "output_type": "execute_result",
          "data": {
            "text/plain": [
              "         Pokemon            Type\n",
              "0      Bulbasaur  Grass / Poison\n",
              "1        Ivysaur  Grass / Poison\n",
              "2       Venusaur  Grass / Poison\n",
              "3     Charmander            Fire\n",
              "4     Charmeleon            Fire\n",
              "..           ...             ...\n",
              "804    Stakataka    Rock / Steel\n",
              "805  Blacephalon    Fire / Ghost\n",
              "806      Zeraora        Electric\n",
              "807       Meltan           Steel\n",
              "808     Melmetal           Steel\n",
              "\n",
              "[809 rows x 2 columns]"
            ],
            "text/html": [
              "\n",
              "  <div id=\"df-cbcd1d9b-dbaf-4094-bbac-71963411fb95\" class=\"colab-df-container\">\n",
              "    <div>\n",
              "<style scoped>\n",
              "    .dataframe tbody tr th:only-of-type {\n",
              "        vertical-align: middle;\n",
              "    }\n",
              "\n",
              "    .dataframe tbody tr th {\n",
              "        vertical-align: top;\n",
              "    }\n",
              "\n",
              "    .dataframe thead th {\n",
              "        text-align: right;\n",
              "    }\n",
              "</style>\n",
              "<table border=\"1\" class=\"dataframe\">\n",
              "  <thead>\n",
              "    <tr style=\"text-align: right;\">\n",
              "      <th></th>\n",
              "      <th>Pokemon</th>\n",
              "      <th>Type</th>\n",
              "    </tr>\n",
              "  </thead>\n",
              "  <tbody>\n",
              "    <tr>\n",
              "      <th>0</th>\n",
              "      <td>Bulbasaur</td>\n",
              "      <td>Grass / Poison</td>\n",
              "    </tr>\n",
              "    <tr>\n",
              "      <th>1</th>\n",
              "      <td>Ivysaur</td>\n",
              "      <td>Grass / Poison</td>\n",
              "    </tr>\n",
              "    <tr>\n",
              "      <th>2</th>\n",
              "      <td>Venusaur</td>\n",
              "      <td>Grass / Poison</td>\n",
              "    </tr>\n",
              "    <tr>\n",
              "      <th>3</th>\n",
              "      <td>Charmander</td>\n",
              "      <td>Fire</td>\n",
              "    </tr>\n",
              "    <tr>\n",
              "      <th>4</th>\n",
              "      <td>Charmeleon</td>\n",
              "      <td>Fire</td>\n",
              "    </tr>\n",
              "    <tr>\n",
              "      <th>...</th>\n",
              "      <td>...</td>\n",
              "      <td>...</td>\n",
              "    </tr>\n",
              "    <tr>\n",
              "      <th>804</th>\n",
              "      <td>Stakataka</td>\n",
              "      <td>Rock / Steel</td>\n",
              "    </tr>\n",
              "    <tr>\n",
              "      <th>805</th>\n",
              "      <td>Blacephalon</td>\n",
              "      <td>Fire / Ghost</td>\n",
              "    </tr>\n",
              "    <tr>\n",
              "      <th>806</th>\n",
              "      <td>Zeraora</td>\n",
              "      <td>Electric</td>\n",
              "    </tr>\n",
              "    <tr>\n",
              "      <th>807</th>\n",
              "      <td>Meltan</td>\n",
              "      <td>Steel</td>\n",
              "    </tr>\n",
              "    <tr>\n",
              "      <th>808</th>\n",
              "      <td>Melmetal</td>\n",
              "      <td>Steel</td>\n",
              "    </tr>\n",
              "  </tbody>\n",
              "</table>\n",
              "<p>809 rows × 2 columns</p>\n",
              "</div>\n",
              "    <div class=\"colab-df-buttons\">\n",
              "\n",
              "  <div class=\"colab-df-container\">\n",
              "    <button class=\"colab-df-convert\" onclick=\"convertToInteractive('df-cbcd1d9b-dbaf-4094-bbac-71963411fb95')\"\n",
              "            title=\"Convert this dataframe to an interactive table.\"\n",
              "            style=\"display:none;\">\n",
              "\n",
              "  <svg xmlns=\"http://www.w3.org/2000/svg\" height=\"24px\" viewBox=\"0 -960 960 960\">\n",
              "    <path d=\"M120-120v-720h720v720H120Zm60-500h600v-160H180v160Zm220 220h160v-160H400v160Zm0 220h160v-160H400v160ZM180-400h160v-160H180v160Zm440 0h160v-160H620v160ZM180-180h160v-160H180v160Zm440 0h160v-160H620v160Z\"/>\n",
              "  </svg>\n",
              "    </button>\n",
              "\n",
              "  <style>\n",
              "    .colab-df-container {\n",
              "      display:flex;\n",
              "      gap: 12px;\n",
              "    }\n",
              "\n",
              "    .colab-df-convert {\n",
              "      background-color: #E8F0FE;\n",
              "      border: none;\n",
              "      border-radius: 50%;\n",
              "      cursor: pointer;\n",
              "      display: none;\n",
              "      fill: #1967D2;\n",
              "      height: 32px;\n",
              "      padding: 0 0 0 0;\n",
              "      width: 32px;\n",
              "    }\n",
              "\n",
              "    .colab-df-convert:hover {\n",
              "      background-color: #E2EBFA;\n",
              "      box-shadow: 0px 1px 2px rgba(60, 64, 67, 0.3), 0px 1px 3px 1px rgba(60, 64, 67, 0.15);\n",
              "      fill: #174EA6;\n",
              "    }\n",
              "\n",
              "    .colab-df-buttons div {\n",
              "      margin-bottom: 4px;\n",
              "    }\n",
              "\n",
              "    [theme=dark] .colab-df-convert {\n",
              "      background-color: #3B4455;\n",
              "      fill: #D2E3FC;\n",
              "    }\n",
              "\n",
              "    [theme=dark] .colab-df-convert:hover {\n",
              "      background-color: #434B5C;\n",
              "      box-shadow: 0px 1px 3px 1px rgba(0, 0, 0, 0.15);\n",
              "      filter: drop-shadow(0px 1px 2px rgba(0, 0, 0, 0.3));\n",
              "      fill: #FFFFFF;\n",
              "    }\n",
              "  </style>\n",
              "\n",
              "    <script>\n",
              "      const buttonEl =\n",
              "        document.querySelector('#df-cbcd1d9b-dbaf-4094-bbac-71963411fb95 button.colab-df-convert');\n",
              "      buttonEl.style.display =\n",
              "        google.colab.kernel.accessAllowed ? 'block' : 'none';\n",
              "\n",
              "      async function convertToInteractive(key) {\n",
              "        const element = document.querySelector('#df-cbcd1d9b-dbaf-4094-bbac-71963411fb95');\n",
              "        const dataTable =\n",
              "          await google.colab.kernel.invokeFunction('convertToInteractive',\n",
              "                                                    [key], {});\n",
              "        if (!dataTable) return;\n",
              "\n",
              "        const docLinkHtml = 'Like what you see? Visit the ' +\n",
              "          '<a target=\"_blank\" href=https://colab.research.google.com/notebooks/data_table.ipynb>data table notebook</a>'\n",
              "          + ' to learn more about interactive tables.';\n",
              "        element.innerHTML = '';\n",
              "        dataTable['output_type'] = 'display_data';\n",
              "        await google.colab.output.renderOutput(dataTable, element);\n",
              "        const docLink = document.createElement('div');\n",
              "        docLink.innerHTML = docLinkHtml;\n",
              "        element.appendChild(docLink);\n",
              "      }\n",
              "    </script>\n",
              "  </div>\n",
              "\n",
              "\n",
              "    <div id=\"df-5f5adc12-d442-4ea0-a1ea-0d470b910364\">\n",
              "      <button class=\"colab-df-quickchart\" onclick=\"quickchart('df-5f5adc12-d442-4ea0-a1ea-0d470b910364')\"\n",
              "                title=\"Suggest charts\"\n",
              "                style=\"display:none;\">\n",
              "\n",
              "<svg xmlns=\"http://www.w3.org/2000/svg\" height=\"24px\"viewBox=\"0 0 24 24\"\n",
              "     width=\"24px\">\n",
              "    <g>\n",
              "        <path d=\"M19 3H5c-1.1 0-2 .9-2 2v14c0 1.1.9 2 2 2h14c1.1 0 2-.9 2-2V5c0-1.1-.9-2-2-2zM9 17H7v-7h2v7zm4 0h-2V7h2v10zm4 0h-2v-4h2v4z\"/>\n",
              "    </g>\n",
              "</svg>\n",
              "      </button>\n",
              "\n",
              "<style>\n",
              "  .colab-df-quickchart {\n",
              "      --bg-color: #E8F0FE;\n",
              "      --fill-color: #1967D2;\n",
              "      --hover-bg-color: #E2EBFA;\n",
              "      --hover-fill-color: #174EA6;\n",
              "      --disabled-fill-color: #AAA;\n",
              "      --disabled-bg-color: #DDD;\n",
              "  }\n",
              "\n",
              "  [theme=dark] .colab-df-quickchart {\n",
              "      --bg-color: #3B4455;\n",
              "      --fill-color: #D2E3FC;\n",
              "      --hover-bg-color: #434B5C;\n",
              "      --hover-fill-color: #FFFFFF;\n",
              "      --disabled-bg-color: #3B4455;\n",
              "      --disabled-fill-color: #666;\n",
              "  }\n",
              "\n",
              "  .colab-df-quickchart {\n",
              "    background-color: var(--bg-color);\n",
              "    border: none;\n",
              "    border-radius: 50%;\n",
              "    cursor: pointer;\n",
              "    display: none;\n",
              "    fill: var(--fill-color);\n",
              "    height: 32px;\n",
              "    padding: 0;\n",
              "    width: 32px;\n",
              "  }\n",
              "\n",
              "  .colab-df-quickchart:hover {\n",
              "    background-color: var(--hover-bg-color);\n",
              "    box-shadow: 0 1px 2px rgba(60, 64, 67, 0.3), 0 1px 3px 1px rgba(60, 64, 67, 0.15);\n",
              "    fill: var(--button-hover-fill-color);\n",
              "  }\n",
              "\n",
              "  .colab-df-quickchart-complete:disabled,\n",
              "  .colab-df-quickchart-complete:disabled:hover {\n",
              "    background-color: var(--disabled-bg-color);\n",
              "    fill: var(--disabled-fill-color);\n",
              "    box-shadow: none;\n",
              "  }\n",
              "\n",
              "  .colab-df-spinner {\n",
              "    border: 2px solid var(--fill-color);\n",
              "    border-color: transparent;\n",
              "    border-bottom-color: var(--fill-color);\n",
              "    animation:\n",
              "      spin 1s steps(1) infinite;\n",
              "  }\n",
              "\n",
              "  @keyframes spin {\n",
              "    0% {\n",
              "      border-color: transparent;\n",
              "      border-bottom-color: var(--fill-color);\n",
              "      border-left-color: var(--fill-color);\n",
              "    }\n",
              "    20% {\n",
              "      border-color: transparent;\n",
              "      border-left-color: var(--fill-color);\n",
              "      border-top-color: var(--fill-color);\n",
              "    }\n",
              "    30% {\n",
              "      border-color: transparent;\n",
              "      border-left-color: var(--fill-color);\n",
              "      border-top-color: var(--fill-color);\n",
              "      border-right-color: var(--fill-color);\n",
              "    }\n",
              "    40% {\n",
              "      border-color: transparent;\n",
              "      border-right-color: var(--fill-color);\n",
              "      border-top-color: var(--fill-color);\n",
              "    }\n",
              "    60% {\n",
              "      border-color: transparent;\n",
              "      border-right-color: var(--fill-color);\n",
              "    }\n",
              "    80% {\n",
              "      border-color: transparent;\n",
              "      border-right-color: var(--fill-color);\n",
              "      border-bottom-color: var(--fill-color);\n",
              "    }\n",
              "    90% {\n",
              "      border-color: transparent;\n",
              "      border-bottom-color: var(--fill-color);\n",
              "    }\n",
              "  }\n",
              "</style>\n",
              "\n",
              "      <script>\n",
              "        async function quickchart(key) {\n",
              "          const quickchartButtonEl =\n",
              "            document.querySelector('#' + key + ' button');\n",
              "          quickchartButtonEl.disabled = true;  // To prevent multiple clicks.\n",
              "          quickchartButtonEl.classList.add('colab-df-spinner');\n",
              "          try {\n",
              "            const charts = await google.colab.kernel.invokeFunction(\n",
              "                'suggestCharts', [key], {});\n",
              "          } catch (error) {\n",
              "            console.error('Error during call to suggestCharts:', error);\n",
              "          }\n",
              "          quickchartButtonEl.classList.remove('colab-df-spinner');\n",
              "          quickchartButtonEl.classList.add('colab-df-quickchart-complete');\n",
              "        }\n",
              "        (() => {\n",
              "          let quickchartButtonEl =\n",
              "            document.querySelector('#df-5f5adc12-d442-4ea0-a1ea-0d470b910364 button');\n",
              "          quickchartButtonEl.style.display =\n",
              "            google.colab.kernel.accessAllowed ? 'block' : 'none';\n",
              "        })();\n",
              "      </script>\n",
              "    </div>\n",
              "    </div>\n",
              "  </div>\n"
            ],
            "application/vnd.google.colaboratory.intrinsic+json": {
              "type": "dataframe",
              "summary": "{\n  \"name\": \"pd\",\n  \"rows\": 809,\n  \"fields\": [\n    {\n      \"column\": \"Pokemon\",\n      \"properties\": {\n        \"dtype\": \"string\",\n        \"num_unique_values\": 809,\n        \"samples\": [\n          \"Aurorus\",\n          \"Hariyama\",\n          \"Houndour\"\n        ],\n        \"semantic_type\": \"\",\n        \"description\": \"\"\n      }\n    },\n    {\n      \"column\": \"Type\",\n      \"properties\": {\n        \"dtype\": \"category\",\n        \"num_unique_values\": 159,\n        \"samples\": [\n          \"Ground / Psychic\",\n          \"Psychic / Steel\",\n          \"Fighting / Dark\"\n        ],\n        \"semantic_type\": \"\",\n        \"description\": \"\"\n      }\n    }\n  ]\n}"
            }
          },
          "metadata": {},
          "execution_count": 3
        }
      ],
      "source": [
        "# The two lines below are equivalent\n",
        "pd.read_csv(filepath_or_buffer = \"3-pokemon.csv\")\n",
        "pd.read_csv(\"3-pokemon.csv\")"
      ]
    },
    {
      "cell_type": "code",
      "execution_count": null,
      "metadata": {
        "id": "RWzCiktOimu_",
        "outputId": "08999058-e04b-485b-d1fa-92fa1fe66113"
      },
      "outputs": [
        {
          "data": {
            "text/html": [
              "<div>\n",
              "<style scoped>\n",
              "    .dataframe tbody tr th:only-of-type {\n",
              "        vertical-align: middle;\n",
              "    }\n",
              "\n",
              "    .dataframe tbody tr th {\n",
              "        vertical-align: top;\n",
              "    }\n",
              "\n",
              "    .dataframe thead th {\n",
              "        text-align: right;\n",
              "    }\n",
              "</style>\n",
              "<table border=\"1\" class=\"dataframe\">\n",
              "  <thead>\n",
              "    <tr style=\"text-align: right;\">\n",
              "      <th></th>\n",
              "      <th>Type</th>\n",
              "    </tr>\n",
              "    <tr>\n",
              "      <th>Pokemon</th>\n",
              "      <th></th>\n",
              "    </tr>\n",
              "  </thead>\n",
              "  <tbody>\n",
              "    <tr>\n",
              "      <th>Bulbasaur</th>\n",
              "      <td>Grass / Poison</td>\n",
              "    </tr>\n",
              "    <tr>\n",
              "      <th>Ivysaur</th>\n",
              "      <td>Grass / Poison</td>\n",
              "    </tr>\n",
              "    <tr>\n",
              "      <th>Venusaur</th>\n",
              "      <td>Grass / Poison</td>\n",
              "    </tr>\n",
              "    <tr>\n",
              "      <th>Charmander</th>\n",
              "      <td>Fire</td>\n",
              "    </tr>\n",
              "    <tr>\n",
              "      <th>Charmeleon</th>\n",
              "      <td>Fire</td>\n",
              "    </tr>\n",
              "    <tr>\n",
              "      <th>...</th>\n",
              "      <td>...</td>\n",
              "    </tr>\n",
              "    <tr>\n",
              "      <th>Stakataka</th>\n",
              "      <td>Rock / Steel</td>\n",
              "    </tr>\n",
              "    <tr>\n",
              "      <th>Blacephalon</th>\n",
              "      <td>Fire / Ghost</td>\n",
              "    </tr>\n",
              "    <tr>\n",
              "      <th>Zeraora</th>\n",
              "      <td>Electric</td>\n",
              "    </tr>\n",
              "    <tr>\n",
              "      <th>Meltan</th>\n",
              "      <td>Steel</td>\n",
              "    </tr>\n",
              "    <tr>\n",
              "      <th>Melmetal</th>\n",
              "      <td>Steel</td>\n",
              "    </tr>\n",
              "  </tbody>\n",
              "</table>\n",
              "<p>809 rows × 1 columns</p>\n",
              "</div>"
            ],
            "text/plain": [
              "                       Type\n",
              "Pokemon                    \n",
              "Bulbasaur    Grass / Poison\n",
              "Ivysaur      Grass / Poison\n",
              "Venusaur     Grass / Poison\n",
              "Charmander             Fire\n",
              "Charmeleon             Fire\n",
              "...                     ...\n",
              "Stakataka      Rock / Steel\n",
              "Blacephalon    Fire / Ghost\n",
              "Zeraora            Electric\n",
              "Meltan                Steel\n",
              "Melmetal              Steel\n",
              "\n",
              "[809 rows x 1 columns]"
            ]
          },
          "execution_count": 3,
          "metadata": {},
          "output_type": "execute_result"
        }
      ],
      "source": [
        "pd.read_csv(\"pokemon.csv\", index_col = \"Pokemon\")"
      ]
    },
    {
      "cell_type": "code",
      "source": [
        "type(pd.read_csv(\"3-pokemon.csv\", index_col = \"Pokemon\"))"
      ],
      "metadata": {
        "id": "kXgeXOgR6SXf",
        "outputId": "f6ebc5cc-2e8b-4c2c-e41a-ca177085d851",
        "colab": {
          "base_uri": "https://localhost:8080/",
          "height": 204
        }
      },
      "execution_count": 8,
      "outputs": [
        {
          "output_type": "execute_result",
          "data": {
            "text/plain": [
              "pandas.core.frame.DataFrame"
            ],
            "text/html": [
              "<div style=\"max-width:800px; border: 1px solid var(--colab-border-color);\"><style>\n",
              "      pre.function-repr-contents {\n",
              "        overflow-x: auto;\n",
              "        padding: 8px 12px;\n",
              "        max-height: 500px;\n",
              "      }\n",
              "\n",
              "      pre.function-repr-contents.function-repr-contents-collapsed {\n",
              "        cursor: pointer;\n",
              "        max-height: 100px;\n",
              "      }\n",
              "    </style>\n",
              "    <pre style=\"white-space: initial; background:\n",
              "         var(--colab-secondary-surface-color); padding: 8px 12px;\n",
              "         border-bottom: 1px solid var(--colab-border-color);\"><b>pandas.core.frame.DataFrame</b><br/>def __init__(data=None, index: Axes | None=None, columns: Axes | None=None, dtype: Dtype | None=None, copy: bool | None=None) -&gt; None</pre><pre class=\"function-repr-contents function-repr-contents-collapsed\" style=\"\"><a class=\"filepath\" style=\"display:none\" href=\"#\">/usr/local/lib/python3.12/dist-packages/pandas/core/frame.py</a>Two-dimensional, size-mutable, potentially heterogeneous tabular data.\n",
              "\n",
              "Data structure also contains labeled axes (rows and columns).\n",
              "Arithmetic operations align on both row and column labels. Can be\n",
              "thought of as a dict-like container for Series objects. The primary\n",
              "pandas data structure.\n",
              "\n",
              "Parameters\n",
              "----------\n",
              "data : ndarray (structured or homogeneous), Iterable, dict, or DataFrame\n",
              "    Dict can contain Series, arrays, constants, dataclass or list-like objects. If\n",
              "    data is a dict, column order follows insertion-order. If a dict contains Series\n",
              "    which have an index defined, it is aligned by its index. This alignment also\n",
              "    occurs if data is a Series or a DataFrame itself. Alignment is done on\n",
              "    Series/DataFrame inputs.\n",
              "\n",
              "    If data is a list of dicts, column order follows insertion-order.\n",
              "\n",
              "index : Index or array-like\n",
              "    Index to use for resulting frame. Will default to RangeIndex if\n",
              "    no indexing information part of input data and no index provided.\n",
              "columns : Index or array-like\n",
              "    Column labels to use for resulting frame when data does not have them,\n",
              "    defaulting to RangeIndex(0, 1, 2, ..., n). If data contains column labels,\n",
              "    will perform column selection instead.\n",
              "dtype : dtype, default None\n",
              "    Data type to force. Only a single dtype is allowed. If None, infer.\n",
              "copy : bool or None, default None\n",
              "    Copy data from inputs.\n",
              "    For dict data, the default of None behaves like ``copy=True``.  For DataFrame\n",
              "    or 2d ndarray input, the default of None behaves like ``copy=False``.\n",
              "    If data is a dict containing one or more Series (possibly of different dtypes),\n",
              "    ``copy=False`` will ensure that these inputs are not copied.\n",
              "\n",
              "    .. versionchanged:: 1.3.0\n",
              "\n",
              "See Also\n",
              "--------\n",
              "DataFrame.from_records : Constructor from tuples, also record arrays.\n",
              "DataFrame.from_dict : From dicts of Series, arrays, or dicts.\n",
              "read_csv : Read a comma-separated values (csv) file into DataFrame.\n",
              "read_table : Read general delimited file into DataFrame.\n",
              "read_clipboard : Read text from clipboard into DataFrame.\n",
              "\n",
              "Notes\n",
              "-----\n",
              "Please reference the :ref:`User Guide &lt;basics.dataframe&gt;` for more information.\n",
              "\n",
              "Examples\n",
              "--------\n",
              "Constructing DataFrame from a dictionary.\n",
              "\n",
              "&gt;&gt;&gt; d = {&#x27;col1&#x27;: [1, 2], &#x27;col2&#x27;: [3, 4]}\n",
              "&gt;&gt;&gt; df = pd.DataFrame(data=d)\n",
              "&gt;&gt;&gt; df\n",
              "   col1  col2\n",
              "0     1     3\n",
              "1     2     4\n",
              "\n",
              "Notice that the inferred dtype is int64.\n",
              "\n",
              "&gt;&gt;&gt; df.dtypes\n",
              "col1    int64\n",
              "col2    int64\n",
              "dtype: object\n",
              "\n",
              "To enforce a single dtype:\n",
              "\n",
              "&gt;&gt;&gt; df = pd.DataFrame(data=d, dtype=np.int8)\n",
              "&gt;&gt;&gt; df.dtypes\n",
              "col1    int8\n",
              "col2    int8\n",
              "dtype: object\n",
              "\n",
              "Constructing DataFrame from a dictionary including Series:\n",
              "\n",
              "&gt;&gt;&gt; d = {&#x27;col1&#x27;: [0, 1, 2, 3], &#x27;col2&#x27;: pd.Series([2, 3], index=[2, 3])}\n",
              "&gt;&gt;&gt; pd.DataFrame(data=d, index=[0, 1, 2, 3])\n",
              "   col1  col2\n",
              "0     0   NaN\n",
              "1     1   NaN\n",
              "2     2   2.0\n",
              "3     3   3.0\n",
              "\n",
              "Constructing DataFrame from numpy ndarray:\n",
              "\n",
              "&gt;&gt;&gt; df2 = pd.DataFrame(np.array([[1, 2, 3], [4, 5, 6], [7, 8, 9]]),\n",
              "...                    columns=[&#x27;a&#x27;, &#x27;b&#x27;, &#x27;c&#x27;])\n",
              "&gt;&gt;&gt; df2\n",
              "   a  b  c\n",
              "0  1  2  3\n",
              "1  4  5  6\n",
              "2  7  8  9\n",
              "\n",
              "Constructing DataFrame from a numpy ndarray that has labeled columns:\n",
              "\n",
              "&gt;&gt;&gt; data = np.array([(1, 2, 3), (4, 5, 6), (7, 8, 9)],\n",
              "...                 dtype=[(&quot;a&quot;, &quot;i4&quot;), (&quot;b&quot;, &quot;i4&quot;), (&quot;c&quot;, &quot;i4&quot;)])\n",
              "&gt;&gt;&gt; df3 = pd.DataFrame(data, columns=[&#x27;c&#x27;, &#x27;a&#x27;])\n",
              "...\n",
              "&gt;&gt;&gt; df3\n",
              "   c  a\n",
              "0  3  1\n",
              "1  6  4\n",
              "2  9  7\n",
              "\n",
              "Constructing DataFrame from dataclass:\n",
              "\n",
              "&gt;&gt;&gt; from dataclasses import make_dataclass\n",
              "&gt;&gt;&gt; Point = make_dataclass(&quot;Point&quot;, [(&quot;x&quot;, int), (&quot;y&quot;, int)])\n",
              "&gt;&gt;&gt; pd.DataFrame([Point(0, 0), Point(0, 3), Point(2, 3)])\n",
              "   x  y\n",
              "0  0  0\n",
              "1  0  3\n",
              "2  2  3\n",
              "\n",
              "Constructing DataFrame from Series/DataFrame:\n",
              "\n",
              "&gt;&gt;&gt; ser = pd.Series([1, 2, 3], index=[&quot;a&quot;, &quot;b&quot;, &quot;c&quot;])\n",
              "&gt;&gt;&gt; df = pd.DataFrame(data=ser, index=[&quot;a&quot;, &quot;c&quot;])\n",
              "&gt;&gt;&gt; df\n",
              "   0\n",
              "a  1\n",
              "c  3\n",
              "\n",
              "&gt;&gt;&gt; df1 = pd.DataFrame([1, 2, 3], index=[&quot;a&quot;, &quot;b&quot;, &quot;c&quot;], columns=[&quot;x&quot;])\n",
              "&gt;&gt;&gt; df2 = pd.DataFrame(data=df1, index=[&quot;a&quot;, &quot;c&quot;])\n",
              "&gt;&gt;&gt; df2\n",
              "   x\n",
              "a  1\n",
              "c  3</pre>\n",
              "      <script>\n",
              "      if (google.colab.kernel.accessAllowed && google.colab.files && google.colab.files.view) {\n",
              "        for (const element of document.querySelectorAll('.filepath')) {\n",
              "          element.style.display = 'block'\n",
              "          element.onclick = (event) => {\n",
              "            event.preventDefault();\n",
              "            event.stopPropagation();\n",
              "            google.colab.files.view(element.textContent, 509);\n",
              "          };\n",
              "        }\n",
              "      }\n",
              "      for (const element of document.querySelectorAll('.function-repr-contents')) {\n",
              "        element.onclick = (event) => {\n",
              "          event.preventDefault();\n",
              "          event.stopPropagation();\n",
              "          element.classList.toggle('function-repr-contents-collapsed');\n",
              "        };\n",
              "      }\n",
              "      </script>\n",
              "      </div>"
            ]
          },
          "metadata": {},
          "execution_count": 8
        }
      ]
    },
    {
      "cell_type": "code",
      "execution_count": 15,
      "metadata": {
        "id": "ri3iSyH3imu_",
        "outputId": "fddc8d6a-660e-41ff-d08f-8773faf7f0b2",
        "colab": {
          "base_uri": "https://localhost:8080/",
          "height": 458
        }
      },
      "outputs": [
        {
          "output_type": "execute_result",
          "data": {
            "text/plain": [
              "0      Grass / Poison\n",
              "1      Grass / Poison\n",
              "2      Grass / Poison\n",
              "3                Fire\n",
              "4                Fire\n",
              "            ...      \n",
              "804      Rock / Steel\n",
              "805      Fire / Ghost\n",
              "806          Electric\n",
              "807             Steel\n",
              "808             Steel\n",
              "Name: Type, Length: 809, dtype: object"
            ],
            "text/html": [
              "<div>\n",
              "<style scoped>\n",
              "    .dataframe tbody tr th:only-of-type {\n",
              "        vertical-align: middle;\n",
              "    }\n",
              "\n",
              "    .dataframe tbody tr th {\n",
              "        vertical-align: top;\n",
              "    }\n",
              "\n",
              "    .dataframe thead th {\n",
              "        text-align: right;\n",
              "    }\n",
              "</style>\n",
              "<table border=\"1\" class=\"dataframe\">\n",
              "  <thead>\n",
              "    <tr style=\"text-align: right;\">\n",
              "      <th></th>\n",
              "      <th>Type</th>\n",
              "    </tr>\n",
              "  </thead>\n",
              "  <tbody>\n",
              "    <tr>\n",
              "      <th>0</th>\n",
              "      <td>Grass / Poison</td>\n",
              "    </tr>\n",
              "    <tr>\n",
              "      <th>1</th>\n",
              "      <td>Grass / Poison</td>\n",
              "    </tr>\n",
              "    <tr>\n",
              "      <th>2</th>\n",
              "      <td>Grass / Poison</td>\n",
              "    </tr>\n",
              "    <tr>\n",
              "      <th>3</th>\n",
              "      <td>Fire</td>\n",
              "    </tr>\n",
              "    <tr>\n",
              "      <th>4</th>\n",
              "      <td>Fire</td>\n",
              "    </tr>\n",
              "    <tr>\n",
              "      <th>...</th>\n",
              "      <td>...</td>\n",
              "    </tr>\n",
              "    <tr>\n",
              "      <th>804</th>\n",
              "      <td>Rock / Steel</td>\n",
              "    </tr>\n",
              "    <tr>\n",
              "      <th>805</th>\n",
              "      <td>Fire / Ghost</td>\n",
              "    </tr>\n",
              "    <tr>\n",
              "      <th>806</th>\n",
              "      <td>Electric</td>\n",
              "    </tr>\n",
              "    <tr>\n",
              "      <th>807</th>\n",
              "      <td>Steel</td>\n",
              "    </tr>\n",
              "    <tr>\n",
              "      <th>808</th>\n",
              "      <td>Steel</td>\n",
              "    </tr>\n",
              "  </tbody>\n",
              "</table>\n",
              "<p>809 rows × 1 columns</p>\n",
              "</div><br><label><b>dtype:</b> object</label>"
            ]
          },
          "metadata": {},
          "execution_count": 15
        }
      ],
      "source": [
        "df = pd.read_csv(\"3-pokemon.csv\")\n",
        "s = df[\"Type\"]\n",
        "s = df[ df.columns[1] ]\n",
        "s"
      ]
    },
    {
      "cell_type": "code",
      "source": [
        "for i in df.columns:\n",
        "  print(i)"
      ],
      "metadata": {
        "id": "GoGwvYVr9rL_",
        "outputId": "ba99c542-15a9-4b86-bd63-6ca8c8dbfc26",
        "colab": {
          "base_uri": "https://localhost:8080/"
        }
      },
      "execution_count": 17,
      "outputs": [
        {
          "output_type": "stream",
          "name": "stdout",
          "text": [
            "Pokemon\n",
            "Type\n"
          ]
        }
      ]
    },
    {
      "cell_type": "code",
      "execution_count": 44,
      "metadata": {
        "id": "mncFAVcqimvA"
      },
      "outputs": [],
      "source": [
        "pokemon = pd.read_csv(\n",
        "    \"3-pokemon.csv\",\n",
        "    index_col = \"Pokemon\"\n",
        ")['Type']"
      ]
    },
    {
      "cell_type": "code",
      "execution_count": 18,
      "metadata": {
        "id": "mOXF821KimvA",
        "outputId": "b5f52a21-2a3e-4e05-f5c8-0a1cf9e98da9",
        "colab": {
          "base_uri": "https://localhost:8080/",
          "height": 206
        }
      },
      "outputs": [
        {
          "output_type": "execute_result",
          "data": {
            "text/plain": [
              "         Date  Close\n",
              "0  2004-08-19  49.98\n",
              "1  2004-08-20  53.95\n",
              "2  2004-08-23  54.50\n",
              "3  2004-08-24  52.24\n",
              "4  2004-08-25  52.80"
            ],
            "text/html": [
              "\n",
              "  <div id=\"df-a5900d51-2ae3-449b-923d-f53f57ce1de1\" class=\"colab-df-container\">\n",
              "    <div>\n",
              "<style scoped>\n",
              "    .dataframe tbody tr th:only-of-type {\n",
              "        vertical-align: middle;\n",
              "    }\n",
              "\n",
              "    .dataframe tbody tr th {\n",
              "        vertical-align: top;\n",
              "    }\n",
              "\n",
              "    .dataframe thead th {\n",
              "        text-align: right;\n",
              "    }\n",
              "</style>\n",
              "<table border=\"1\" class=\"dataframe\">\n",
              "  <thead>\n",
              "    <tr style=\"text-align: right;\">\n",
              "      <th></th>\n",
              "      <th>Date</th>\n",
              "      <th>Close</th>\n",
              "    </tr>\n",
              "  </thead>\n",
              "  <tbody>\n",
              "    <tr>\n",
              "      <th>0</th>\n",
              "      <td>2004-08-19</td>\n",
              "      <td>49.98</td>\n",
              "    </tr>\n",
              "    <tr>\n",
              "      <th>1</th>\n",
              "      <td>2004-08-20</td>\n",
              "      <td>53.95</td>\n",
              "    </tr>\n",
              "    <tr>\n",
              "      <th>2</th>\n",
              "      <td>2004-08-23</td>\n",
              "      <td>54.50</td>\n",
              "    </tr>\n",
              "    <tr>\n",
              "      <th>3</th>\n",
              "      <td>2004-08-24</td>\n",
              "      <td>52.24</td>\n",
              "    </tr>\n",
              "    <tr>\n",
              "      <th>4</th>\n",
              "      <td>2004-08-25</td>\n",
              "      <td>52.80</td>\n",
              "    </tr>\n",
              "  </tbody>\n",
              "</table>\n",
              "</div>\n",
              "    <div class=\"colab-df-buttons\">\n",
              "\n",
              "  <div class=\"colab-df-container\">\n",
              "    <button class=\"colab-df-convert\" onclick=\"convertToInteractive('df-a5900d51-2ae3-449b-923d-f53f57ce1de1')\"\n",
              "            title=\"Convert this dataframe to an interactive table.\"\n",
              "            style=\"display:none;\">\n",
              "\n",
              "  <svg xmlns=\"http://www.w3.org/2000/svg\" height=\"24px\" viewBox=\"0 -960 960 960\">\n",
              "    <path d=\"M120-120v-720h720v720H120Zm60-500h600v-160H180v160Zm220 220h160v-160H400v160Zm0 220h160v-160H400v160ZM180-400h160v-160H180v160Zm440 0h160v-160H620v160ZM180-180h160v-160H180v160Zm440 0h160v-160H620v160Z\"/>\n",
              "  </svg>\n",
              "    </button>\n",
              "\n",
              "  <style>\n",
              "    .colab-df-container {\n",
              "      display:flex;\n",
              "      gap: 12px;\n",
              "    }\n",
              "\n",
              "    .colab-df-convert {\n",
              "      background-color: #E8F0FE;\n",
              "      border: none;\n",
              "      border-radius: 50%;\n",
              "      cursor: pointer;\n",
              "      display: none;\n",
              "      fill: #1967D2;\n",
              "      height: 32px;\n",
              "      padding: 0 0 0 0;\n",
              "      width: 32px;\n",
              "    }\n",
              "\n",
              "    .colab-df-convert:hover {\n",
              "      background-color: #E2EBFA;\n",
              "      box-shadow: 0px 1px 2px rgba(60, 64, 67, 0.3), 0px 1px 3px 1px rgba(60, 64, 67, 0.15);\n",
              "      fill: #174EA6;\n",
              "    }\n",
              "\n",
              "    .colab-df-buttons div {\n",
              "      margin-bottom: 4px;\n",
              "    }\n",
              "\n",
              "    [theme=dark] .colab-df-convert {\n",
              "      background-color: #3B4455;\n",
              "      fill: #D2E3FC;\n",
              "    }\n",
              "\n",
              "    [theme=dark] .colab-df-convert:hover {\n",
              "      background-color: #434B5C;\n",
              "      box-shadow: 0px 1px 3px 1px rgba(0, 0, 0, 0.15);\n",
              "      filter: drop-shadow(0px 1px 2px rgba(0, 0, 0, 0.3));\n",
              "      fill: #FFFFFF;\n",
              "    }\n",
              "  </style>\n",
              "\n",
              "    <script>\n",
              "      const buttonEl =\n",
              "        document.querySelector('#df-a5900d51-2ae3-449b-923d-f53f57ce1de1 button.colab-df-convert');\n",
              "      buttonEl.style.display =\n",
              "        google.colab.kernel.accessAllowed ? 'block' : 'none';\n",
              "\n",
              "      async function convertToInteractive(key) {\n",
              "        const element = document.querySelector('#df-a5900d51-2ae3-449b-923d-f53f57ce1de1');\n",
              "        const dataTable =\n",
              "          await google.colab.kernel.invokeFunction('convertToInteractive',\n",
              "                                                    [key], {});\n",
              "        if (!dataTable) return;\n",
              "\n",
              "        const docLinkHtml = 'Like what you see? Visit the ' +\n",
              "          '<a target=\"_blank\" href=https://colab.research.google.com/notebooks/data_table.ipynb>data table notebook</a>'\n",
              "          + ' to learn more about interactive tables.';\n",
              "        element.innerHTML = '';\n",
              "        dataTable['output_type'] = 'display_data';\n",
              "        await google.colab.output.renderOutput(dataTable, element);\n",
              "        const docLink = document.createElement('div');\n",
              "        docLink.innerHTML = docLinkHtml;\n",
              "        element.appendChild(docLink);\n",
              "      }\n",
              "    </script>\n",
              "  </div>\n",
              "\n",
              "\n",
              "    <div id=\"df-dfc87971-2046-47ac-9500-b0dce04a0a22\">\n",
              "      <button class=\"colab-df-quickchart\" onclick=\"quickchart('df-dfc87971-2046-47ac-9500-b0dce04a0a22')\"\n",
              "                title=\"Suggest charts\"\n",
              "                style=\"display:none;\">\n",
              "\n",
              "<svg xmlns=\"http://www.w3.org/2000/svg\" height=\"24px\"viewBox=\"0 0 24 24\"\n",
              "     width=\"24px\">\n",
              "    <g>\n",
              "        <path d=\"M19 3H5c-1.1 0-2 .9-2 2v14c0 1.1.9 2 2 2h14c1.1 0 2-.9 2-2V5c0-1.1-.9-2-2-2zM9 17H7v-7h2v7zm4 0h-2V7h2v10zm4 0h-2v-4h2v4z\"/>\n",
              "    </g>\n",
              "</svg>\n",
              "      </button>\n",
              "\n",
              "<style>\n",
              "  .colab-df-quickchart {\n",
              "      --bg-color: #E8F0FE;\n",
              "      --fill-color: #1967D2;\n",
              "      --hover-bg-color: #E2EBFA;\n",
              "      --hover-fill-color: #174EA6;\n",
              "      --disabled-fill-color: #AAA;\n",
              "      --disabled-bg-color: #DDD;\n",
              "  }\n",
              "\n",
              "  [theme=dark] .colab-df-quickchart {\n",
              "      --bg-color: #3B4455;\n",
              "      --fill-color: #D2E3FC;\n",
              "      --hover-bg-color: #434B5C;\n",
              "      --hover-fill-color: #FFFFFF;\n",
              "      --disabled-bg-color: #3B4455;\n",
              "      --disabled-fill-color: #666;\n",
              "  }\n",
              "\n",
              "  .colab-df-quickchart {\n",
              "    background-color: var(--bg-color);\n",
              "    border: none;\n",
              "    border-radius: 50%;\n",
              "    cursor: pointer;\n",
              "    display: none;\n",
              "    fill: var(--fill-color);\n",
              "    height: 32px;\n",
              "    padding: 0;\n",
              "    width: 32px;\n",
              "  }\n",
              "\n",
              "  .colab-df-quickchart:hover {\n",
              "    background-color: var(--hover-bg-color);\n",
              "    box-shadow: 0 1px 2px rgba(60, 64, 67, 0.3), 0 1px 3px 1px rgba(60, 64, 67, 0.15);\n",
              "    fill: var(--button-hover-fill-color);\n",
              "  }\n",
              "\n",
              "  .colab-df-quickchart-complete:disabled,\n",
              "  .colab-df-quickchart-complete:disabled:hover {\n",
              "    background-color: var(--disabled-bg-color);\n",
              "    fill: var(--disabled-fill-color);\n",
              "    box-shadow: none;\n",
              "  }\n",
              "\n",
              "  .colab-df-spinner {\n",
              "    border: 2px solid var(--fill-color);\n",
              "    border-color: transparent;\n",
              "    border-bottom-color: var(--fill-color);\n",
              "    animation:\n",
              "      spin 1s steps(1) infinite;\n",
              "  }\n",
              "\n",
              "  @keyframes spin {\n",
              "    0% {\n",
              "      border-color: transparent;\n",
              "      border-bottom-color: var(--fill-color);\n",
              "      border-left-color: var(--fill-color);\n",
              "    }\n",
              "    20% {\n",
              "      border-color: transparent;\n",
              "      border-left-color: var(--fill-color);\n",
              "      border-top-color: var(--fill-color);\n",
              "    }\n",
              "    30% {\n",
              "      border-color: transparent;\n",
              "      border-left-color: var(--fill-color);\n",
              "      border-top-color: var(--fill-color);\n",
              "      border-right-color: var(--fill-color);\n",
              "    }\n",
              "    40% {\n",
              "      border-color: transparent;\n",
              "      border-right-color: var(--fill-color);\n",
              "      border-top-color: var(--fill-color);\n",
              "    }\n",
              "    60% {\n",
              "      border-color: transparent;\n",
              "      border-right-color: var(--fill-color);\n",
              "    }\n",
              "    80% {\n",
              "      border-color: transparent;\n",
              "      border-right-color: var(--fill-color);\n",
              "      border-bottom-color: var(--fill-color);\n",
              "    }\n",
              "    90% {\n",
              "      border-color: transparent;\n",
              "      border-bottom-color: var(--fill-color);\n",
              "    }\n",
              "  }\n",
              "</style>\n",
              "\n",
              "      <script>\n",
              "        async function quickchart(key) {\n",
              "          const quickchartButtonEl =\n",
              "            document.querySelector('#' + key + ' button');\n",
              "          quickchartButtonEl.disabled = true;  // To prevent multiple clicks.\n",
              "          quickchartButtonEl.classList.add('colab-df-spinner');\n",
              "          try {\n",
              "            const charts = await google.colab.kernel.invokeFunction(\n",
              "                'suggestCharts', [key], {});\n",
              "          } catch (error) {\n",
              "            console.error('Error during call to suggestCharts:', error);\n",
              "          }\n",
              "          quickchartButtonEl.classList.remove('colab-df-spinner');\n",
              "          quickchartButtonEl.classList.add('colab-df-quickchart-complete');\n",
              "        }\n",
              "        (() => {\n",
              "          let quickchartButtonEl =\n",
              "            document.querySelector('#df-dfc87971-2046-47ac-9500-b0dce04a0a22 button');\n",
              "          quickchartButtonEl.style.display =\n",
              "            google.colab.kernel.accessAllowed ? 'block' : 'none';\n",
              "        })();\n",
              "      </script>\n",
              "    </div>\n",
              "    </div>\n",
              "  </div>\n"
            ],
            "application/vnd.google.colaboratory.intrinsic+json": {
              "type": "dataframe",
              "summary": "{\n  \"name\": \"pd\",\n  \"rows\": 5,\n  \"fields\": [\n    {\n      \"column\": \"Date\",\n      \"properties\": {\n        \"dtype\": \"object\",\n        \"num_unique_values\": 5,\n        \"samples\": [\n          \"2004-08-20\",\n          \"2004-08-25\",\n          \"2004-08-23\"\n        ],\n        \"semantic_type\": \"\",\n        \"description\": \"\"\n      }\n    },\n    {\n      \"column\": \"Close\",\n      \"properties\": {\n        \"dtype\": \"number\",\n        \"std\": 1.762265587248416,\n        \"min\": 49.98,\n        \"max\": 54.5,\n        \"num_unique_values\": 5,\n        \"samples\": [\n          53.95,\n          52.8,\n          54.5\n        ],\n        \"semantic_type\": \"\",\n        \"description\": \"\"\n      }\n    }\n  ]\n}"
            }
          },
          "metadata": {},
          "execution_count": 18
        }
      ],
      "source": [
        "pd.read_csv(\"3-google_stocks.csv\").head()"
      ]
    },
    {
      "cell_type": "code",
      "execution_count": 23,
      "metadata": {
        "id": "n8jtgUl9imvA",
        "outputId": "b7d28efb-8899-40e5-b97e-758163295671",
        "colab": {
          "base_uri": "https://localhost:8080/",
          "height": 272
        }
      },
      "outputs": [
        {
          "output_type": "execute_result",
          "data": {
            "text/plain": [
              "Date\n",
              "2004-08-19    49.98\n",
              "2004-08-20    53.95\n",
              "2004-08-23    54.50\n",
              "2004-08-24    52.24\n",
              "2004-08-25    52.80\n",
              "Name: Close, dtype: float64"
            ],
            "text/html": [
              "<div>\n",
              "<style scoped>\n",
              "    .dataframe tbody tr th:only-of-type {\n",
              "        vertical-align: middle;\n",
              "    }\n",
              "\n",
              "    .dataframe tbody tr th {\n",
              "        vertical-align: top;\n",
              "    }\n",
              "\n",
              "    .dataframe thead th {\n",
              "        text-align: right;\n",
              "    }\n",
              "</style>\n",
              "<table border=\"1\" class=\"dataframe\">\n",
              "  <thead>\n",
              "    <tr style=\"text-align: right;\">\n",
              "      <th></th>\n",
              "      <th>Close</th>\n",
              "    </tr>\n",
              "    <tr>\n",
              "      <th>Date</th>\n",
              "      <th></th>\n",
              "    </tr>\n",
              "  </thead>\n",
              "  <tbody>\n",
              "    <tr>\n",
              "      <th>2004-08-19</th>\n",
              "      <td>49.98</td>\n",
              "    </tr>\n",
              "    <tr>\n",
              "      <th>2004-08-20</th>\n",
              "      <td>53.95</td>\n",
              "    </tr>\n",
              "    <tr>\n",
              "      <th>2004-08-23</th>\n",
              "      <td>54.50</td>\n",
              "    </tr>\n",
              "    <tr>\n",
              "      <th>2004-08-24</th>\n",
              "      <td>52.24</td>\n",
              "    </tr>\n",
              "    <tr>\n",
              "      <th>2004-08-25</th>\n",
              "      <td>52.80</td>\n",
              "    </tr>\n",
              "  </tbody>\n",
              "</table>\n",
              "</div><br><label><b>dtype:</b> float64</label>"
            ]
          },
          "metadata": {},
          "execution_count": 23
        }
      ],
      "source": [
        "pd.read_csv(\n",
        "    \"3-google_stocks.csv\",\n",
        "    parse_dates = [\"Date\"],\n",
        "    index_col = \"Date\"\n",
        ")['Close'].head()"
      ]
    },
    {
      "cell_type": "code",
      "execution_count": null,
      "metadata": {
        "id": "uOjIN-nLimvA",
        "outputId": "847c4e0d-afdc-43a5-e3ed-683e08ba33f4"
      },
      "outputs": [
        {
          "data": {
            "text/plain": [
              "Date\n",
              "2004-08-19    49.98\n",
              "2004-08-20    53.95\n",
              "2004-08-23    54.50\n",
              "2004-08-24    52.24\n",
              "2004-08-25    52.80\n",
              "Name: Close, dtype: float64"
            ]
          },
          "execution_count": 8,
          "metadata": {},
          "output_type": "execute_result"
        }
      ],
      "source": [
        "pd.read_csv(\n",
        "    \"google_stocks.csv\",\n",
        "    parse_dates = [\"Date\"],\n",
        "    index_col = \"Date\",\n",
        "    squeeze = True\n",
        ").head()"
      ]
    },
    {
      "cell_type": "code",
      "execution_count": 36,
      "metadata": {
        "id": "mGMRYsLJimvB",
        "outputId": "dbec95c7-f642-4266-8e9f-29296b5dfe4a",
        "colab": {
          "base_uri": "https://localhost:8080/",
          "height": 489
        }
      },
      "outputs": [
        {
          "output_type": "execute_result",
          "data": {
            "text/plain": [
              "Date\n",
              "2004-08-19      49.98\n",
              "2004-08-20      53.95\n",
              "2004-08-23      54.50\n",
              "2004-08-24      52.24\n",
              "2004-08-25      52.80\n",
              "               ...   \n",
              "2019-10-21    1246.15\n",
              "2019-10-22    1242.80\n",
              "2019-10-23    1259.13\n",
              "2019-10-24    1260.99\n",
              "2019-10-25    1265.13\n",
              "Name: Close, Length: 3824, dtype: float64"
            ],
            "text/html": [
              "<div>\n",
              "<style scoped>\n",
              "    .dataframe tbody tr th:only-of-type {\n",
              "        vertical-align: middle;\n",
              "    }\n",
              "\n",
              "    .dataframe tbody tr th {\n",
              "        vertical-align: top;\n",
              "    }\n",
              "\n",
              "    .dataframe thead th {\n",
              "        text-align: right;\n",
              "    }\n",
              "</style>\n",
              "<table border=\"1\" class=\"dataframe\">\n",
              "  <thead>\n",
              "    <tr style=\"text-align: right;\">\n",
              "      <th></th>\n",
              "      <th>Close</th>\n",
              "    </tr>\n",
              "    <tr>\n",
              "      <th>Date</th>\n",
              "      <th></th>\n",
              "    </tr>\n",
              "  </thead>\n",
              "  <tbody>\n",
              "    <tr>\n",
              "      <th>2004-08-19</th>\n",
              "      <td>49.98</td>\n",
              "    </tr>\n",
              "    <tr>\n",
              "      <th>2004-08-20</th>\n",
              "      <td>53.95</td>\n",
              "    </tr>\n",
              "    <tr>\n",
              "      <th>2004-08-23</th>\n",
              "      <td>54.50</td>\n",
              "    </tr>\n",
              "    <tr>\n",
              "      <th>2004-08-24</th>\n",
              "      <td>52.24</td>\n",
              "    </tr>\n",
              "    <tr>\n",
              "      <th>2004-08-25</th>\n",
              "      <td>52.80</td>\n",
              "    </tr>\n",
              "    <tr>\n",
              "      <th>...</th>\n",
              "      <td>...</td>\n",
              "    </tr>\n",
              "    <tr>\n",
              "      <th>2019-10-21</th>\n",
              "      <td>1246.15</td>\n",
              "    </tr>\n",
              "    <tr>\n",
              "      <th>2019-10-22</th>\n",
              "      <td>1242.80</td>\n",
              "    </tr>\n",
              "    <tr>\n",
              "      <th>2019-10-23</th>\n",
              "      <td>1259.13</td>\n",
              "    </tr>\n",
              "    <tr>\n",
              "      <th>2019-10-24</th>\n",
              "      <td>1260.99</td>\n",
              "    </tr>\n",
              "    <tr>\n",
              "      <th>2019-10-25</th>\n",
              "      <td>1265.13</td>\n",
              "    </tr>\n",
              "  </tbody>\n",
              "</table>\n",
              "<p>3824 rows × 1 columns</p>\n",
              "</div><br><label><b>dtype:</b> float64</label>"
            ]
          },
          "metadata": {},
          "execution_count": 36
        }
      ],
      "source": [
        "google = pd.read_csv(\n",
        "    \"3-google_stocks.csv\",\n",
        "    parse_dates = [\"Date\"],\n",
        "    index_col = \"Date\"\n",
        ")['Close']\n",
        "google"
      ]
    },
    {
      "cell_type": "code",
      "execution_count": null,
      "metadata": {
        "id": "U9jWoR6EimvB",
        "outputId": "7db8b169-9833-41ef-8bbf-7a34d303e695"
      },
      "outputs": [
        {
          "data": {
            "text/html": [
              "<div>\n",
              "<style scoped>\n",
              "    .dataframe tbody tr th:only-of-type {\n",
              "        vertical-align: middle;\n",
              "    }\n",
              "\n",
              "    .dataframe tbody tr th {\n",
              "        vertical-align: top;\n",
              "    }\n",
              "\n",
              "    .dataframe thead th {\n",
              "        text-align: right;\n",
              "    }\n",
              "</style>\n",
              "<table border=\"1\" class=\"dataframe\">\n",
              "  <thead>\n",
              "    <tr style=\"text-align: right;\">\n",
              "      <th></th>\n",
              "      <th>Battle</th>\n",
              "      <th>Start Date</th>\n",
              "      <th>State</th>\n",
              "    </tr>\n",
              "  </thead>\n",
              "  <tbody>\n",
              "    <tr>\n",
              "      <th>227</th>\n",
              "      <td>Siege of Fort Henry</td>\n",
              "      <td>9/11/1782</td>\n",
              "      <td>Virginia</td>\n",
              "    </tr>\n",
              "    <tr>\n",
              "      <th>228</th>\n",
              "      <td>Grand Assault on Gibraltar</td>\n",
              "      <td>9/13/1782</td>\n",
              "      <td>NaN</td>\n",
              "    </tr>\n",
              "    <tr>\n",
              "      <th>229</th>\n",
              "      <td>Action of 18 October 1782</td>\n",
              "      <td>10/18/1782</td>\n",
              "      <td>NaN</td>\n",
              "    </tr>\n",
              "    <tr>\n",
              "      <th>230</th>\n",
              "      <td>Action of 6 December 1782</td>\n",
              "      <td>12/6/1782</td>\n",
              "      <td>NaN</td>\n",
              "    </tr>\n",
              "    <tr>\n",
              "      <th>231</th>\n",
              "      <td>Action of 22 January 1783</td>\n",
              "      <td>1/22/1783</td>\n",
              "      <td>Virginia</td>\n",
              "    </tr>\n",
              "  </tbody>\n",
              "</table>\n",
              "</div>"
            ],
            "text/plain": [
              "                         Battle  Start Date     State\n",
              "227         Siege of Fort Henry   9/11/1782  Virginia\n",
              "228  Grand Assault on Gibraltar   9/13/1782       NaN\n",
              "229   Action of 18 October 1782  10/18/1782       NaN\n",
              "230   Action of 6 December 1782   12/6/1782       NaN\n",
              "231   Action of 22 January 1783   1/22/1783  Virginia"
            ]
          },
          "execution_count": 10,
          "metadata": {},
          "output_type": "execute_result"
        }
      ],
      "source": [
        "pd.read_csv(\"revolutionary_war.csv\").tail()"
      ]
    },
    {
      "cell_type": "code",
      "execution_count": null,
      "metadata": {
        "id": "wVJoGlFsimvB",
        "outputId": "67c8fcff-dc9d-4558-f2cf-8e20b98c3acf"
      },
      "outputs": [
        {
          "data": {
            "text/html": [
              "<div>\n",
              "<style scoped>\n",
              "    .dataframe tbody tr th:only-of-type {\n",
              "        vertical-align: middle;\n",
              "    }\n",
              "\n",
              "    .dataframe tbody tr th {\n",
              "        vertical-align: top;\n",
              "    }\n",
              "\n",
              "    .dataframe thead th {\n",
              "        text-align: right;\n",
              "    }\n",
              "</style>\n",
              "<table border=\"1\" class=\"dataframe\">\n",
              "  <thead>\n",
              "    <tr style=\"text-align: right;\">\n",
              "      <th></th>\n",
              "      <th>Battle</th>\n",
              "      <th>State</th>\n",
              "    </tr>\n",
              "    <tr>\n",
              "      <th>Start Date</th>\n",
              "      <th></th>\n",
              "      <th></th>\n",
              "    </tr>\n",
              "  </thead>\n",
              "  <tbody>\n",
              "    <tr>\n",
              "      <th>1782-09-11</th>\n",
              "      <td>Siege of Fort Henry</td>\n",
              "      <td>Virginia</td>\n",
              "    </tr>\n",
              "    <tr>\n",
              "      <th>1782-09-13</th>\n",
              "      <td>Grand Assault on Gibraltar</td>\n",
              "      <td>NaN</td>\n",
              "    </tr>\n",
              "    <tr>\n",
              "      <th>1782-10-18</th>\n",
              "      <td>Action of 18 October 1782</td>\n",
              "      <td>NaN</td>\n",
              "    </tr>\n",
              "    <tr>\n",
              "      <th>1782-12-06</th>\n",
              "      <td>Action of 6 December 1782</td>\n",
              "      <td>NaN</td>\n",
              "    </tr>\n",
              "    <tr>\n",
              "      <th>1783-01-22</th>\n",
              "      <td>Action of 22 January 1783</td>\n",
              "      <td>Virginia</td>\n",
              "    </tr>\n",
              "  </tbody>\n",
              "</table>\n",
              "</div>"
            ],
            "text/plain": [
              "                                Battle     State\n",
              "Start Date                                      \n",
              "1782-09-11         Siege of Fort Henry  Virginia\n",
              "1782-09-13  Grand Assault on Gibraltar       NaN\n",
              "1782-10-18   Action of 18 October 1782       NaN\n",
              "1782-12-06   Action of 6 December 1782       NaN\n",
              "1783-01-22   Action of 22 January 1783  Virginia"
            ]
          },
          "execution_count": 11,
          "metadata": {},
          "output_type": "execute_result"
        }
      ],
      "source": [
        "pd.read_csv(\n",
        "    \"revolutionary_war.csv\",\n",
        "    index_col = \"Start Date\",\n",
        "    parse_dates = [\"Start Date\"],\n",
        ").tail()"
      ]
    },
    {
      "cell_type": "code",
      "execution_count": 25,
      "metadata": {
        "id": "d_d3VltEimvC",
        "outputId": "99307b23-cd6e-4116-b2bf-bfa08c8e6bfb",
        "colab": {
          "base_uri": "https://localhost:8080/",
          "height": 272
        }
      },
      "outputs": [
        {
          "output_type": "execute_result",
          "data": {
            "text/plain": [
              "Start Date\n",
              "1782-09-11    Virginia\n",
              "1782-09-13         NaN\n",
              "1782-10-18         NaN\n",
              "1782-12-06         NaN\n",
              "1783-01-22    Virginia\n",
              "Name: State, dtype: object"
            ],
            "text/html": [
              "<div>\n",
              "<style scoped>\n",
              "    .dataframe tbody tr th:only-of-type {\n",
              "        vertical-align: middle;\n",
              "    }\n",
              "\n",
              "    .dataframe tbody tr th {\n",
              "        vertical-align: top;\n",
              "    }\n",
              "\n",
              "    .dataframe thead th {\n",
              "        text-align: right;\n",
              "    }\n",
              "</style>\n",
              "<table border=\"1\" class=\"dataframe\">\n",
              "  <thead>\n",
              "    <tr style=\"text-align: right;\">\n",
              "      <th></th>\n",
              "      <th>State</th>\n",
              "    </tr>\n",
              "    <tr>\n",
              "      <th>Start Date</th>\n",
              "      <th></th>\n",
              "    </tr>\n",
              "  </thead>\n",
              "  <tbody>\n",
              "    <tr>\n",
              "      <th>1782-09-11</th>\n",
              "      <td>Virginia</td>\n",
              "    </tr>\n",
              "    <tr>\n",
              "      <th>1782-09-13</th>\n",
              "      <td>NaN</td>\n",
              "    </tr>\n",
              "    <tr>\n",
              "      <th>1782-10-18</th>\n",
              "      <td>NaN</td>\n",
              "    </tr>\n",
              "    <tr>\n",
              "      <th>1782-12-06</th>\n",
              "      <td>NaN</td>\n",
              "    </tr>\n",
              "    <tr>\n",
              "      <th>1783-01-22</th>\n",
              "      <td>Virginia</td>\n",
              "    </tr>\n",
              "  </tbody>\n",
              "</table>\n",
              "</div><br><label><b>dtype:</b> object</label>"
            ]
          },
          "metadata": {},
          "execution_count": 25
        }
      ],
      "source": [
        "pd.read_csv(\n",
        "    \"3-revolutionary_war.csv\",\n",
        "    index_col = \"Start Date\",\n",
        "    parse_dates = [\"Start Date\"],\n",
        "    usecols = [\"State\", \"Start Date\"]\n",
        ")['State'].tail()"
      ]
    },
    {
      "cell_type": "code",
      "execution_count": 28,
      "metadata": {
        "id": "faH0KPYVimvC",
        "outputId": "86725312-6612-4a22-d243-b778699c629e",
        "colab": {
          "base_uri": "https://localhost:8080/",
          "height": 489
        }
      },
      "outputs": [
        {
          "output_type": "execute_result",
          "data": {
            "text/plain": [
              "Start Date\n",
              "1774-09-01    Massachusetts\n",
              "1774-12-14    New Hampshire\n",
              "1775-04-19    Massachusetts\n",
              "1775-04-19    Massachusetts\n",
              "1775-04-20         Virginia\n",
              "                  ...      \n",
              "1782-09-11         Virginia\n",
              "1782-09-13              NaN\n",
              "1782-10-18              NaN\n",
              "1782-12-06              NaN\n",
              "1783-01-22         Virginia\n",
              "Name: State, Length: 232, dtype: object"
            ],
            "text/html": [
              "<div>\n",
              "<style scoped>\n",
              "    .dataframe tbody tr th:only-of-type {\n",
              "        vertical-align: middle;\n",
              "    }\n",
              "\n",
              "    .dataframe tbody tr th {\n",
              "        vertical-align: top;\n",
              "    }\n",
              "\n",
              "    .dataframe thead th {\n",
              "        text-align: right;\n",
              "    }\n",
              "</style>\n",
              "<table border=\"1\" class=\"dataframe\">\n",
              "  <thead>\n",
              "    <tr style=\"text-align: right;\">\n",
              "      <th></th>\n",
              "      <th>State</th>\n",
              "    </tr>\n",
              "    <tr>\n",
              "      <th>Start Date</th>\n",
              "      <th></th>\n",
              "    </tr>\n",
              "  </thead>\n",
              "  <tbody>\n",
              "    <tr>\n",
              "      <th>1774-09-01</th>\n",
              "      <td>Massachusetts</td>\n",
              "    </tr>\n",
              "    <tr>\n",
              "      <th>1774-12-14</th>\n",
              "      <td>New Hampshire</td>\n",
              "    </tr>\n",
              "    <tr>\n",
              "      <th>1775-04-19</th>\n",
              "      <td>Massachusetts</td>\n",
              "    </tr>\n",
              "    <tr>\n",
              "      <th>1775-04-19</th>\n",
              "      <td>Massachusetts</td>\n",
              "    </tr>\n",
              "    <tr>\n",
              "      <th>1775-04-20</th>\n",
              "      <td>Virginia</td>\n",
              "    </tr>\n",
              "    <tr>\n",
              "      <th>...</th>\n",
              "      <td>...</td>\n",
              "    </tr>\n",
              "    <tr>\n",
              "      <th>1782-09-11</th>\n",
              "      <td>Virginia</td>\n",
              "    </tr>\n",
              "    <tr>\n",
              "      <th>1782-09-13</th>\n",
              "      <td>NaN</td>\n",
              "    </tr>\n",
              "    <tr>\n",
              "      <th>1782-10-18</th>\n",
              "      <td>NaN</td>\n",
              "    </tr>\n",
              "    <tr>\n",
              "      <th>1782-12-06</th>\n",
              "      <td>NaN</td>\n",
              "    </tr>\n",
              "    <tr>\n",
              "      <th>1783-01-22</th>\n",
              "      <td>Virginia</td>\n",
              "    </tr>\n",
              "  </tbody>\n",
              "</table>\n",
              "<p>232 rows × 1 columns</p>\n",
              "</div><br><label><b>dtype:</b> object</label>"
            ]
          },
          "metadata": {},
          "execution_count": 28
        }
      ],
      "source": [
        "battles = pd.read_csv(\n",
        "    \"3-revolutionary_war.csv\",\n",
        "    index_col = \"Start Date\",\n",
        "    parse_dates = [\"Start Date\"],\n",
        "    usecols = [\"State\", \"Start Date\"]\n",
        ")['State']\n",
        "battles"
      ]
    },
    {
      "cell_type": "markdown",
      "metadata": {
        "id": "f7VPI07zimvC"
      },
      "source": [
        "## 3.2 Sorting a Series"
      ]
    },
    {
      "cell_type": "markdown",
      "metadata": {
        "id": "GxwhqMVTimvC"
      },
      "source": [
        "### 3.2.1 Sorting by Values with the sort_values Method"
      ]
    },
    {
      "cell_type": "code",
      "execution_count": null,
      "metadata": {
        "id": "lNwwBBSBimvC",
        "outputId": "d0c55fe8-6782-4211-88f3-931404ec614d"
      },
      "outputs": [
        {
          "data": {
            "text/plain": [
              "Date\n",
              "2004-09-03      49.82\n",
              "2004-09-01      49.94\n",
              "2004-08-19      49.98\n",
              "2004-09-02      50.57\n",
              "2004-09-07      50.60\n",
              "               ...   \n",
              "2019-04-23    1264.55\n",
              "2019-10-25    1265.13\n",
              "2018-07-26    1268.33\n",
              "2019-04-26    1272.18\n",
              "2019-04-29    1287.58\n",
              "Name: Close, Length: 3824, dtype: float64"
            ]
          },
          "execution_count": 14,
          "metadata": {},
          "output_type": "execute_result"
        }
      ],
      "source": [
        "google.sort_values()"
      ]
    },
    {
      "cell_type": "code",
      "execution_count": null,
      "metadata": {
        "id": "6ApeuYE6imvC",
        "outputId": "d7a2202f-d24a-4455-da06-075c7fd32426"
      },
      "outputs": [
        {
          "data": {
            "text/plain": [
              "Pokemon\n",
              "Illumise                Bug\n",
              "Silcoon                 Bug\n",
              "Pinsir                  Bug\n",
              "Burmy                   Bug\n",
              "Wurmple                 Bug\n",
              "                  ...      \n",
              "Tirtouga       Water / Rock\n",
              "Relicanth      Water / Rock\n",
              "Corsola        Water / Rock\n",
              "Carracosta     Water / Rock\n",
              "Empoleon      Water / Steel\n",
              "Name: Type, Length: 809, dtype: object"
            ]
          },
          "execution_count": 15,
          "metadata": {},
          "output_type": "execute_result"
        }
      ],
      "source": [
        "pokemon.sort_values()"
      ]
    },
    {
      "cell_type": "code",
      "execution_count": null,
      "metadata": {
        "id": "-BegBK0CimvD",
        "outputId": "629c5b3f-29b4-48e1-a97c-959c57ef9859"
      },
      "outputs": [
        {
          "data": {
            "text/plain": [
              "0    Adam\n",
              "2     Ben\n",
              "1    adam\n",
              "dtype: object"
            ]
          },
          "execution_count": 16,
          "metadata": {},
          "output_type": "execute_result"
        }
      ],
      "source": [
        "pd.Series(data = [\"Adam\", \"adam\", \"Ben\"]).sort_values()"
      ]
    },
    {
      "cell_type": "code",
      "execution_count": 37,
      "metadata": {
        "id": "mIxUsqA2imvD",
        "outputId": "5c6dc6a7-a18b-4fed-c598-beba8b1eb9e3",
        "colab": {
          "base_uri": "https://localhost:8080/",
          "height": 272
        }
      },
      "outputs": [
        {
          "output_type": "execute_result",
          "data": {
            "text/plain": [
              "Date\n",
              "2019-04-29    1287.58\n",
              "2019-04-26    1272.18\n",
              "2018-07-26    1268.33\n",
              "2019-10-25    1265.13\n",
              "2019-04-23    1264.55\n",
              "Name: Close, dtype: float64"
            ],
            "text/html": [
              "<div>\n",
              "<style scoped>\n",
              "    .dataframe tbody tr th:only-of-type {\n",
              "        vertical-align: middle;\n",
              "    }\n",
              "\n",
              "    .dataframe tbody tr th {\n",
              "        vertical-align: top;\n",
              "    }\n",
              "\n",
              "    .dataframe thead th {\n",
              "        text-align: right;\n",
              "    }\n",
              "</style>\n",
              "<table border=\"1\" class=\"dataframe\">\n",
              "  <thead>\n",
              "    <tr style=\"text-align: right;\">\n",
              "      <th></th>\n",
              "      <th>Close</th>\n",
              "    </tr>\n",
              "    <tr>\n",
              "      <th>Date</th>\n",
              "      <th></th>\n",
              "    </tr>\n",
              "  </thead>\n",
              "  <tbody>\n",
              "    <tr>\n",
              "      <th>2019-04-29</th>\n",
              "      <td>1287.58</td>\n",
              "    </tr>\n",
              "    <tr>\n",
              "      <th>2019-04-26</th>\n",
              "      <td>1272.18</td>\n",
              "    </tr>\n",
              "    <tr>\n",
              "      <th>2018-07-26</th>\n",
              "      <td>1268.33</td>\n",
              "    </tr>\n",
              "    <tr>\n",
              "      <th>2019-10-25</th>\n",
              "      <td>1265.13</td>\n",
              "    </tr>\n",
              "    <tr>\n",
              "      <th>2019-04-23</th>\n",
              "      <td>1264.55</td>\n",
              "    </tr>\n",
              "  </tbody>\n",
              "</table>\n",
              "</div><br><label><b>dtype:</b> float64</label>"
            ]
          },
          "metadata": {},
          "execution_count": 37
        }
      ],
      "source": [
        "google.sort_values(ascending = False).head()"
      ]
    },
    {
      "cell_type": "code",
      "execution_count": 38,
      "metadata": {
        "id": "6rpFSfj6imvD",
        "outputId": "f5f910b7-8b7b-4480-ce24-410c33e62f20",
        "colab": {
          "base_uri": "https://localhost:8080/",
          "height": 148
        }
      },
      "outputs": [
        {
          "output_type": "error",
          "ename": "NameError",
          "evalue": "name 'pokemon' is not defined",
          "traceback": [
            "\u001b[0;31m---------------------------------------------------------------------------\u001b[0m",
            "\u001b[0;31mNameError\u001b[0m                                 Traceback (most recent call last)",
            "\u001b[0;32m/tmp/ipython-input-3469793533.py\u001b[0m in \u001b[0;36m<cell line: 0>\u001b[0;34m()\u001b[0m\n\u001b[0;32m----> 1\u001b[0;31m \u001b[0mpokemon\u001b[0m\u001b[0;34m.\u001b[0m\u001b[0msort_values\u001b[0m\u001b[0;34m(\u001b[0m\u001b[0mascending\u001b[0m \u001b[0;34m=\u001b[0m \u001b[0;32mFalse\u001b[0m\u001b[0;34m)\u001b[0m\u001b[0;34m.\u001b[0m\u001b[0mhead\u001b[0m\u001b[0;34m(\u001b[0m\u001b[0;34m)\u001b[0m\u001b[0;34m\u001b[0m\u001b[0;34m\u001b[0m\u001b[0m\n\u001b[0m",
            "\u001b[0;31mNameError\u001b[0m: name 'pokemon' is not defined"
          ]
        }
      ],
      "source": [
        "pokemon.sort_values(ascending = False).head()"
      ]
    },
    {
      "cell_type": "code",
      "execution_count": null,
      "metadata": {
        "id": "WL4VKE1TimvD",
        "outputId": "e0063dfc-dba4-4489-ad40-607226ff8437"
      },
      "outputs": [
        {
          "data": {
            "text/plain": [
              "Start Date\n",
              "1781-09-06    Connecticut\n",
              "1779-07-05    Connecticut\n",
              "1777-04-27    Connecticut\n",
              "1777-09-03       Delaware\n",
              "1777-05-17        Florida\n",
              "                 ...     \n",
              "1782-08-08            NaN\n",
              "1782-08-25            NaN\n",
              "1782-09-13            NaN\n",
              "1782-10-18            NaN\n",
              "1782-12-06            NaN\n",
              "Name: State, Length: 232, dtype: object"
            ]
          },
          "execution_count": 19,
          "metadata": {},
          "output_type": "execute_result"
        }
      ],
      "source": [
        "# The two lines below are equivalent\n",
        "battles.sort_values()\n",
        "battles.sort_values(na_position = \"last\")"
      ]
    },
    {
      "cell_type": "code",
      "execution_count": null,
      "metadata": {
        "id": "GMUTlb5bimvD",
        "outputId": "9f2fdf3e-4f0a-46bb-a718-ee211c32743b"
      },
      "outputs": [
        {
          "data": {
            "text/plain": [
              "Start Date\n",
              "1775-09-17         NaN\n",
              "1775-12-31         NaN\n",
              "1776-03-03         NaN\n",
              "1776-03-25         NaN\n",
              "1776-05-18         NaN\n",
              "                ...   \n",
              "1781-07-06    Virginia\n",
              "1781-07-01    Virginia\n",
              "1781-06-26    Virginia\n",
              "1781-04-25    Virginia\n",
              "1783-01-22    Virginia\n",
              "Name: State, Length: 232, dtype: object"
            ]
          },
          "execution_count": 20,
          "metadata": {},
          "output_type": "execute_result"
        }
      ],
      "source": [
        "battles.sort_values(na_position = \"first\")"
      ]
    },
    {
      "cell_type": "code",
      "execution_count": null,
      "metadata": {
        "id": "_OVCSF1mimvD",
        "outputId": "4d4e7ee1-dc43-47c2-c07d-471f9ce1ac34"
      },
      "outputs": [
        {
          "data": {
            "text/plain": [
              "Start Date\n",
              "1781-09-06    Connecticut\n",
              "1779-07-05    Connecticut\n",
              "1777-04-27    Connecticut\n",
              "1777-09-03       Delaware\n",
              "1777-05-17        Florida\n",
              "                 ...     \n",
              "1781-07-06       Virginia\n",
              "1781-07-01       Virginia\n",
              "1781-06-26       Virginia\n",
              "1781-04-25       Virginia\n",
              "1783-01-22       Virginia\n",
              "Name: State, Length: 162, dtype: object"
            ]
          },
          "execution_count": 21,
          "metadata": {},
          "output_type": "execute_result"
        }
      ],
      "source": [
        "battles.dropna().sort_values()"
      ]
    },
    {
      "cell_type": "markdown",
      "metadata": {
        "id": "Rd8q_7XQimvD"
      },
      "source": [
        "### 3.2.2 Sorting by Index with the sort_index Method"
      ]
    },
    {
      "cell_type": "code",
      "execution_count": null,
      "metadata": {
        "id": "OaOCTh59imvE",
        "outputId": "e3718aae-849b-451f-8068-f9dcc9f4c4bc"
      },
      "outputs": [
        {
          "data": {
            "text/plain": [
              "Pokemon\n",
              "Abomasnow        Grass / Ice\n",
              "Abra                 Psychic\n",
              "Absol                   Dark\n",
              "Accelgor                 Bug\n",
              "Aegislash      Steel / Ghost\n",
              "                  ...       \n",
              "Zoroark                 Dark\n",
              "Zorua                   Dark\n",
              "Zubat        Poison / Flying\n",
              "Zweilous       Dark / Dragon\n",
              "Zygarde      Dragon / Ground\n",
              "Name: Type, Length: 809, dtype: object"
            ]
          },
          "execution_count": 22,
          "metadata": {},
          "output_type": "execute_result"
        }
      ],
      "source": [
        "# The two lines below are equivalent\n",
        "pokemon.sort_index()\n",
        "pokemon.sort_index(ascending = True)"
      ]
    },
    {
      "cell_type": "code",
      "execution_count": null,
      "metadata": {
        "id": "Q_clH1VoimvE",
        "outputId": "9f43f07d-03b6-40d8-d42e-ce48c6ad0b61"
      },
      "outputs": [
        {
          "data": {
            "text/plain": [
              "Start Date\n",
              "1774-09-01    Massachusetts\n",
              "1774-12-14    New Hampshire\n",
              "1775-04-19    Massachusetts\n",
              "1775-04-19    Massachusetts\n",
              "1775-04-20         Virginia\n",
              "                  ...      \n",
              "1783-01-22         Virginia\n",
              "NaT              New Jersey\n",
              "NaT                Virginia\n",
              "NaT                     NaN\n",
              "NaT                     NaN\n",
              "Name: State, Length: 232, dtype: object"
            ]
          },
          "execution_count": 23,
          "metadata": {},
          "output_type": "execute_result"
        }
      ],
      "source": [
        "battles.sort_index()"
      ]
    },
    {
      "cell_type": "code",
      "execution_count": 29,
      "metadata": {
        "id": "F6LfhFs0imvE",
        "outputId": "775a8ce4-d96a-49b1-f512-a8d6cee92e21",
        "colab": {
          "base_uri": "https://localhost:8080/",
          "height": 272
        }
      },
      "outputs": [
        {
          "output_type": "execute_result",
          "data": {
            "text/plain": [
              "Start Date\n",
              "NaT              New Jersey\n",
              "NaT                Virginia\n",
              "NaT                     NaN\n",
              "NaT                     NaN\n",
              "1774-09-01    Massachusetts\n",
              "Name: State, dtype: object"
            ],
            "text/html": [
              "<div>\n",
              "<style scoped>\n",
              "    .dataframe tbody tr th:only-of-type {\n",
              "        vertical-align: middle;\n",
              "    }\n",
              "\n",
              "    .dataframe tbody tr th {\n",
              "        vertical-align: top;\n",
              "    }\n",
              "\n",
              "    .dataframe thead th {\n",
              "        text-align: right;\n",
              "    }\n",
              "</style>\n",
              "<table border=\"1\" class=\"dataframe\">\n",
              "  <thead>\n",
              "    <tr style=\"text-align: right;\">\n",
              "      <th></th>\n",
              "      <th>State</th>\n",
              "    </tr>\n",
              "    <tr>\n",
              "      <th>Start Date</th>\n",
              "      <th></th>\n",
              "    </tr>\n",
              "  </thead>\n",
              "  <tbody>\n",
              "    <tr>\n",
              "      <th>NaT</th>\n",
              "      <td>New Jersey</td>\n",
              "    </tr>\n",
              "    <tr>\n",
              "      <th>NaT</th>\n",
              "      <td>Virginia</td>\n",
              "    </tr>\n",
              "    <tr>\n",
              "      <th>NaT</th>\n",
              "      <td>NaN</td>\n",
              "    </tr>\n",
              "    <tr>\n",
              "      <th>NaT</th>\n",
              "      <td>NaN</td>\n",
              "    </tr>\n",
              "    <tr>\n",
              "      <th>1774-09-01</th>\n",
              "      <td>Massachusetts</td>\n",
              "    </tr>\n",
              "  </tbody>\n",
              "</table>\n",
              "</div><br><label><b>dtype:</b> object</label>"
            ]
          },
          "metadata": {},
          "execution_count": 29
        }
      ],
      "source": [
        "battles.sort_index(na_position = \"first\").head()"
      ]
    },
    {
      "cell_type": "code",
      "execution_count": 30,
      "metadata": {
        "id": "4T1rN8e7imvE",
        "outputId": "e374b8f3-d0a6-4c1c-8000-2b5f82d79ad6",
        "colab": {
          "base_uri": "https://localhost:8080/",
          "height": 272
        }
      },
      "outputs": [
        {
          "output_type": "execute_result",
          "data": {
            "text/plain": [
              "Start Date\n",
              "1783-01-22    Virginia\n",
              "1782-12-06         NaN\n",
              "1782-10-18         NaN\n",
              "1782-09-13         NaN\n",
              "1782-09-11    Virginia\n",
              "Name: State, dtype: object"
            ],
            "text/html": [
              "<div>\n",
              "<style scoped>\n",
              "    .dataframe tbody tr th:only-of-type {\n",
              "        vertical-align: middle;\n",
              "    }\n",
              "\n",
              "    .dataframe tbody tr th {\n",
              "        vertical-align: top;\n",
              "    }\n",
              "\n",
              "    .dataframe thead th {\n",
              "        text-align: right;\n",
              "    }\n",
              "</style>\n",
              "<table border=\"1\" class=\"dataframe\">\n",
              "  <thead>\n",
              "    <tr style=\"text-align: right;\">\n",
              "      <th></th>\n",
              "      <th>State</th>\n",
              "    </tr>\n",
              "    <tr>\n",
              "      <th>Start Date</th>\n",
              "      <th></th>\n",
              "    </tr>\n",
              "  </thead>\n",
              "  <tbody>\n",
              "    <tr>\n",
              "      <th>1783-01-22</th>\n",
              "      <td>Virginia</td>\n",
              "    </tr>\n",
              "    <tr>\n",
              "      <th>1782-12-06</th>\n",
              "      <td>NaN</td>\n",
              "    </tr>\n",
              "    <tr>\n",
              "      <th>1782-10-18</th>\n",
              "      <td>NaN</td>\n",
              "    </tr>\n",
              "    <tr>\n",
              "      <th>1782-09-13</th>\n",
              "      <td>NaN</td>\n",
              "    </tr>\n",
              "    <tr>\n",
              "      <th>1782-09-11</th>\n",
              "      <td>Virginia</td>\n",
              "    </tr>\n",
              "  </tbody>\n",
              "</table>\n",
              "</div><br><label><b>dtype:</b> object</label>"
            ]
          },
          "metadata": {},
          "execution_count": 30
        }
      ],
      "source": [
        "battles.sort_index(ascending = False).head()"
      ]
    },
    {
      "cell_type": "markdown",
      "metadata": {
        "id": "M-Mkid91imvE"
      },
      "source": [
        "### 3.2.3 Retrieving the Smallest and Largest Values with the nsmallest and nlargest Methods"
      ]
    },
    {
      "cell_type": "code",
      "execution_count": 39,
      "metadata": {
        "id": "RlRjmA43imvE",
        "outputId": "a15eec46-43de-4d3d-ef8f-e721e90097c2",
        "colab": {
          "base_uri": "https://localhost:8080/",
          "height": 272
        }
      },
      "outputs": [
        {
          "output_type": "execute_result",
          "data": {
            "text/plain": [
              "Date\n",
              "2019-04-29    1287.58\n",
              "2019-04-26    1272.18\n",
              "2018-07-26    1268.33\n",
              "2019-10-25    1265.13\n",
              "2019-04-23    1264.55\n",
              "Name: Close, dtype: float64"
            ],
            "text/html": [
              "<div>\n",
              "<style scoped>\n",
              "    .dataframe tbody tr th:only-of-type {\n",
              "        vertical-align: middle;\n",
              "    }\n",
              "\n",
              "    .dataframe tbody tr th {\n",
              "        vertical-align: top;\n",
              "    }\n",
              "\n",
              "    .dataframe thead th {\n",
              "        text-align: right;\n",
              "    }\n",
              "</style>\n",
              "<table border=\"1\" class=\"dataframe\">\n",
              "  <thead>\n",
              "    <tr style=\"text-align: right;\">\n",
              "      <th></th>\n",
              "      <th>Close</th>\n",
              "    </tr>\n",
              "    <tr>\n",
              "      <th>Date</th>\n",
              "      <th></th>\n",
              "    </tr>\n",
              "  </thead>\n",
              "  <tbody>\n",
              "    <tr>\n",
              "      <th>2019-04-29</th>\n",
              "      <td>1287.58</td>\n",
              "    </tr>\n",
              "    <tr>\n",
              "      <th>2019-04-26</th>\n",
              "      <td>1272.18</td>\n",
              "    </tr>\n",
              "    <tr>\n",
              "      <th>2018-07-26</th>\n",
              "      <td>1268.33</td>\n",
              "    </tr>\n",
              "    <tr>\n",
              "      <th>2019-10-25</th>\n",
              "      <td>1265.13</td>\n",
              "    </tr>\n",
              "    <tr>\n",
              "      <th>2019-04-23</th>\n",
              "      <td>1264.55</td>\n",
              "    </tr>\n",
              "  </tbody>\n",
              "</table>\n",
              "</div><br><label><b>dtype:</b> float64</label>"
            ]
          },
          "metadata": {},
          "execution_count": 39
        }
      ],
      "source": [
        "google.sort_values(ascending = False).head()"
      ]
    },
    {
      "cell_type": "code",
      "execution_count": 40,
      "metadata": {
        "id": "nrXoh0TdimvF",
        "outputId": "8f4c6444-2b56-4bf1-c080-13b542749b4d",
        "colab": {
          "base_uri": "https://localhost:8080/",
          "height": 272
        }
      },
      "outputs": [
        {
          "output_type": "execute_result",
          "data": {
            "text/plain": [
              "Date\n",
              "2019-04-29    1287.58\n",
              "2019-04-26    1272.18\n",
              "2018-07-26    1268.33\n",
              "2019-10-25    1265.13\n",
              "2019-04-23    1264.55\n",
              "Name: Close, dtype: float64"
            ],
            "text/html": [
              "<div>\n",
              "<style scoped>\n",
              "    .dataframe tbody tr th:only-of-type {\n",
              "        vertical-align: middle;\n",
              "    }\n",
              "\n",
              "    .dataframe tbody tr th {\n",
              "        vertical-align: top;\n",
              "    }\n",
              "\n",
              "    .dataframe thead th {\n",
              "        text-align: right;\n",
              "    }\n",
              "</style>\n",
              "<table border=\"1\" class=\"dataframe\">\n",
              "  <thead>\n",
              "    <tr style=\"text-align: right;\">\n",
              "      <th></th>\n",
              "      <th>Close</th>\n",
              "    </tr>\n",
              "    <tr>\n",
              "      <th>Date</th>\n",
              "      <th></th>\n",
              "    </tr>\n",
              "  </thead>\n",
              "  <tbody>\n",
              "    <tr>\n",
              "      <th>2019-04-29</th>\n",
              "      <td>1287.58</td>\n",
              "    </tr>\n",
              "    <tr>\n",
              "      <th>2019-04-26</th>\n",
              "      <td>1272.18</td>\n",
              "    </tr>\n",
              "    <tr>\n",
              "      <th>2018-07-26</th>\n",
              "      <td>1268.33</td>\n",
              "    </tr>\n",
              "    <tr>\n",
              "      <th>2019-10-25</th>\n",
              "      <td>1265.13</td>\n",
              "    </tr>\n",
              "    <tr>\n",
              "      <th>2019-04-23</th>\n",
              "      <td>1264.55</td>\n",
              "    </tr>\n",
              "  </tbody>\n",
              "</table>\n",
              "</div><br><label><b>dtype:</b> float64</label>"
            ]
          },
          "metadata": {},
          "execution_count": 40
        }
      ],
      "source": [
        "# The two lines below are\n",
        "# equivalent\n",
        "google.nlargest(n = 5)\n",
        "google.nlargest()"
      ]
    },
    {
      "cell_type": "code",
      "execution_count": 41,
      "metadata": {
        "id": "XMQotXbRimvF",
        "outputId": "4a448388-34f1-43e7-919e-038a4ea920a1",
        "colab": {
          "base_uri": "https://localhost:8080/",
          "height": 272
        }
      },
      "outputs": [
        {
          "output_type": "execute_result",
          "data": {
            "text/plain": [
              "Date\n",
              "2004-09-03    49.82\n",
              "2004-09-01    49.94\n",
              "2004-08-19    49.98\n",
              "2004-09-02    50.57\n",
              "2004-09-07    50.60\n",
              "Name: Close, dtype: float64"
            ],
            "text/html": [
              "<div>\n",
              "<style scoped>\n",
              "    .dataframe tbody tr th:only-of-type {\n",
              "        vertical-align: middle;\n",
              "    }\n",
              "\n",
              "    .dataframe tbody tr th {\n",
              "        vertical-align: top;\n",
              "    }\n",
              "\n",
              "    .dataframe thead th {\n",
              "        text-align: right;\n",
              "    }\n",
              "</style>\n",
              "<table border=\"1\" class=\"dataframe\">\n",
              "  <thead>\n",
              "    <tr style=\"text-align: right;\">\n",
              "      <th></th>\n",
              "      <th>Close</th>\n",
              "    </tr>\n",
              "    <tr>\n",
              "      <th>Date</th>\n",
              "      <th></th>\n",
              "    </tr>\n",
              "  </thead>\n",
              "  <tbody>\n",
              "    <tr>\n",
              "      <th>2004-09-03</th>\n",
              "      <td>49.82</td>\n",
              "    </tr>\n",
              "    <tr>\n",
              "      <th>2004-09-01</th>\n",
              "      <td>49.94</td>\n",
              "    </tr>\n",
              "    <tr>\n",
              "      <th>2004-08-19</th>\n",
              "      <td>49.98</td>\n",
              "    </tr>\n",
              "    <tr>\n",
              "      <th>2004-09-02</th>\n",
              "      <td>50.57</td>\n",
              "    </tr>\n",
              "    <tr>\n",
              "      <th>2004-09-07</th>\n",
              "      <td>50.60</td>\n",
              "    </tr>\n",
              "  </tbody>\n",
              "</table>\n",
              "</div><br><label><b>dtype:</b> float64</label>"
            ]
          },
          "metadata": {},
          "execution_count": 41
        }
      ],
      "source": [
        "# The two lines below are\n",
        "# equivalent\n",
        "google.nsmallest(n = 5)\n",
        "google.nsmallest(5)"
      ]
    },
    {
      "cell_type": "markdown",
      "metadata": {
        "id": "mhvCrJMYimvF"
      },
      "source": [
        "## 3.3 Overwriting a Series with the inplace Parameter"
      ]
    },
    {
      "cell_type": "code",
      "execution_count": null,
      "metadata": {
        "id": "dZdadO92imvF",
        "outputId": "6172b99f-ed8d-4832-d7c8-cade00120844"
      },
      "outputs": [
        {
          "data": {
            "text/plain": [
              "Start Date\n",
              "1774-09-01    Massachusetts\n",
              "1774-12-14    New Hampshire\n",
              "1775-04-19    Massachusetts\n",
              "Name: State, dtype: object"
            ]
          },
          "execution_count": 29,
          "metadata": {},
          "output_type": "execute_result"
        }
      ],
      "source": [
        "battles.head(3)"
      ]
    },
    {
      "cell_type": "code",
      "execution_count": null,
      "metadata": {
        "id": "Rhy_5iUeimvF",
        "outputId": "97e1e000-d748-41ee-9270-278d60e769e6"
      },
      "outputs": [
        {
          "data": {
            "text/plain": [
              "Start Date\n",
              "1781-09-06    Connecticut\n",
              "1779-07-05    Connecticut\n",
              "1777-04-27    Connecticut\n",
              "Name: State, dtype: object"
            ]
          },
          "execution_count": 30,
          "metadata": {},
          "output_type": "execute_result"
        }
      ],
      "source": [
        "battles.sort_values().head(3)"
      ]
    },
    {
      "cell_type": "code",
      "execution_count": null,
      "metadata": {
        "id": "4gf9-vYYimvF",
        "outputId": "9065dc8f-00ad-441a-d62a-6939a2665afc"
      },
      "outputs": [
        {
          "data": {
            "text/plain": [
              "Start Date\n",
              "1774-09-01    Massachusetts\n",
              "1774-12-14    New Hampshire\n",
              "1775-04-19    Massachusetts\n",
              "Name: State, dtype: object"
            ]
          },
          "execution_count": 31,
          "metadata": {},
          "output_type": "execute_result"
        }
      ],
      "source": [
        "battles.head(3)"
      ]
    },
    {
      "cell_type": "code",
      "execution_count": null,
      "metadata": {
        "id": "y--pTOxhimvG",
        "outputId": "6dd57ae0-bad3-44e9-e015-87fef765d8f8"
      },
      "outputs": [
        {
          "data": {
            "text/plain": [
              "Start Date\n",
              "1774-09-01    Massachusetts\n",
              "1774-12-14    New Hampshire\n",
              "1775-04-19    Massachusetts\n",
              "Name: State, dtype: object"
            ]
          },
          "execution_count": 32,
          "metadata": {},
          "output_type": "execute_result"
        }
      ],
      "source": [
        "battles.head(3)"
      ]
    },
    {
      "cell_type": "code",
      "execution_count": null,
      "metadata": {
        "id": "eEM9U4_EimvG"
      },
      "outputs": [],
      "source": [
        "battles.sort_values(inplace = True)"
      ]
    },
    {
      "cell_type": "code",
      "execution_count": null,
      "metadata": {
        "id": "U8BGnaP7imvQ",
        "outputId": "66eb9f8d-efaa-4828-a686-7f7c78164c61"
      },
      "outputs": [
        {
          "data": {
            "text/plain": [
              "Start Date\n",
              "1781-09-06    Connecticut\n",
              "1779-07-05    Connecticut\n",
              "1777-04-27    Connecticut\n",
              "Name: State, dtype: object"
            ]
          },
          "execution_count": 34,
          "metadata": {},
          "output_type": "execute_result"
        }
      ],
      "source": [
        "battles.head(3)"
      ]
    },
    {
      "cell_type": "markdown",
      "metadata": {
        "id": "oUPi8IILimvR"
      },
      "source": [
        "## 3.4 Counting Values with the value_counts Method"
      ]
    },
    {
      "cell_type": "code",
      "execution_count": null,
      "metadata": {
        "id": "MFX188DOimvR",
        "outputId": "58e5ee98-0d4b-4aaa-b386-2efd6a624440"
      },
      "outputs": [
        {
          "data": {
            "text/plain": [
              "Pokemon\n",
              "Bulbasaur     Grass / Poison\n",
              "Ivysaur       Grass / Poison\n",
              "Venusaur      Grass / Poison\n",
              "Charmander              Fire\n",
              "Charmeleon              Fire\n",
              "Name: Type, dtype: object"
            ]
          },
          "execution_count": 35,
          "metadata": {},
          "output_type": "execute_result"
        }
      ],
      "source": [
        "pokemon.head()"
      ]
    },
    {
      "cell_type": "code",
      "execution_count": 46,
      "metadata": {
        "id": "OCTYYAWQimvR",
        "outputId": "68fdc725-fb51-43b8-80e7-31dc005325a8",
        "colab": {
          "base_uri": "https://localhost:8080/",
          "height": 272
        }
      },
      "outputs": [
        {
          "output_type": "execute_result",
          "data": {
            "text/plain": [
              "Type\n",
              "Normal     65\n",
              "Water      61\n",
              "Grass      38\n",
              "Psychic    35\n",
              "Fire       30\n",
              "Name: count, dtype: int64"
            ],
            "text/html": [
              "<div>\n",
              "<style scoped>\n",
              "    .dataframe tbody tr th:only-of-type {\n",
              "        vertical-align: middle;\n",
              "    }\n",
              "\n",
              "    .dataframe tbody tr th {\n",
              "        vertical-align: top;\n",
              "    }\n",
              "\n",
              "    .dataframe thead th {\n",
              "        text-align: right;\n",
              "    }\n",
              "</style>\n",
              "<table border=\"1\" class=\"dataframe\">\n",
              "  <thead>\n",
              "    <tr style=\"text-align: right;\">\n",
              "      <th></th>\n",
              "      <th>count</th>\n",
              "    </tr>\n",
              "    <tr>\n",
              "      <th>Type</th>\n",
              "      <th></th>\n",
              "    </tr>\n",
              "  </thead>\n",
              "  <tbody>\n",
              "    <tr>\n",
              "      <th>Normal</th>\n",
              "      <td>65</td>\n",
              "    </tr>\n",
              "    <tr>\n",
              "      <th>Water</th>\n",
              "      <td>61</td>\n",
              "    </tr>\n",
              "    <tr>\n",
              "      <th>Grass</th>\n",
              "      <td>38</td>\n",
              "    </tr>\n",
              "    <tr>\n",
              "      <th>Psychic</th>\n",
              "      <td>35</td>\n",
              "    </tr>\n",
              "    <tr>\n",
              "      <th>Fire</th>\n",
              "      <td>30</td>\n",
              "    </tr>\n",
              "  </tbody>\n",
              "</table>\n",
              "</div><br><label><b>dtype:</b> int64</label>"
            ]
          },
          "metadata": {},
          "execution_count": 46
        }
      ],
      "source": [
        "pokemon.value_counts().head()"
      ]
    },
    {
      "cell_type": "code",
      "execution_count": null,
      "metadata": {
        "id": "P-R4Ifo9imvR",
        "outputId": "8976b352-26e0-4e2a-f2bf-53a3af2db383"
      },
      "outputs": [
        {
          "data": {
            "text/plain": [
              "159"
            ]
          },
          "execution_count": 37,
          "metadata": {},
          "output_type": "execute_result"
        }
      ],
      "source": [
        "len(pokemon.value_counts())"
      ]
    },
    {
      "cell_type": "code",
      "execution_count": null,
      "metadata": {
        "id": "AhNhKoEaimvR",
        "outputId": "a6233624-cadb-4cf6-f6ed-1bb1b9a81aa6"
      },
      "outputs": [
        {
          "data": {
            "text/plain": [
              "159"
            ]
          },
          "execution_count": 38,
          "metadata": {},
          "output_type": "execute_result"
        }
      ],
      "source": [
        "pokemon.nunique()"
      ]
    },
    {
      "cell_type": "code",
      "execution_count": 48,
      "metadata": {
        "id": "4e_qH9_NimvS",
        "outputId": "da4d57fb-0a7a-4a5c-9b47-f790a6662963",
        "colab": {
          "base_uri": "https://localhost:8080/",
          "height": 272
        }
      },
      "outputs": [
        {
          "output_type": "execute_result",
          "data": {
            "text/plain": [
              "Type\n",
              "Steel / Ground     1\n",
              "Fire / Rock        1\n",
              "Rock / Dark        1\n",
              "Psychic / Grass    1\n",
              "Fire / Steel       1\n",
              "Name: count, dtype: int64"
            ],
            "text/html": [
              "<div>\n",
              "<style scoped>\n",
              "    .dataframe tbody tr th:only-of-type {\n",
              "        vertical-align: middle;\n",
              "    }\n",
              "\n",
              "    .dataframe tbody tr th {\n",
              "        vertical-align: top;\n",
              "    }\n",
              "\n",
              "    .dataframe thead th {\n",
              "        text-align: right;\n",
              "    }\n",
              "</style>\n",
              "<table border=\"1\" class=\"dataframe\">\n",
              "  <thead>\n",
              "    <tr style=\"text-align: right;\">\n",
              "      <th></th>\n",
              "      <th>count</th>\n",
              "    </tr>\n",
              "    <tr>\n",
              "      <th>Type</th>\n",
              "      <th></th>\n",
              "    </tr>\n",
              "  </thead>\n",
              "  <tbody>\n",
              "    <tr>\n",
              "      <th>Steel / Ground</th>\n",
              "      <td>1</td>\n",
              "    </tr>\n",
              "    <tr>\n",
              "      <th>Fire / Rock</th>\n",
              "      <td>1</td>\n",
              "    </tr>\n",
              "    <tr>\n",
              "      <th>Rock / Dark</th>\n",
              "      <td>1</td>\n",
              "    </tr>\n",
              "    <tr>\n",
              "      <th>Psychic / Grass</th>\n",
              "      <td>1</td>\n",
              "    </tr>\n",
              "    <tr>\n",
              "      <th>Fire / Steel</th>\n",
              "      <td>1</td>\n",
              "    </tr>\n",
              "  </tbody>\n",
              "</table>\n",
              "</div><br><label><b>dtype:</b> int64</label>"
            ]
          },
          "metadata": {},
          "execution_count": 48
        }
      ],
      "source": [
        "pokemon\\\n",
        ".value_counts(ascending = True)\\\n",
        ".head()"
      ]
    },
    {
      "cell_type": "code",
      "execution_count": 49,
      "metadata": {
        "id": "e4e11WZvimvS",
        "outputId": "b30a5556-96ac-47d8-ffb2-4845bd026e25",
        "colab": {
          "base_uri": "https://localhost:8080/",
          "height": 272
        }
      },
      "outputs": [
        {
          "output_type": "execute_result",
          "data": {
            "text/plain": [
              "Type\n",
              "Normal     0.080346\n",
              "Water      0.075402\n",
              "Grass      0.046972\n",
              "Psychic    0.043263\n",
              "Fire       0.037083\n",
              "Name: proportion, dtype: float64"
            ],
            "text/html": [
              "<div>\n",
              "<style scoped>\n",
              "    .dataframe tbody tr th:only-of-type {\n",
              "        vertical-align: middle;\n",
              "    }\n",
              "\n",
              "    .dataframe tbody tr th {\n",
              "        vertical-align: top;\n",
              "    }\n",
              "\n",
              "    .dataframe thead th {\n",
              "        text-align: right;\n",
              "    }\n",
              "</style>\n",
              "<table border=\"1\" class=\"dataframe\">\n",
              "  <thead>\n",
              "    <tr style=\"text-align: right;\">\n",
              "      <th></th>\n",
              "      <th>proportion</th>\n",
              "    </tr>\n",
              "    <tr>\n",
              "      <th>Type</th>\n",
              "      <th></th>\n",
              "    </tr>\n",
              "  </thead>\n",
              "  <tbody>\n",
              "    <tr>\n",
              "      <th>Normal</th>\n",
              "      <td>0.080346</td>\n",
              "    </tr>\n",
              "    <tr>\n",
              "      <th>Water</th>\n",
              "      <td>0.075402</td>\n",
              "    </tr>\n",
              "    <tr>\n",
              "      <th>Grass</th>\n",
              "      <td>0.046972</td>\n",
              "    </tr>\n",
              "    <tr>\n",
              "      <th>Psychic</th>\n",
              "      <td>0.043263</td>\n",
              "    </tr>\n",
              "    <tr>\n",
              "      <th>Fire</th>\n",
              "      <td>0.037083</td>\n",
              "    </tr>\n",
              "  </tbody>\n",
              "</table>\n",
              "</div><br><label><b>dtype:</b> float64</label>"
            ]
          },
          "metadata": {},
          "execution_count": 49
        }
      ],
      "source": [
        "pokemon\\\n",
        ".value_counts(normalize = True)\\\n",
        ".head()"
      ]
    },
    {
      "cell_type": "code",
      "source": [
        "pokemon\\\n",
        ".value_counts(normalize = True)\\\n",
        ".head()\\\n",
        ".round(2)"
      ],
      "metadata": {
        "id": "JHMtPQZbI0qb",
        "outputId": "49321b89-d713-42a1-9852-2257151eb0da",
        "colab": {
          "base_uri": "https://localhost:8080/",
          "height": 272
        }
      },
      "execution_count": 50,
      "outputs": [
        {
          "output_type": "execute_result",
          "data": {
            "text/plain": [
              "Type\n",
              "Normal     0.08\n",
              "Water      0.08\n",
              "Grass      0.05\n",
              "Psychic    0.04\n",
              "Fire       0.04\n",
              "Name: proportion, dtype: float64"
            ],
            "text/html": [
              "<div>\n",
              "<style scoped>\n",
              "    .dataframe tbody tr th:only-of-type {\n",
              "        vertical-align: middle;\n",
              "    }\n",
              "\n",
              "    .dataframe tbody tr th {\n",
              "        vertical-align: top;\n",
              "    }\n",
              "\n",
              "    .dataframe thead th {\n",
              "        text-align: right;\n",
              "    }\n",
              "</style>\n",
              "<table border=\"1\" class=\"dataframe\">\n",
              "  <thead>\n",
              "    <tr style=\"text-align: right;\">\n",
              "      <th></th>\n",
              "      <th>proportion</th>\n",
              "    </tr>\n",
              "    <tr>\n",
              "      <th>Type</th>\n",
              "      <th></th>\n",
              "    </tr>\n",
              "  </thead>\n",
              "  <tbody>\n",
              "    <tr>\n",
              "      <th>Normal</th>\n",
              "      <td>0.08</td>\n",
              "    </tr>\n",
              "    <tr>\n",
              "      <th>Water</th>\n",
              "      <td>0.08</td>\n",
              "    </tr>\n",
              "    <tr>\n",
              "      <th>Grass</th>\n",
              "      <td>0.05</td>\n",
              "    </tr>\n",
              "    <tr>\n",
              "      <th>Psychic</th>\n",
              "      <td>0.04</td>\n",
              "    </tr>\n",
              "    <tr>\n",
              "      <th>Fire</th>\n",
              "      <td>0.04</td>\n",
              "    </tr>\n",
              "  </tbody>\n",
              "</table>\n",
              "</div><br><label><b>dtype:</b> float64</label>"
            ]
          },
          "metadata": {},
          "execution_count": 50
        }
      ]
    },
    {
      "cell_type": "code",
      "execution_count": null,
      "metadata": {
        "id": "6Ly89IavimvS",
        "outputId": "b5447959-d329-48e8-bb40-87d3881731a1"
      },
      "outputs": [
        {
          "data": {
            "text/plain": [
              "Normal     8.034611\n",
              "Water      7.540173\n",
              "Grass      4.697157\n",
              "Psychic    4.326329\n",
              "Fire       3.708282\n",
              "Name: Type, dtype: float64"
            ]
          },
          "execution_count": 41,
          "metadata": {},
          "output_type": "execute_result"
        }
      ],
      "source": [
        "pokemon.value_counts(normalize = True).head() * 100"
      ]
    },
    {
      "cell_type": "code",
      "execution_count": null,
      "metadata": {
        "id": "aG52dXrJimvS",
        "outputId": "518a929d-ba6f-47b5-d596-f84d89860e19"
      },
      "outputs": [
        {
          "data": {
            "text/plain": [
              "Normal                8.03\n",
              "Water                 7.54\n",
              "Grass                 4.70\n",
              "Psychic               4.33\n",
              "Fire                  3.71\n",
              "                      ... \n",
              "Fighting / Flying     0.12\n",
              "Psychic / Fighting    0.12\n",
              "Ground / Steel        0.12\n",
              "Fighting / Ghost      0.12\n",
              "Fighting / Dark       0.12\n",
              "Name: Type, Length: 159, dtype: float64"
            ]
          },
          "execution_count": 42,
          "metadata": {},
          "output_type": "execute_result"
        }
      ],
      "source": [
        "(pokemon.value_counts(normalize = True) * 100).round(2)"
      ]
    },
    {
      "cell_type": "code",
      "execution_count": null,
      "metadata": {
        "id": "RLUY6NlXimvS",
        "outputId": "c790f171-8553-47c7-c034-dd9cea9ff211"
      },
      "outputs": [
        {
          "data": {
            "text/plain": [
              "194.27    3\n",
              "307.10    3\n",
              "290.41    3\n",
              "287.68    3\n",
              "237.04    3\n",
              "Name: Close, dtype: int64"
            ]
          },
          "execution_count": 43,
          "metadata": {},
          "output_type": "execute_result"
        }
      ],
      "source": [
        "google.value_counts().head()"
      ]
    },
    {
      "cell_type": "code",
      "execution_count": null,
      "metadata": {
        "id": "hGw9e_ANimvS",
        "outputId": "af79a6cd-4300-489b-bc5c-a3da3b3a4ee1"
      },
      "outputs": [
        {
          "data": {
            "text/plain": [
              "1287.58"
            ]
          },
          "execution_count": 44,
          "metadata": {},
          "output_type": "execute_result"
        }
      ],
      "source": [
        "google.max()"
      ]
    },
    {
      "cell_type": "code",
      "execution_count": null,
      "metadata": {
        "id": "VsrfABW5imvS",
        "outputId": "fa443eda-c50f-4976-a49d-f6cd7a6438af"
      },
      "outputs": [
        {
          "data": {
            "text/plain": [
              "49.82"
            ]
          },
          "execution_count": 45,
          "metadata": {},
          "output_type": "execute_result"
        }
      ],
      "source": [
        "google.min()"
      ]
    },
    {
      "cell_type": "code",
      "execution_count": 51,
      "metadata": {
        "id": "RYrX06N_imvT",
        "outputId": "bdda37a8-522e-40f7-8eb3-e897a234f908",
        "colab": {
          "base_uri": "https://localhost:8080/",
          "height": 303
        }
      },
      "outputs": [
        {
          "output_type": "execute_result",
          "data": {
            "text/plain": [
              "(200.0, 400.0]      1568\n",
              "(-0.001, 200.0]      595\n",
              "(400.0, 600.0]       575\n",
              "(1000.0, 1200.0]     406\n",
              "(600.0, 800.0]       380\n",
              "(800.0, 1000.0]      207\n",
              "(1200.0, 1400.0]      93\n",
              "Name: count, dtype: int64"
            ],
            "text/html": [
              "<div>\n",
              "<style scoped>\n",
              "    .dataframe tbody tr th:only-of-type {\n",
              "        vertical-align: middle;\n",
              "    }\n",
              "\n",
              "    .dataframe tbody tr th {\n",
              "        vertical-align: top;\n",
              "    }\n",
              "\n",
              "    .dataframe thead th {\n",
              "        text-align: right;\n",
              "    }\n",
              "</style>\n",
              "<table border=\"1\" class=\"dataframe\">\n",
              "  <thead>\n",
              "    <tr style=\"text-align: right;\">\n",
              "      <th></th>\n",
              "      <th>count</th>\n",
              "    </tr>\n",
              "  </thead>\n",
              "  <tbody>\n",
              "    <tr>\n",
              "      <th>(200.0, 400.0]</th>\n",
              "      <td>1568</td>\n",
              "    </tr>\n",
              "    <tr>\n",
              "      <th>(-0.001, 200.0]</th>\n",
              "      <td>595</td>\n",
              "    </tr>\n",
              "    <tr>\n",
              "      <th>(400.0, 600.0]</th>\n",
              "      <td>575</td>\n",
              "    </tr>\n",
              "    <tr>\n",
              "      <th>(1000.0, 1200.0]</th>\n",
              "      <td>406</td>\n",
              "    </tr>\n",
              "    <tr>\n",
              "      <th>(600.0, 800.0]</th>\n",
              "      <td>380</td>\n",
              "    </tr>\n",
              "    <tr>\n",
              "      <th>(800.0, 1000.0]</th>\n",
              "      <td>207</td>\n",
              "    </tr>\n",
              "    <tr>\n",
              "      <th>(1200.0, 1400.0]</th>\n",
              "      <td>93</td>\n",
              "    </tr>\n",
              "  </tbody>\n",
              "</table>\n",
              "</div><br><label><b>dtype:</b> int64</label>"
            ]
          },
          "metadata": {},
          "execution_count": 51
        }
      ],
      "source": [
        "buckets = [0, 200, 400, 600, 800,\\\n",
        "           1000, 1200, 1400]\n",
        "google.value_counts(bins = buckets)"
      ]
    },
    {
      "cell_type": "code",
      "execution_count": null,
      "metadata": {
        "id": "bXXkaqfbimvT",
        "outputId": "9d5b0da2-285b-4eef-ca98-1baab871a62c"
      },
      "outputs": [
        {
          "data": {
            "text/plain": [
              "(-0.001, 200.0]      595\n",
              "(200.0, 400.0]      1568\n",
              "(400.0, 600.0]       575\n",
              "(600.0, 800.0]       380\n",
              "(800.0, 1000.0]      207\n",
              "(1000.0, 1200.0]     406\n",
              "(1200.0, 1400.0]      93\n",
              "Name: Close, dtype: int64"
            ]
          },
          "execution_count": 47,
          "metadata": {},
          "output_type": "execute_result"
        }
      ],
      "source": [
        "google.value_counts(bins = buckets).sort_index()"
      ]
    },
    {
      "cell_type": "code",
      "execution_count": null,
      "metadata": {
        "id": "8aX2fjL3imvT",
        "outputId": "01054c98-428c-442d-ee19-48bb1242fefd"
      },
      "outputs": [
        {
          "data": {
            "text/plain": [
              "(-0.001, 200.0]      595\n",
              "(200.0, 400.0]      1568\n",
              "(400.0, 600.0]       575\n",
              "(600.0, 800.0]       380\n",
              "(800.0, 1000.0]      207\n",
              "(1000.0, 1200.0]     406\n",
              "(1200.0, 1400.0]      93\n",
              "Name: Close, dtype: int64"
            ]
          },
          "execution_count": 48,
          "metadata": {},
          "output_type": "execute_result"
        }
      ],
      "source": [
        "google.value_counts(bins = buckets, sort = False)"
      ]
    },
    {
      "cell_type": "code",
      "execution_count": 52,
      "metadata": {
        "id": "BB06QKmUimvT",
        "outputId": "b5ffc050-186e-42aa-dea4-1491295f3a1c",
        "colab": {
          "base_uri": "https://localhost:8080/",
          "height": 272
        }
      },
      "outputs": [
        {
          "output_type": "execute_result",
          "data": {
            "text/plain": [
              "(48.581, 256.113]      1204\n",
              "(256.113, 462.407]     1104\n",
              "(462.407, 668.7]        507\n",
              "(668.7, 874.993]        380\n",
              "(1081.287, 1287.58]     337\n",
              "(874.993, 1081.287]     292\n",
              "Name: count, dtype: int64"
            ],
            "text/html": [
              "<div>\n",
              "<style scoped>\n",
              "    .dataframe tbody tr th:only-of-type {\n",
              "        vertical-align: middle;\n",
              "    }\n",
              "\n",
              "    .dataframe tbody tr th {\n",
              "        vertical-align: top;\n",
              "    }\n",
              "\n",
              "    .dataframe thead th {\n",
              "        text-align: right;\n",
              "    }\n",
              "</style>\n",
              "<table border=\"1\" class=\"dataframe\">\n",
              "  <thead>\n",
              "    <tr style=\"text-align: right;\">\n",
              "      <th></th>\n",
              "      <th>count</th>\n",
              "    </tr>\n",
              "  </thead>\n",
              "  <tbody>\n",
              "    <tr>\n",
              "      <th>(48.581, 256.113]</th>\n",
              "      <td>1204</td>\n",
              "    </tr>\n",
              "    <tr>\n",
              "      <th>(256.113, 462.407]</th>\n",
              "      <td>1104</td>\n",
              "    </tr>\n",
              "    <tr>\n",
              "      <th>(462.407, 668.7]</th>\n",
              "      <td>507</td>\n",
              "    </tr>\n",
              "    <tr>\n",
              "      <th>(668.7, 874.993]</th>\n",
              "      <td>380</td>\n",
              "    </tr>\n",
              "    <tr>\n",
              "      <th>(1081.287, 1287.58]</th>\n",
              "      <td>337</td>\n",
              "    </tr>\n",
              "    <tr>\n",
              "      <th>(874.993, 1081.287]</th>\n",
              "      <td>292</td>\n",
              "    </tr>\n",
              "  </tbody>\n",
              "</table>\n",
              "</div><br><label><b>dtype:</b> int64</label>"
            ]
          },
          "metadata": {},
          "execution_count": 52
        }
      ],
      "source": [
        "google.value_counts(bins = 6)"
      ]
    },
    {
      "cell_type": "code",
      "execution_count": null,
      "metadata": {
        "id": "cUsORCBcimvT",
        "outputId": "31a143f9-50bd-459b-f840-11ed3d324bf9"
      },
      "outputs": [
        {
          "data": {
            "text/plain": [
              "Start Date\n",
              "1781-09-06    Connecticut\n",
              "1779-07-05    Connecticut\n",
              "1777-04-27    Connecticut\n",
              "1777-09-03       Delaware\n",
              "1777-05-17        Florida\n",
              "Name: State, dtype: object"
            ]
          },
          "execution_count": 50,
          "metadata": {},
          "output_type": "execute_result"
        }
      ],
      "source": [
        "battles.head()"
      ]
    },
    {
      "cell_type": "code",
      "execution_count": null,
      "metadata": {
        "id": "hvI1VzCtimvU",
        "outputId": "5c6c5aab-3dd2-4a38-e8db-1aa0ae420a1c"
      },
      "outputs": [
        {
          "data": {
            "text/plain": [
              "South Carolina    31\n",
              "New York          28\n",
              "New Jersey        24\n",
              "Virginia          21\n",
              "Massachusetts     11\n",
              "Name: State, dtype: int64"
            ]
          },
          "execution_count": 51,
          "metadata": {},
          "output_type": "execute_result"
        }
      ],
      "source": [
        "battles.value_counts().head()"
      ]
    },
    {
      "cell_type": "code",
      "execution_count": 53,
      "metadata": {
        "id": "gRM87QrwimvU",
        "outputId": "68d2b7fe-f4ce-4632-e95e-3807b786a5ef",
        "colab": {
          "base_uri": "https://localhost:8080/",
          "height": 272
        }
      },
      "outputs": [
        {
          "output_type": "execute_result",
          "data": {
            "text/plain": [
              "State\n",
              "NaN               70\n",
              "South Carolina    31\n",
              "New York          28\n",
              "New Jersey        24\n",
              "Virginia          21\n",
              "Name: count, dtype: int64"
            ],
            "text/html": [
              "<div>\n",
              "<style scoped>\n",
              "    .dataframe tbody tr th:only-of-type {\n",
              "        vertical-align: middle;\n",
              "    }\n",
              "\n",
              "    .dataframe tbody tr th {\n",
              "        vertical-align: top;\n",
              "    }\n",
              "\n",
              "    .dataframe thead th {\n",
              "        text-align: right;\n",
              "    }\n",
              "</style>\n",
              "<table border=\"1\" class=\"dataframe\">\n",
              "  <thead>\n",
              "    <tr style=\"text-align: right;\">\n",
              "      <th></th>\n",
              "      <th>count</th>\n",
              "    </tr>\n",
              "    <tr>\n",
              "      <th>State</th>\n",
              "      <th></th>\n",
              "    </tr>\n",
              "  </thead>\n",
              "  <tbody>\n",
              "    <tr>\n",
              "      <th>NaN</th>\n",
              "      <td>70</td>\n",
              "    </tr>\n",
              "    <tr>\n",
              "      <th>South Carolina</th>\n",
              "      <td>31</td>\n",
              "    </tr>\n",
              "    <tr>\n",
              "      <th>New York</th>\n",
              "      <td>28</td>\n",
              "    </tr>\n",
              "    <tr>\n",
              "      <th>New Jersey</th>\n",
              "      <td>24</td>\n",
              "    </tr>\n",
              "    <tr>\n",
              "      <th>Virginia</th>\n",
              "      <td>21</td>\n",
              "    </tr>\n",
              "  </tbody>\n",
              "</table>\n",
              "</div><br><label><b>dtype:</b> int64</label>"
            ]
          },
          "metadata": {},
          "execution_count": 53
        }
      ],
      "source": [
        "battles\\\n",
        ".value_counts(dropna = False)\\\n",
        ".head()"
      ]
    },
    {
      "cell_type": "code",
      "execution_count": null,
      "metadata": {
        "id": "AZA-Hjf2imvU",
        "outputId": "e5be4ac7-259a-4f26-cd9d-20ccc3ece8a1"
      },
      "outputs": [
        {
          "data": {
            "text/plain": [
              "DatetimeIndex(['1781-09-06', '1779-07-05', '1777-04-27', '1777-09-03',\n",
              "               '1777-05-17', '1779-09-10', '1779-09-07', '1780-03-02',\n",
              "               '1778-06-30', '1781-01-07',\n",
              "               ...\n",
              "               '1782-05-06', '1782-05-25', '1782-05-28', '1782-07-01',\n",
              "               '1782-07-06', '1782-08-08', '1782-08-25', '1782-09-13',\n",
              "               '1782-10-18', '1782-12-06'],\n",
              "              dtype='datetime64[ns]', name='Start Date', length=232, freq=None)"
            ]
          },
          "execution_count": 53,
          "metadata": {},
          "output_type": "execute_result"
        }
      ],
      "source": [
        "battles.index"
      ]
    },
    {
      "cell_type": "code",
      "execution_count": null,
      "metadata": {
        "id": "orjWp8UiimvU",
        "outputId": "d86e7203-76e3-4b66-f558-9ea65ff6dc4e"
      },
      "outputs": [
        {
          "data": {
            "text/plain": [
              "1782-01-11    2\n",
              "1778-09-07    2\n",
              "1780-05-25    2\n",
              "1782-03-16    2\n",
              "1781-09-13    2\n",
              "             ..\n",
              "1776-03-25    1\n",
              "1782-08-08    1\n",
              "1775-04-20    1\n",
              "1776-10-11    1\n",
              "1780-03-02    1\n",
              "Name: Start Date, Length: 217, dtype: int64"
            ]
          },
          "execution_count": 54,
          "metadata": {},
          "output_type": "execute_result"
        }
      ],
      "source": [
        "battles.index.value_counts()"
      ]
    },
    {
      "cell_type": "markdown",
      "metadata": {
        "id": "ZNaa5MZuimvU"
      },
      "source": [
        "## 3.5 Invoking a Function on Every Series Value with the apply Method"
      ]
    },
    {
      "cell_type": "code",
      "execution_count": 54,
      "metadata": {
        "id": "jxavuE2AimvU"
      },
      "outputs": [],
      "source": [
        "funcs = [len, max, min]"
      ]
    },
    {
      "cell_type": "code",
      "execution_count": 55,
      "metadata": {
        "id": "BOSQXMS4imvU",
        "outputId": "db2c7301-5c41-4461-83e9-c9126cf7df28",
        "colab": {
          "base_uri": "https://localhost:8080/"
        }
      },
      "outputs": [
        {
          "output_type": "stream",
          "name": "stdout",
          "text": [
            "3824\n",
            "1287.58\n",
            "49.82\n"
          ]
        }
      ],
      "source": [
        "funcs = [len, max, min]\n",
        "\n",
        "for current_func in funcs:\n",
        "    print(current_func(google))"
      ]
    },
    {
      "cell_type": "code",
      "execution_count": null,
      "metadata": {
        "id": "v5LHXE2bimvV",
        "outputId": "c37c580d-8839-4768-f5f6-277689a08f4e"
      },
      "outputs": [
        {
          "data": {
            "text/plain": [
              "99"
            ]
          },
          "execution_count": 57,
          "metadata": {},
          "output_type": "execute_result"
        }
      ],
      "source": [
        "round(99.2)"
      ]
    },
    {
      "cell_type": "code",
      "execution_count": null,
      "metadata": {
        "id": "fSPnMrTzimvV",
        "outputId": "411b3e73-5b01-4c8e-e704-3197d0f5e947"
      },
      "outputs": [
        {
          "data": {
            "text/plain": [
              "99"
            ]
          },
          "execution_count": 58,
          "metadata": {},
          "output_type": "execute_result"
        }
      ],
      "source": [
        "round(99.49)"
      ]
    },
    {
      "cell_type": "code",
      "execution_count": null,
      "metadata": {
        "id": "tLWklSwzimvV",
        "outputId": "e517b09b-0e1b-45d3-abee-18d4457107a0"
      },
      "outputs": [
        {
          "data": {
            "text/plain": [
              "100"
            ]
          },
          "execution_count": 59,
          "metadata": {},
          "output_type": "execute_result"
        }
      ],
      "source": [
        "round(99.5)"
      ]
    },
    {
      "cell_type": "code",
      "source": [
        "google"
      ],
      "metadata": {
        "id": "gWdIJe7bOYA5",
        "outputId": "c92f0b4a-82a0-4e38-e648-6f3530c1730f",
        "colab": {
          "base_uri": "https://localhost:8080/",
          "height": 489
        }
      },
      "execution_count": 56,
      "outputs": [
        {
          "output_type": "execute_result",
          "data": {
            "text/plain": [
              "Date\n",
              "2004-08-19      49.98\n",
              "2004-08-20      53.95\n",
              "2004-08-23      54.50\n",
              "2004-08-24      52.24\n",
              "2004-08-25      52.80\n",
              "               ...   \n",
              "2019-10-21    1246.15\n",
              "2019-10-22    1242.80\n",
              "2019-10-23    1259.13\n",
              "2019-10-24    1260.99\n",
              "2019-10-25    1265.13\n",
              "Name: Close, Length: 3824, dtype: float64"
            ],
            "text/html": [
              "<div>\n",
              "<style scoped>\n",
              "    .dataframe tbody tr th:only-of-type {\n",
              "        vertical-align: middle;\n",
              "    }\n",
              "\n",
              "    .dataframe tbody tr th {\n",
              "        vertical-align: top;\n",
              "    }\n",
              "\n",
              "    .dataframe thead th {\n",
              "        text-align: right;\n",
              "    }\n",
              "</style>\n",
              "<table border=\"1\" class=\"dataframe\">\n",
              "  <thead>\n",
              "    <tr style=\"text-align: right;\">\n",
              "      <th></th>\n",
              "      <th>Close</th>\n",
              "    </tr>\n",
              "    <tr>\n",
              "      <th>Date</th>\n",
              "      <th></th>\n",
              "    </tr>\n",
              "  </thead>\n",
              "  <tbody>\n",
              "    <tr>\n",
              "      <th>2004-08-19</th>\n",
              "      <td>49.98</td>\n",
              "    </tr>\n",
              "    <tr>\n",
              "      <th>2004-08-20</th>\n",
              "      <td>53.95</td>\n",
              "    </tr>\n",
              "    <tr>\n",
              "      <th>2004-08-23</th>\n",
              "      <td>54.50</td>\n",
              "    </tr>\n",
              "    <tr>\n",
              "      <th>2004-08-24</th>\n",
              "      <td>52.24</td>\n",
              "    </tr>\n",
              "    <tr>\n",
              "      <th>2004-08-25</th>\n",
              "      <td>52.80</td>\n",
              "    </tr>\n",
              "    <tr>\n",
              "      <th>...</th>\n",
              "      <td>...</td>\n",
              "    </tr>\n",
              "    <tr>\n",
              "      <th>2019-10-21</th>\n",
              "      <td>1246.15</td>\n",
              "    </tr>\n",
              "    <tr>\n",
              "      <th>2019-10-22</th>\n",
              "      <td>1242.80</td>\n",
              "    </tr>\n",
              "    <tr>\n",
              "      <th>2019-10-23</th>\n",
              "      <td>1259.13</td>\n",
              "    </tr>\n",
              "    <tr>\n",
              "      <th>2019-10-24</th>\n",
              "      <td>1260.99</td>\n",
              "    </tr>\n",
              "    <tr>\n",
              "      <th>2019-10-25</th>\n",
              "      <td>1265.13</td>\n",
              "    </tr>\n",
              "  </tbody>\n",
              "</table>\n",
              "<p>3824 rows × 1 columns</p>\n",
              "</div><br><label><b>dtype:</b> float64</label>"
            ]
          },
          "metadata": {},
          "execution_count": 56
        }
      ]
    },
    {
      "cell_type": "code",
      "execution_count": 59,
      "metadata": {
        "id": "gFPx_MbLimvV",
        "outputId": "bd7ba241-a4be-420b-d0e4-01abc4782642",
        "colab": {
          "base_uri": "https://localhost:8080/",
          "height": 272
        }
      },
      "outputs": [
        {
          "output_type": "execute_result",
          "data": {
            "text/plain": [
              "Date\n",
              "2004-08-19    50\n",
              "2004-08-20    54\n",
              "2004-08-23    54\n",
              "2004-08-24    52\n",
              "2004-08-25    53\n",
              "Name: Close, dtype: int64"
            ],
            "text/html": [
              "<div>\n",
              "<style scoped>\n",
              "    .dataframe tbody tr th:only-of-type {\n",
              "        vertical-align: middle;\n",
              "    }\n",
              "\n",
              "    .dataframe tbody tr th {\n",
              "        vertical-align: top;\n",
              "    }\n",
              "\n",
              "    .dataframe thead th {\n",
              "        text-align: right;\n",
              "    }\n",
              "</style>\n",
              "<table border=\"1\" class=\"dataframe\">\n",
              "  <thead>\n",
              "    <tr style=\"text-align: right;\">\n",
              "      <th></th>\n",
              "      <th>Close</th>\n",
              "    </tr>\n",
              "    <tr>\n",
              "      <th>Date</th>\n",
              "      <th></th>\n",
              "    </tr>\n",
              "  </thead>\n",
              "  <tbody>\n",
              "    <tr>\n",
              "      <th>2004-08-19</th>\n",
              "      <td>50</td>\n",
              "    </tr>\n",
              "    <tr>\n",
              "      <th>2004-08-20</th>\n",
              "      <td>54</td>\n",
              "    </tr>\n",
              "    <tr>\n",
              "      <th>2004-08-23</th>\n",
              "      <td>54</td>\n",
              "    </tr>\n",
              "    <tr>\n",
              "      <th>2004-08-24</th>\n",
              "      <td>52</td>\n",
              "    </tr>\n",
              "    <tr>\n",
              "      <th>2004-08-25</th>\n",
              "      <td>53</td>\n",
              "    </tr>\n",
              "  </tbody>\n",
              "</table>\n",
              "</div><br><label><b>dtype:</b> int64</label>"
            ]
          },
          "metadata": {},
          "execution_count": 59
        }
      ],
      "source": [
        "# The two lines below are\n",
        "# equivalent\n",
        "google.apply(func = round)\n",
        "google.apply(round).head()"
      ]
    },
    {
      "cell_type": "code",
      "source": [
        "google.round().head()"
      ],
      "metadata": {
        "id": "qJEeY1AHOdgS",
        "outputId": "f5c9c6a9-e5c6-410f-b3c4-80f482e8961f",
        "colab": {
          "base_uri": "https://localhost:8080/",
          "height": 272
        }
      },
      "execution_count": 60,
      "outputs": [
        {
          "output_type": "execute_result",
          "data": {
            "text/plain": [
              "Date\n",
              "2004-08-19    50.0\n",
              "2004-08-20    54.0\n",
              "2004-08-23    54.0\n",
              "2004-08-24    52.0\n",
              "2004-08-25    53.0\n",
              "Name: Close, dtype: float64"
            ],
            "text/html": [
              "<div>\n",
              "<style scoped>\n",
              "    .dataframe tbody tr th:only-of-type {\n",
              "        vertical-align: middle;\n",
              "    }\n",
              "\n",
              "    .dataframe tbody tr th {\n",
              "        vertical-align: top;\n",
              "    }\n",
              "\n",
              "    .dataframe thead th {\n",
              "        text-align: right;\n",
              "    }\n",
              "</style>\n",
              "<table border=\"1\" class=\"dataframe\">\n",
              "  <thead>\n",
              "    <tr style=\"text-align: right;\">\n",
              "      <th></th>\n",
              "      <th>Close</th>\n",
              "    </tr>\n",
              "    <tr>\n",
              "      <th>Date</th>\n",
              "      <th></th>\n",
              "    </tr>\n",
              "  </thead>\n",
              "  <tbody>\n",
              "    <tr>\n",
              "      <th>2004-08-19</th>\n",
              "      <td>50.0</td>\n",
              "    </tr>\n",
              "    <tr>\n",
              "      <th>2004-08-20</th>\n",
              "      <td>54.0</td>\n",
              "    </tr>\n",
              "    <tr>\n",
              "      <th>2004-08-23</th>\n",
              "      <td>54.0</td>\n",
              "    </tr>\n",
              "    <tr>\n",
              "      <th>2004-08-24</th>\n",
              "      <td>52.0</td>\n",
              "    </tr>\n",
              "    <tr>\n",
              "      <th>2004-08-25</th>\n",
              "      <td>53.0</td>\n",
              "    </tr>\n",
              "  </tbody>\n",
              "</table>\n",
              "</div><br><label><b>dtype:</b> float64</label>"
            ]
          },
          "metadata": {},
          "execution_count": 60
        }
      ]
    },
    {
      "cell_type": "code",
      "execution_count": 61,
      "metadata": {
        "id": "oHk-9uilimvV"
      },
      "outputs": [],
      "source": [
        "def single_or_multi(pokemon_type):\n",
        "    if \"/\" in pokemon_type:\n",
        "        return \"Multi\"\n",
        "\n",
        "    return \"Single\""
      ]
    },
    {
      "cell_type": "code",
      "execution_count": 63,
      "metadata": {
        "id": "l-D1Tiy7imvW",
        "outputId": "0bd94f91-7b54-46c0-a859-4582e1b3abfa",
        "colab": {
          "base_uri": "https://localhost:8080/",
          "height": 272
        }
      },
      "outputs": [
        {
          "output_type": "execute_result",
          "data": {
            "text/plain": [
              "Pokemon\n",
              "Bulbasaur      Multi\n",
              "Ivysaur        Multi\n",
              "Venusaur       Multi\n",
              "Charmander    Single\n",
              "Charmeleon    Single\n",
              "Name: Type, dtype: object"
            ],
            "text/html": [
              "<div>\n",
              "<style scoped>\n",
              "    .dataframe tbody tr th:only-of-type {\n",
              "        vertical-align: middle;\n",
              "    }\n",
              "\n",
              "    .dataframe tbody tr th {\n",
              "        vertical-align: top;\n",
              "    }\n",
              "\n",
              "    .dataframe thead th {\n",
              "        text-align: right;\n",
              "    }\n",
              "</style>\n",
              "<table border=\"1\" class=\"dataframe\">\n",
              "  <thead>\n",
              "    <tr style=\"text-align: right;\">\n",
              "      <th></th>\n",
              "      <th>Type</th>\n",
              "    </tr>\n",
              "    <tr>\n",
              "      <th>Pokemon</th>\n",
              "      <th></th>\n",
              "    </tr>\n",
              "  </thead>\n",
              "  <tbody>\n",
              "    <tr>\n",
              "      <th>Bulbasaur</th>\n",
              "      <td>Multi</td>\n",
              "    </tr>\n",
              "    <tr>\n",
              "      <th>Ivysaur</th>\n",
              "      <td>Multi</td>\n",
              "    </tr>\n",
              "    <tr>\n",
              "      <th>Venusaur</th>\n",
              "      <td>Multi</td>\n",
              "    </tr>\n",
              "    <tr>\n",
              "      <th>Charmander</th>\n",
              "      <td>Single</td>\n",
              "    </tr>\n",
              "    <tr>\n",
              "      <th>Charmeleon</th>\n",
              "      <td>Single</td>\n",
              "    </tr>\n",
              "  </tbody>\n",
              "</table>\n",
              "</div><br><label><b>dtype:</b> object</label>"
            ]
          },
          "metadata": {},
          "execution_count": 63
        }
      ],
      "source": [
        "pokemon.apply(single_or_multi)\\\n",
        ".head()"
      ]
    },
    {
      "cell_type": "code",
      "execution_count": null,
      "metadata": {
        "id": "EnOSAsx2imvW",
        "outputId": "3aceb189-e027-4462-e761-d8992294e6a8"
      },
      "outputs": [
        {
          "data": {
            "text/plain": [
              "Multi     405\n",
              "Single    404\n",
              "Name: Type, dtype: int64"
            ]
          },
          "execution_count": 64,
          "metadata": {},
          "output_type": "execute_result"
        }
      ],
      "source": [
        "pokemon.apply(single_or_multi).value_counts()"
      ]
    },
    {
      "cell_type": "markdown",
      "metadata": {
        "id": "U2Wc5y-6imvW"
      },
      "source": [
        "## 3.6 Coding Challenge"
      ]
    },
    {
      "cell_type": "markdown",
      "metadata": {
        "id": "tRyObPPJimvW"
      },
      "source": [
        "### 3.6.1 Problems"
      ]
    },
    {
      "cell_type": "markdown",
      "metadata": {
        "id": "WSbrmXJ_imvW"
      },
      "source": [
        "### 3.6.2 Solutions"
      ]
    },
    {
      "cell_type": "code",
      "execution_count": 64,
      "metadata": {
        "id": "aJFN1KrbimvW",
        "outputId": "6364caf9-097c-4ec6-ab62-3f904411cb57",
        "colab": {
          "base_uri": "https://localhost:8080/",
          "height": 36
        }
      },
      "outputs": [
        {
          "output_type": "execute_result",
          "data": {
            "text/plain": [
              "'Saturday'"
            ],
            "application/vnd.google.colaboratory.intrinsic+json": {
              "type": "string"
            }
          },
          "metadata": {},
          "execution_count": 64
        }
      ],
      "source": [
        "import datetime as dt\n",
        "today = dt.datetime(2020, 12, 26)\n",
        "today.strftime(\"%A\")"
      ]
    },
    {
      "cell_type": "code",
      "source": [
        "today"
      ],
      "metadata": {
        "id": "K1sNqAYfRCGA",
        "outputId": "cded0817-ed03-4e98-c283-680d9068abb3",
        "colab": {
          "base_uri": "https://localhost:8080/"
        }
      },
      "execution_count": 69,
      "outputs": [
        {
          "output_type": "execute_result",
          "data": {
            "text/plain": [
              "datetime.datetime(2020, 12, 26, 0, 0)"
            ]
          },
          "metadata": {},
          "execution_count": 69
        }
      ]
    },
    {
      "cell_type": "code",
      "execution_count": null,
      "metadata": {
        "id": "D3tvwNtOimvX",
        "outputId": "a1479626-611d-4f0f-87c2-f7983d763b1e"
      },
      "outputs": [
        {
          "data": {
            "text/html": [
              "<div>\n",
              "<style scoped>\n",
              "    .dataframe tbody tr th:only-of-type {\n",
              "        vertical-align: middle;\n",
              "    }\n",
              "\n",
              "    .dataframe tbody tr th {\n",
              "        vertical-align: top;\n",
              "    }\n",
              "\n",
              "    .dataframe thead th {\n",
              "        text-align: right;\n",
              "    }\n",
              "</style>\n",
              "<table border=\"1\" class=\"dataframe\">\n",
              "  <thead>\n",
              "    <tr style=\"text-align: right;\">\n",
              "      <th></th>\n",
              "      <th>Battle</th>\n",
              "      <th>Start Date</th>\n",
              "      <th>State</th>\n",
              "    </tr>\n",
              "  </thead>\n",
              "  <tbody>\n",
              "    <tr>\n",
              "      <th>0</th>\n",
              "      <td>Powder Alarm</td>\n",
              "      <td>9/1/1774</td>\n",
              "      <td>Massachusetts</td>\n",
              "    </tr>\n",
              "    <tr>\n",
              "      <th>1</th>\n",
              "      <td>Storming of Fort William and Mary</td>\n",
              "      <td>12/14/1774</td>\n",
              "      <td>New Hampshire</td>\n",
              "    </tr>\n",
              "    <tr>\n",
              "      <th>2</th>\n",
              "      <td>Battles of Lexington and Concord</td>\n",
              "      <td>4/19/1775</td>\n",
              "      <td>Massachusetts</td>\n",
              "    </tr>\n",
              "    <tr>\n",
              "      <th>3</th>\n",
              "      <td>Siege of Boston</td>\n",
              "      <td>4/19/1775</td>\n",
              "      <td>Massachusetts</td>\n",
              "    </tr>\n",
              "    <tr>\n",
              "      <th>4</th>\n",
              "      <td>Gunpowder Incident</td>\n",
              "      <td>4/20/1775</td>\n",
              "      <td>Virginia</td>\n",
              "    </tr>\n",
              "  </tbody>\n",
              "</table>\n",
              "</div>"
            ],
            "text/plain": [
              "                              Battle  Start Date          State\n",
              "0                       Powder Alarm    9/1/1774  Massachusetts\n",
              "1  Storming of Fort William and Mary  12/14/1774  New Hampshire\n",
              "2   Battles of Lexington and Concord   4/19/1775  Massachusetts\n",
              "3                    Siege of Boston   4/19/1775  Massachusetts\n",
              "4                 Gunpowder Incident   4/20/1775       Virginia"
            ]
          },
          "execution_count": 66,
          "metadata": {},
          "output_type": "execute_result"
        }
      ],
      "source": [
        "pd.read_csv(\"revolutionary_war.csv\").head()"
      ]
    },
    {
      "cell_type": "code",
      "execution_count": 70,
      "metadata": {
        "id": "_-3y9pCvimvX",
        "outputId": "b91ad497-4664-4d6d-f56c-04fcd963d892",
        "colab": {
          "base_uri": "https://localhost:8080/",
          "height": 241
        }
      },
      "outputs": [
        {
          "output_type": "execute_result",
          "data": {
            "text/plain": [
              "0   1774-09-01\n",
              "1   1774-12-14\n",
              "2   1775-04-19\n",
              "3   1775-04-19\n",
              "4   1775-04-20\n",
              "Name: Start Date, dtype: datetime64[ns]"
            ],
            "text/html": [
              "<div>\n",
              "<style scoped>\n",
              "    .dataframe tbody tr th:only-of-type {\n",
              "        vertical-align: middle;\n",
              "    }\n",
              "\n",
              "    .dataframe tbody tr th {\n",
              "        vertical-align: top;\n",
              "    }\n",
              "\n",
              "    .dataframe thead th {\n",
              "        text-align: right;\n",
              "    }\n",
              "</style>\n",
              "<table border=\"1\" class=\"dataframe\">\n",
              "  <thead>\n",
              "    <tr style=\"text-align: right;\">\n",
              "      <th></th>\n",
              "      <th>Start Date</th>\n",
              "    </tr>\n",
              "  </thead>\n",
              "  <tbody>\n",
              "    <tr>\n",
              "      <th>0</th>\n",
              "      <td>1774-09-01</td>\n",
              "    </tr>\n",
              "    <tr>\n",
              "      <th>1</th>\n",
              "      <td>1774-12-14</td>\n",
              "    </tr>\n",
              "    <tr>\n",
              "      <th>2</th>\n",
              "      <td>1775-04-19</td>\n",
              "    </tr>\n",
              "    <tr>\n",
              "      <th>3</th>\n",
              "      <td>1775-04-19</td>\n",
              "    </tr>\n",
              "    <tr>\n",
              "      <th>4</th>\n",
              "      <td>1775-04-20</td>\n",
              "    </tr>\n",
              "  </tbody>\n",
              "</table>\n",
              "</div><br><label><b>dtype:</b> datetime64[ns]</label>"
            ]
          },
          "metadata": {},
          "execution_count": 70
        }
      ],
      "source": [
        "days_of_war = pd.read_csv(\n",
        "    \"3-revolutionary_war.csv\",\n",
        "    usecols = [\"Start Date\"],\n",
        "    parse_dates = [\"Start Date\"])['Start Date']\n",
        "\n",
        "days_of_war.head()"
      ]
    },
    {
      "cell_type": "code",
      "execution_count": 71,
      "metadata": {
        "id": "traiqWQRimvX"
      },
      "outputs": [],
      "source": [
        "def day_of_week(date):\n",
        "    return date.strftime(\"%A\")"
      ]
    },
    {
      "cell_type": "code",
      "execution_count": 74,
      "metadata": {
        "id": "bvjhr4tPimvX",
        "outputId": "b9777f9c-b4a6-4968-fe15-6c39ea835860",
        "colab": {
          "base_uri": "https://localhost:8080/",
          "height": 241
        }
      },
      "outputs": [
        {
          "output_type": "execute_result",
          "data": {
            "text/plain": [
              "0     Thursday\n",
              "1    Wednesday\n",
              "2    Wednesday\n",
              "3    Wednesday\n",
              "4     Thursday\n",
              "Name: Start Date, dtype: object"
            ],
            "text/html": [
              "<div>\n",
              "<style scoped>\n",
              "    .dataframe tbody tr th:only-of-type {\n",
              "        vertical-align: middle;\n",
              "    }\n",
              "\n",
              "    .dataframe tbody tr th {\n",
              "        vertical-align: top;\n",
              "    }\n",
              "\n",
              "    .dataframe thead th {\n",
              "        text-align: right;\n",
              "    }\n",
              "</style>\n",
              "<table border=\"1\" class=\"dataframe\">\n",
              "  <thead>\n",
              "    <tr style=\"text-align: right;\">\n",
              "      <th></th>\n",
              "      <th>Start Date</th>\n",
              "    </tr>\n",
              "  </thead>\n",
              "  <tbody>\n",
              "    <tr>\n",
              "      <th>0</th>\n",
              "      <td>Thursday</td>\n",
              "    </tr>\n",
              "    <tr>\n",
              "      <th>1</th>\n",
              "      <td>Wednesday</td>\n",
              "    </tr>\n",
              "    <tr>\n",
              "      <th>2</th>\n",
              "      <td>Wednesday</td>\n",
              "    </tr>\n",
              "    <tr>\n",
              "      <th>3</th>\n",
              "      <td>Wednesday</td>\n",
              "    </tr>\n",
              "    <tr>\n",
              "      <th>4</th>\n",
              "      <td>Thursday</td>\n",
              "    </tr>\n",
              "  </tbody>\n",
              "</table>\n",
              "</div><br><label><b>dtype:</b> object</label>"
            ]
          },
          "metadata": {},
          "execution_count": 74
        }
      ],
      "source": [
        "days_of_war\\\n",
        ".dropna()\\\n",
        ".apply(day_of_week)\\\n",
        ".head()"
      ]
    },
    {
      "cell_type": "code",
      "execution_count": 73,
      "metadata": {
        "id": "pMXfLnf0imvX",
        "outputId": "ac492763-409f-4d88-9668-397c7b12d89f",
        "colab": {
          "base_uri": "https://localhost:8080/",
          "height": 335
        }
      },
      "outputs": [
        {
          "output_type": "execute_result",
          "data": {
            "text/plain": [
              "Start Date\n",
              "Saturday     39\n",
              "Friday       39\n",
              "Wednesday    32\n",
              "Thursday     31\n",
              "Sunday       31\n",
              "Tuesday      29\n",
              "Monday       27\n",
              "Name: count, dtype: int64"
            ],
            "text/html": [
              "<div>\n",
              "<style scoped>\n",
              "    .dataframe tbody tr th:only-of-type {\n",
              "        vertical-align: middle;\n",
              "    }\n",
              "\n",
              "    .dataframe tbody tr th {\n",
              "        vertical-align: top;\n",
              "    }\n",
              "\n",
              "    .dataframe thead th {\n",
              "        text-align: right;\n",
              "    }\n",
              "</style>\n",
              "<table border=\"1\" class=\"dataframe\">\n",
              "  <thead>\n",
              "    <tr style=\"text-align: right;\">\n",
              "      <th></th>\n",
              "      <th>count</th>\n",
              "    </tr>\n",
              "    <tr>\n",
              "      <th>Start Date</th>\n",
              "      <th></th>\n",
              "    </tr>\n",
              "  </thead>\n",
              "  <tbody>\n",
              "    <tr>\n",
              "      <th>Saturday</th>\n",
              "      <td>39</td>\n",
              "    </tr>\n",
              "    <tr>\n",
              "      <th>Friday</th>\n",
              "      <td>39</td>\n",
              "    </tr>\n",
              "    <tr>\n",
              "      <th>Wednesday</th>\n",
              "      <td>32</td>\n",
              "    </tr>\n",
              "    <tr>\n",
              "      <th>Thursday</th>\n",
              "      <td>31</td>\n",
              "    </tr>\n",
              "    <tr>\n",
              "      <th>Sunday</th>\n",
              "      <td>31</td>\n",
              "    </tr>\n",
              "    <tr>\n",
              "      <th>Tuesday</th>\n",
              "      <td>29</td>\n",
              "    </tr>\n",
              "    <tr>\n",
              "      <th>Monday</th>\n",
              "      <td>27</td>\n",
              "    </tr>\n",
              "  </tbody>\n",
              "</table>\n",
              "</div><br><label><b>dtype:</b> int64</label>"
            ]
          },
          "metadata": {},
          "execution_count": 73
        }
      ],
      "source": [
        "days_of_war\\\n",
        ".dropna()\\\n",
        ".apply(day_of_week)\\\n",
        ".value_counts()"
      ]
    },
    {
      "cell_type": "markdown",
      "metadata": {
        "id": "p0JciyQaimvY"
      },
      "source": [
        "## 3.7 Summary"
      ]
    },
    {
      "cell_type": "code",
      "execution_count": 75,
      "metadata": {
        "id": "U2rFf8QnimvY",
        "outputId": "4ea407c3-c09c-42f2-da0e-064646f4a234",
        "colab": {
          "base_uri": "https://localhost:8080/"
        }
      },
      "outputs": [
        {
          "output_type": "stream",
          "name": "stdout",
          "text": [
            "10.05.2025 -> 2025-05-10 00:00:00\n",
            "26-June-2005 -> 2005-06-26 00:00:00\n",
            "5 Jan, 11 -> 2011-01-05 00:00:00\n"
          ]
        }
      ],
      "source": [
        "from datetime import datetime as dt\n",
        "\n",
        "first_strdate ='10.05.2025'\n",
        "second_strdate='26-June-2005'\n",
        "third_strdate ='5 Jan, 11'\n",
        "\n",
        "first_date =dt.strptime(first_strdate,  '%d.%m.%Y')\n",
        "second_date=dt.strptime(second_strdate, '%d-%B-%Y')\n",
        "third_date =dt.strptime(third_strdate,  '%d %b, %y')\n",
        "\n",
        "print(first_strdate, '->',  first_date)\n",
        "print(second_strdate, '->', second_date)\n",
        "print(third_strdate, '->',  third_date)"
      ]
    },
    {
      "cell_type": "code",
      "source": [
        "from datetime import datetime as dt\n",
        "\n",
        "time = dt.now()\n",
        "\n",
        "print(time.strftime(\"%d\"))\n",
        "print(time.strftime(\"%A\"), time.strftime(\"%w\"))\n",
        "print(time.strftime(\"%B\"), time.strftime(\"%m\"))\n",
        "print(time.strftime(\"%Y\"), time.strftime(\"%y\"))\n",
        "print(time.strftime(\"%H:%M:%S\"), time.strftime(\"%X\"))\n",
        "\n",
        "print('Current time', format_of_time)"
      ],
      "metadata": {
        "id": "zD8Kk411TClg",
        "outputId": "6ee9c5a0-2606-48fe-a3b5-d5a4d16b792c",
        "colab": {
          "base_uri": "https://localhost:8080/"
        }
      },
      "execution_count": 89,
      "outputs": [
        {
          "output_type": "stream",
          "name": "stdout",
          "text": [
            "28\n",
            "Sunday 0\n",
            "September 09\n",
            "2025 25\n",
            "12:40:32 12:40:32\n",
            "Current time 12:33\n"
          ]
        }
      ]
    },
    {
      "cell_type": "code",
      "source": [],
      "metadata": {
        "id": "lKAG5m3WUBa5",
        "outputId": "2967e536-51c0-49ec-a687-beff6946b767",
        "colab": {
          "base_uri": "https://localhost:8080/",
          "height": 36
        }
      },
      "execution_count": 83,
      "outputs": [
        {
          "output_type": "execute_result",
          "data": {
            "text/plain": [
              "'09'"
            ],
            "application/vnd.google.colaboratory.intrinsic+json": {
              "type": "string"
            }
          },
          "metadata": {},
          "execution_count": 83
        }
      ]
    },
    {
      "cell_type": "code",
      "source": [],
      "metadata": {
        "id": "5_cxbZPfTPFV"
      },
      "execution_count": null,
      "outputs": []
    }
  ],
  "metadata": {
    "kernelspec": {
      "display_name": "Python 3",
      "language": "python",
      "name": "python3"
    },
    "language_info": {
      "codemirror_mode": {
        "name": "ipython",
        "version": 3
      },
      "file_extension": ".py",
      "mimetype": "text/x-python",
      "name": "python",
      "nbconvert_exporter": "python",
      "pygments_lexer": "ipython3",
      "version": "3.9.2"
    },
    "colab": {
      "provenance": []
    }
  },
  "nbformat": 4,
  "nbformat_minor": 0
}