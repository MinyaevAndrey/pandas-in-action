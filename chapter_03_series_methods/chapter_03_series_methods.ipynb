{
  "cells": [
    {
      "cell_type": "markdown",
      "metadata": {
        "id": "NzIQ1_Iiimu7"
      },
      "source": [
        "## 3.1 Importing a Data Set with the read_csv Function"
      ]
    },
    {
      "cell_type": "code",
      "source": [],
      "metadata": {
        "id": "xyldul5cvI2M"
      },
      "execution_count": 3,
      "outputs": []
    },
    {
      "cell_type": "code",
      "source": [
        "#  2026\n",
        "from math import *\n",
        "for a in range(2, 1000):\n",
        "  i = ceil( log2(a) )\n",
        "  N = ceil(2783*i/8)\n",
        "  if (N * 3845627) >= (11*1024*1024*1024):\n",
        "    print(a, N * 3845627, 11*1024*1024*1024)\n",
        "    break"
      ],
      "metadata": {
        "colab": {
          "base_uri": "https://localhost:8080/"
        },
        "id": "ASS-43f4u0MG",
        "outputId": "a8fef6ac-5679-42e3-bea1-a32c5f5c9d22"
      },
      "execution_count": 22,
      "outputs": [
        {
          "output_type": "stream",
          "name": "stdout",
          "text": [
            "257 12040658137 11811160064\n"
          ]
        }
      ]
    },
    {
      "cell_type": "code",
      "source": [
        "#  2025\n",
        "from math import *\n",
        "a = 10 + 52 + 963\n",
        "i = ceil( log2(a) )\n",
        "print(a, i)\n",
        "\n",
        "l = []\n",
        "\n",
        "for n in range(2,1000):\n",
        "  N = ceil(n*i/8)\n",
        "  if (2000*N) <= (693*1024):\n",
        "    # print(n, 2000*N, 693*1024)\n",
        "    l.append(n)\n",
        "max(l)"
      ],
      "metadata": {
        "id": "Hd-4rTOyB7oO",
        "outputId": "5e07ad7d-99a5-4566-a56b-878fe88a7975",
        "colab": {
          "base_uri": "https://localhost:8080/"
        }
      },
      "execution_count": 35,
      "outputs": [
        {
          "output_type": "stream",
          "name": "stdout",
          "text": [
            "1025 11\n"
          ]
        },
        {
          "output_type": "execute_result",
          "data": {
            "text/plain": [
              "257"
            ]
          },
          "metadata": {},
          "execution_count": 35
        }
      ]
    },
    {
      "cell_type": "code",
      "source": [
        "l"
      ],
      "metadata": {
        "id": "-I2fuW5KDO0m",
        "outputId": "cd4058fd-07b5-437f-b849-567220eec49b",
        "colab": {
          "base_uri": "https://localhost:8080/"
        }
      },
      "execution_count": 32,
      "outputs": [
        {
          "output_type": "execute_result",
          "data": {
            "text/plain": [
              "[3,\n",
              " 5,\n",
              " 6,\n",
              " 7,\n",
              " 9,\n",
              " 10,\n",
              " 11,\n",
              " 13,\n",
              " 14,\n",
              " 16,\n",
              " 17,\n",
              " 18,\n",
              " 20,\n",
              " 21,\n",
              " 22,\n",
              " 24,\n",
              " 25,\n",
              " 27,\n",
              " 28,\n",
              " 29,\n",
              " 31,\n",
              " 32,\n",
              " 33,\n",
              " 35,\n",
              " 36,\n",
              " 38,\n",
              " 39,\n",
              " 40,\n",
              " 42,\n",
              " 43,\n",
              " 44,\n",
              " 46,\n",
              " 47,\n",
              " 49,\n",
              " 50,\n",
              " 51,\n",
              " 53,\n",
              " 54,\n",
              " 55,\n",
              " 57,\n",
              " 58,\n",
              " 60,\n",
              " 61,\n",
              " 62,\n",
              " 64,\n",
              " 65,\n",
              " 66,\n",
              " 68,\n",
              " 69,\n",
              " 71,\n",
              " 72,\n",
              " 73,\n",
              " 75,\n",
              " 76,\n",
              " 77,\n",
              " 79,\n",
              " 80,\n",
              " 82,\n",
              " 83,\n",
              " 84,\n",
              " 86,\n",
              " 87,\n",
              " 88,\n",
              " 90,\n",
              " 91,\n",
              " 93,\n",
              " 94,\n",
              " 95,\n",
              " 97,\n",
              " 98,\n",
              " 99,\n",
              " 101,\n",
              " 102,\n",
              " 104,\n",
              " 105,\n",
              " 106,\n",
              " 108,\n",
              " 109,\n",
              " 110,\n",
              " 112,\n",
              " 113,\n",
              " 115,\n",
              " 116,\n",
              " 117,\n",
              " 119,\n",
              " 120,\n",
              " 121,\n",
              " 123,\n",
              " 124,\n",
              " 126,\n",
              " 127,\n",
              " 128,\n",
              " 130,\n",
              " 131,\n",
              " 132,\n",
              " 134,\n",
              " 135,\n",
              " 137,\n",
              " 138,\n",
              " 139,\n",
              " 141,\n",
              " 142,\n",
              " 143,\n",
              " 145,\n",
              " 146,\n",
              " 148,\n",
              " 149,\n",
              " 150,\n",
              " 152,\n",
              " 153,\n",
              " 154,\n",
              " 156,\n",
              " 157,\n",
              " 159,\n",
              " 160,\n",
              " 161,\n",
              " 163,\n",
              " 164,\n",
              " 165,\n",
              " 167,\n",
              " 168,\n",
              " 170,\n",
              " 171,\n",
              " 172,\n",
              " 174,\n",
              " 175,\n",
              " 176,\n",
              " 178,\n",
              " 179,\n",
              " 181,\n",
              " 182,\n",
              " 183,\n",
              " 185,\n",
              " 186,\n",
              " 187,\n",
              " 189,\n",
              " 190,\n",
              " 192,\n",
              " 193,\n",
              " 194,\n",
              " 196,\n",
              " 197,\n",
              " 198,\n",
              " 200,\n",
              " 201,\n",
              " 203,\n",
              " 204,\n",
              " 205,\n",
              " 207,\n",
              " 208,\n",
              " 209,\n",
              " 211,\n",
              " 212,\n",
              " 214,\n",
              " 215,\n",
              " 216,\n",
              " 218,\n",
              " 219,\n",
              " 220,\n",
              " 222,\n",
              " 223,\n",
              " 225,\n",
              " 226,\n",
              " 227,\n",
              " 229,\n",
              " 230,\n",
              " 231,\n",
              " 233,\n",
              " 234,\n",
              " 236,\n",
              " 237,\n",
              " 238,\n",
              " 240,\n",
              " 241,\n",
              " 242,\n",
              " 244,\n",
              " 245,\n",
              " 247,\n",
              " 248,\n",
              " 249,\n",
              " 251,\n",
              " 252,\n",
              " 253,\n",
              " 255,\n",
              " 256,\n",
              " 258,\n",
              " 259,\n",
              " 260,\n",
              " 262,\n",
              " 263,\n",
              " 264,\n",
              " 266,\n",
              " 267,\n",
              " 269,\n",
              " 270,\n",
              " 271,\n",
              " 273,\n",
              " 274,\n",
              " 275,\n",
              " 277,\n",
              " 278,\n",
              " 280,\n",
              " 281,\n",
              " 282,\n",
              " 284,\n",
              " 285,\n",
              " 286,\n",
              " 288,\n",
              " 289,\n",
              " 291,\n",
              " 292,\n",
              " 293,\n",
              " 295,\n",
              " 296,\n",
              " 297,\n",
              " 299,\n",
              " 300,\n",
              " 302,\n",
              " 303,\n",
              " 304,\n",
              " 306,\n",
              " 307,\n",
              " 308,\n",
              " 310,\n",
              " 311,\n",
              " 313,\n",
              " 314,\n",
              " 315,\n",
              " 317,\n",
              " 318,\n",
              " 319,\n",
              " 321,\n",
              " 322,\n",
              " 324,\n",
              " 325,\n",
              " 326,\n",
              " 328,\n",
              " 329,\n",
              " 330,\n",
              " 332,\n",
              " 333,\n",
              " 335,\n",
              " 336,\n",
              " 337,\n",
              " 339,\n",
              " 340,\n",
              " 341,\n",
              " 343,\n",
              " 344,\n",
              " 346,\n",
              " 347,\n",
              " 348,\n",
              " 350,\n",
              " 351,\n",
              " 352,\n",
              " 354]"
            ]
          },
          "metadata": {},
          "execution_count": 32
        }
      ]
    },
    {
      "cell_type": "code",
      "source": [
        "for m in range(100):\n",
        "  print(m, m*i)"
      ],
      "metadata": {
        "id": "0HEM_EMr2S-C",
        "outputId": "78b346a4-cec6-4d86-c7b4-e398057d1491",
        "colab": {
          "base_uri": "https://localhost:8080/"
        }
      },
      "execution_count": 19,
      "outputs": [
        {
          "output_type": "stream",
          "name": "stdout",
          "text": [
            "0 0\n",
            "1 12\n",
            "2 24\n",
            "3 36\n",
            "4 48\n",
            "5 60\n",
            "6 72\n",
            "7 84\n",
            "8 96\n",
            "9 108\n",
            "10 120\n",
            "11 132\n",
            "12 144\n",
            "13 156\n",
            "14 168\n",
            "15 180\n",
            "16 192\n",
            "17 204\n",
            "18 216\n",
            "19 228\n",
            "20 240\n",
            "21 252\n",
            "22 264\n",
            "23 276\n",
            "24 288\n",
            "25 300\n",
            "26 312\n",
            "27 324\n",
            "28 336\n",
            "29 348\n",
            "30 360\n",
            "31 372\n",
            "32 384\n",
            "33 396\n",
            "34 408\n",
            "35 420\n",
            "36 432\n",
            "37 444\n",
            "38 456\n",
            "39 468\n",
            "40 480\n",
            "41 492\n",
            "42 504\n",
            "43 516\n",
            "44 528\n",
            "45 540\n",
            "46 552\n",
            "47 564\n",
            "48 576\n",
            "49 588\n",
            "50 600\n",
            "51 612\n",
            "52 624\n",
            "53 636\n",
            "54 648\n",
            "55 660\n",
            "56 672\n",
            "57 684\n",
            "58 696\n",
            "59 708\n",
            "60 720\n",
            "61 732\n",
            "62 744\n",
            "63 756\n",
            "64 768\n",
            "65 780\n",
            "66 792\n",
            "67 804\n",
            "68 816\n",
            "69 828\n",
            "70 840\n",
            "71 852\n",
            "72 864\n",
            "73 876\n",
            "74 888\n",
            "75 900\n",
            "76 912\n",
            "77 924\n",
            "78 936\n",
            "79 948\n",
            "80 960\n",
            "81 972\n",
            "82 984\n",
            "83 996\n",
            "84 1008\n",
            "85 1020\n",
            "86 1032\n",
            "87 1044\n",
            "88 1056\n",
            "89 1068\n",
            "90 1080\n",
            "91 1092\n",
            "92 1104\n",
            "93 1116\n",
            "94 1128\n",
            "95 1140\n",
            "96 1152\n",
            "97 1164\n",
            "98 1176\n",
            "99 1188\n"
          ]
        }
      ]
    },
    {
      "cell_type": "code",
      "execution_count": 2,
      "metadata": {
        "id": "WWO55pqnimu9"
      },
      "outputs": [],
      "source": [
        "import pandas as pd"
      ]
    },
    {
      "cell_type": "code",
      "source": [
        "!wget https://github.com/MinyaevAndrey/pandas-in-action/blob/master/chapter_03_series_methods/pokemon.csv"
      ],
      "metadata": {
        "colab": {
          "base_uri": "https://localhost:8080/"
        },
        "id": "bUd_id_wi7Oo",
        "outputId": "e2bb473d-46e9-44c4-c5f7-34950f3125ef"
      },
      "execution_count": 1,
      "outputs": [
        {
          "output_type": "stream",
          "name": "stdout",
          "text": [
            "--2025-09-27 14:20:27--  https://github.com/MinyaevAndrey/pandas-in-action/blob/master/chapter_03_series_methods/pokemon.csv\n",
            "Resolving github.com (github.com)... 140.82.114.4\n",
            "Connecting to github.com (github.com)|140.82.114.4|:443... connected.\n",
            "HTTP request sent, awaiting response... 200 OK\n",
            "Length: unspecified [text/html]\n",
            "Saving to: ‘pokemon.csv’\n",
            "\n",
            "pokemon.csv             [ <=>                ] 200.17K  --.-KB/s    in 0.04s   \n",
            "\n",
            "2025-09-27 14:20:28 (4.53 MB/s) - ‘pokemon.csv’ saved [204977]\n",
            "\n"
          ]
        }
      ]
    },
    {
      "cell_type": "code",
      "execution_count": null,
      "metadata": {
        "id": "Yt2Eo5_Zimu-",
        "outputId": "e5c02729-edd1-4006-973b-5b05d6899e03"
      },
      "outputs": [
        {
          "data": {
            "text/html": [
              "<div>\n",
              "<style scoped>\n",
              "    .dataframe tbody tr th:only-of-type {\n",
              "        vertical-align: middle;\n",
              "    }\n",
              "\n",
              "    .dataframe tbody tr th {\n",
              "        vertical-align: top;\n",
              "    }\n",
              "\n",
              "    .dataframe thead th {\n",
              "        text-align: right;\n",
              "    }\n",
              "</style>\n",
              "<table border=\"1\" class=\"dataframe\">\n",
              "  <thead>\n",
              "    <tr style=\"text-align: right;\">\n",
              "      <th></th>\n",
              "      <th>Pokemon</th>\n",
              "      <th>Type</th>\n",
              "    </tr>\n",
              "  </thead>\n",
              "  <tbody>\n",
              "    <tr>\n",
              "      <th>0</th>\n",
              "      <td>Bulbasaur</td>\n",
              "      <td>Grass / Poison</td>\n",
              "    </tr>\n",
              "    <tr>\n",
              "      <th>1</th>\n",
              "      <td>Ivysaur</td>\n",
              "      <td>Grass / Poison</td>\n",
              "    </tr>\n",
              "    <tr>\n",
              "      <th>2</th>\n",
              "      <td>Venusaur</td>\n",
              "      <td>Grass / Poison</td>\n",
              "    </tr>\n",
              "    <tr>\n",
              "      <th>3</th>\n",
              "      <td>Charmander</td>\n",
              "      <td>Fire</td>\n",
              "    </tr>\n",
              "    <tr>\n",
              "      <th>4</th>\n",
              "      <td>Charmeleon</td>\n",
              "      <td>Fire</td>\n",
              "    </tr>\n",
              "    <tr>\n",
              "      <th>...</th>\n",
              "      <td>...</td>\n",
              "      <td>...</td>\n",
              "    </tr>\n",
              "    <tr>\n",
              "      <th>804</th>\n",
              "      <td>Stakataka</td>\n",
              "      <td>Rock / Steel</td>\n",
              "    </tr>\n",
              "    <tr>\n",
              "      <th>805</th>\n",
              "      <td>Blacephalon</td>\n",
              "      <td>Fire / Ghost</td>\n",
              "    </tr>\n",
              "    <tr>\n",
              "      <th>806</th>\n",
              "      <td>Zeraora</td>\n",
              "      <td>Electric</td>\n",
              "    </tr>\n",
              "    <tr>\n",
              "      <th>807</th>\n",
              "      <td>Meltan</td>\n",
              "      <td>Steel</td>\n",
              "    </tr>\n",
              "    <tr>\n",
              "      <th>808</th>\n",
              "      <td>Melmetal</td>\n",
              "      <td>Steel</td>\n",
              "    </tr>\n",
              "  </tbody>\n",
              "</table>\n",
              "<p>809 rows × 2 columns</p>\n",
              "</div>"
            ],
            "text/plain": [
              "         Pokemon            Type\n",
              "0      Bulbasaur  Grass / Poison\n",
              "1        Ivysaur  Grass / Poison\n",
              "2       Venusaur  Grass / Poison\n",
              "3     Charmander            Fire\n",
              "4     Charmeleon            Fire\n",
              "..           ...             ...\n",
              "804    Stakataka    Rock / Steel\n",
              "805  Blacephalon    Fire / Ghost\n",
              "806      Zeraora        Electric\n",
              "807       Meltan           Steel\n",
              "808     Melmetal           Steel\n",
              "\n",
              "[809 rows x 2 columns]"
            ]
          },
          "execution_count": 2,
          "metadata": {},
          "output_type": "execute_result"
        }
      ],
      "source": [
        "# The two lines below are equivalent\n",
        "pd.read_csv(filepath_or_buffer = \"pokemon.csv\")\n",
        "pd.read_csv(\"pokemon.csv\")"
      ]
    },
    {
      "cell_type": "code",
      "execution_count": null,
      "metadata": {
        "id": "RWzCiktOimu_",
        "outputId": "08999058-e04b-485b-d1fa-92fa1fe66113"
      },
      "outputs": [
        {
          "data": {
            "text/html": [
              "<div>\n",
              "<style scoped>\n",
              "    .dataframe tbody tr th:only-of-type {\n",
              "        vertical-align: middle;\n",
              "    }\n",
              "\n",
              "    .dataframe tbody tr th {\n",
              "        vertical-align: top;\n",
              "    }\n",
              "\n",
              "    .dataframe thead th {\n",
              "        text-align: right;\n",
              "    }\n",
              "</style>\n",
              "<table border=\"1\" class=\"dataframe\">\n",
              "  <thead>\n",
              "    <tr style=\"text-align: right;\">\n",
              "      <th></th>\n",
              "      <th>Type</th>\n",
              "    </tr>\n",
              "    <tr>\n",
              "      <th>Pokemon</th>\n",
              "      <th></th>\n",
              "    </tr>\n",
              "  </thead>\n",
              "  <tbody>\n",
              "    <tr>\n",
              "      <th>Bulbasaur</th>\n",
              "      <td>Grass / Poison</td>\n",
              "    </tr>\n",
              "    <tr>\n",
              "      <th>Ivysaur</th>\n",
              "      <td>Grass / Poison</td>\n",
              "    </tr>\n",
              "    <tr>\n",
              "      <th>Venusaur</th>\n",
              "      <td>Grass / Poison</td>\n",
              "    </tr>\n",
              "    <tr>\n",
              "      <th>Charmander</th>\n",
              "      <td>Fire</td>\n",
              "    </tr>\n",
              "    <tr>\n",
              "      <th>Charmeleon</th>\n",
              "      <td>Fire</td>\n",
              "    </tr>\n",
              "    <tr>\n",
              "      <th>...</th>\n",
              "      <td>...</td>\n",
              "    </tr>\n",
              "    <tr>\n",
              "      <th>Stakataka</th>\n",
              "      <td>Rock / Steel</td>\n",
              "    </tr>\n",
              "    <tr>\n",
              "      <th>Blacephalon</th>\n",
              "      <td>Fire / Ghost</td>\n",
              "    </tr>\n",
              "    <tr>\n",
              "      <th>Zeraora</th>\n",
              "      <td>Electric</td>\n",
              "    </tr>\n",
              "    <tr>\n",
              "      <th>Meltan</th>\n",
              "      <td>Steel</td>\n",
              "    </tr>\n",
              "    <tr>\n",
              "      <th>Melmetal</th>\n",
              "      <td>Steel</td>\n",
              "    </tr>\n",
              "  </tbody>\n",
              "</table>\n",
              "<p>809 rows × 1 columns</p>\n",
              "</div>"
            ],
            "text/plain": [
              "                       Type\n",
              "Pokemon                    \n",
              "Bulbasaur    Grass / Poison\n",
              "Ivysaur      Grass / Poison\n",
              "Venusaur     Grass / Poison\n",
              "Charmander             Fire\n",
              "Charmeleon             Fire\n",
              "...                     ...\n",
              "Stakataka      Rock / Steel\n",
              "Blacephalon    Fire / Ghost\n",
              "Zeraora            Electric\n",
              "Meltan                Steel\n",
              "Melmetal              Steel\n",
              "\n",
              "[809 rows x 1 columns]"
            ]
          },
          "execution_count": 3,
          "metadata": {},
          "output_type": "execute_result"
        }
      ],
      "source": [
        "pd.read_csv(\"pokemon.csv\", index_col = \"Pokemon\")"
      ]
    },
    {
      "cell_type": "code",
      "execution_count": null,
      "metadata": {
        "id": "ri3iSyH3imu_",
        "outputId": "75cd1e07-135b-4116-8f5d-1a0853958cdc"
      },
      "outputs": [
        {
          "data": {
            "text/plain": [
              "Pokemon\n",
              "Bulbasaur      Grass / Poison\n",
              "Ivysaur        Grass / Poison\n",
              "Venusaur       Grass / Poison\n",
              "Charmander               Fire\n",
              "Charmeleon               Fire\n",
              "                    ...      \n",
              "Stakataka        Rock / Steel\n",
              "Blacephalon      Fire / Ghost\n",
              "Zeraora              Electric\n",
              "Meltan                  Steel\n",
              "Melmetal                Steel\n",
              "Name: Type, Length: 809, dtype: object"
            ]
          },
          "execution_count": 4,
          "metadata": {},
          "output_type": "execute_result"
        }
      ],
      "source": [
        "pd.read_csv(\"pokemon.csv\", index_col = \"Pokemon\", squeeze = True)"
      ]
    },
    {
      "cell_type": "code",
      "execution_count": null,
      "metadata": {
        "id": "mncFAVcqimvA"
      },
      "outputs": [],
      "source": [
        "pokemon = pd.read_csv(\n",
        "    \"pokemon.csv\", index_col = \"Pokemon\", squeeze = True\n",
        ")"
      ]
    },
    {
      "cell_type": "code",
      "execution_count": null,
      "metadata": {
        "id": "mOXF821KimvA",
        "outputId": "3eee2b1d-5c04-4e3c-ef4e-791dafc55e6b"
      },
      "outputs": [
        {
          "data": {
            "text/html": [
              "<div>\n",
              "<style scoped>\n",
              "    .dataframe tbody tr th:only-of-type {\n",
              "        vertical-align: middle;\n",
              "    }\n",
              "\n",
              "    .dataframe tbody tr th {\n",
              "        vertical-align: top;\n",
              "    }\n",
              "\n",
              "    .dataframe thead th {\n",
              "        text-align: right;\n",
              "    }\n",
              "</style>\n",
              "<table border=\"1\" class=\"dataframe\">\n",
              "  <thead>\n",
              "    <tr style=\"text-align: right;\">\n",
              "      <th></th>\n",
              "      <th>Date</th>\n",
              "      <th>Close</th>\n",
              "    </tr>\n",
              "  </thead>\n",
              "  <tbody>\n",
              "    <tr>\n",
              "      <th>0</th>\n",
              "      <td>2004-08-19</td>\n",
              "      <td>49.98</td>\n",
              "    </tr>\n",
              "    <tr>\n",
              "      <th>1</th>\n",
              "      <td>2004-08-20</td>\n",
              "      <td>53.95</td>\n",
              "    </tr>\n",
              "    <tr>\n",
              "      <th>2</th>\n",
              "      <td>2004-08-23</td>\n",
              "      <td>54.50</td>\n",
              "    </tr>\n",
              "    <tr>\n",
              "      <th>3</th>\n",
              "      <td>2004-08-24</td>\n",
              "      <td>52.24</td>\n",
              "    </tr>\n",
              "    <tr>\n",
              "      <th>4</th>\n",
              "      <td>2004-08-25</td>\n",
              "      <td>52.80</td>\n",
              "    </tr>\n",
              "  </tbody>\n",
              "</table>\n",
              "</div>"
            ],
            "text/plain": [
              "         Date  Close\n",
              "0  2004-08-19  49.98\n",
              "1  2004-08-20  53.95\n",
              "2  2004-08-23  54.50\n",
              "3  2004-08-24  52.24\n",
              "4  2004-08-25  52.80"
            ]
          },
          "execution_count": 6,
          "metadata": {},
          "output_type": "execute_result"
        }
      ],
      "source": [
        "pd.read_csv(\"google_stocks.csv\").head()"
      ]
    },
    {
      "cell_type": "code",
      "execution_count": null,
      "metadata": {
        "id": "n8jtgUl9imvA",
        "outputId": "23276f5c-79ed-4ef3-cab8-75528264b30b"
      },
      "outputs": [
        {
          "data": {
            "text/html": [
              "<div>\n",
              "<style scoped>\n",
              "    .dataframe tbody tr th:only-of-type {\n",
              "        vertical-align: middle;\n",
              "    }\n",
              "\n",
              "    .dataframe tbody tr th {\n",
              "        vertical-align: top;\n",
              "    }\n",
              "\n",
              "    .dataframe thead th {\n",
              "        text-align: right;\n",
              "    }\n",
              "</style>\n",
              "<table border=\"1\" class=\"dataframe\">\n",
              "  <thead>\n",
              "    <tr style=\"text-align: right;\">\n",
              "      <th></th>\n",
              "      <th>Date</th>\n",
              "      <th>Close</th>\n",
              "    </tr>\n",
              "  </thead>\n",
              "  <tbody>\n",
              "    <tr>\n",
              "      <th>0</th>\n",
              "      <td>2004-08-19</td>\n",
              "      <td>49.98</td>\n",
              "    </tr>\n",
              "    <tr>\n",
              "      <th>1</th>\n",
              "      <td>2004-08-20</td>\n",
              "      <td>53.95</td>\n",
              "    </tr>\n",
              "    <tr>\n",
              "      <th>2</th>\n",
              "      <td>2004-08-23</td>\n",
              "      <td>54.50</td>\n",
              "    </tr>\n",
              "    <tr>\n",
              "      <th>3</th>\n",
              "      <td>2004-08-24</td>\n",
              "      <td>52.24</td>\n",
              "    </tr>\n",
              "    <tr>\n",
              "      <th>4</th>\n",
              "      <td>2004-08-25</td>\n",
              "      <td>52.80</td>\n",
              "    </tr>\n",
              "  </tbody>\n",
              "</table>\n",
              "</div>"
            ],
            "text/plain": [
              "        Date  Close\n",
              "0 2004-08-19  49.98\n",
              "1 2004-08-20  53.95\n",
              "2 2004-08-23  54.50\n",
              "3 2004-08-24  52.24\n",
              "4 2004-08-25  52.80"
            ]
          },
          "execution_count": 7,
          "metadata": {},
          "output_type": "execute_result"
        }
      ],
      "source": [
        "pd.read_csv(\"google_stocks.csv\", parse_dates = [\"Date\"]).head()"
      ]
    },
    {
      "cell_type": "code",
      "execution_count": null,
      "metadata": {
        "id": "uOjIN-nLimvA",
        "outputId": "847c4e0d-afdc-43a5-e3ed-683e08ba33f4"
      },
      "outputs": [
        {
          "data": {
            "text/plain": [
              "Date\n",
              "2004-08-19    49.98\n",
              "2004-08-20    53.95\n",
              "2004-08-23    54.50\n",
              "2004-08-24    52.24\n",
              "2004-08-25    52.80\n",
              "Name: Close, dtype: float64"
            ]
          },
          "execution_count": 8,
          "metadata": {},
          "output_type": "execute_result"
        }
      ],
      "source": [
        "pd.read_csv(\n",
        "    \"google_stocks.csv\",\n",
        "    parse_dates = [\"Date\"],\n",
        "    index_col = \"Date\",\n",
        "    squeeze = True\n",
        ").head()"
      ]
    },
    {
      "cell_type": "code",
      "execution_count": null,
      "metadata": {
        "id": "mGMRYsLJimvB"
      },
      "outputs": [],
      "source": [
        "google = pd.read_csv(\n",
        "    \"google_stocks.csv\",\n",
        "    parse_dates = [\"Date\"],\n",
        "    index_col = \"Date\",\n",
        "    squeeze = True\n",
        ")"
      ]
    },
    {
      "cell_type": "code",
      "execution_count": null,
      "metadata": {
        "id": "U9jWoR6EimvB",
        "outputId": "7db8b169-9833-41ef-8bbf-7a34d303e695"
      },
      "outputs": [
        {
          "data": {
            "text/html": [
              "<div>\n",
              "<style scoped>\n",
              "    .dataframe tbody tr th:only-of-type {\n",
              "        vertical-align: middle;\n",
              "    }\n",
              "\n",
              "    .dataframe tbody tr th {\n",
              "        vertical-align: top;\n",
              "    }\n",
              "\n",
              "    .dataframe thead th {\n",
              "        text-align: right;\n",
              "    }\n",
              "</style>\n",
              "<table border=\"1\" class=\"dataframe\">\n",
              "  <thead>\n",
              "    <tr style=\"text-align: right;\">\n",
              "      <th></th>\n",
              "      <th>Battle</th>\n",
              "      <th>Start Date</th>\n",
              "      <th>State</th>\n",
              "    </tr>\n",
              "  </thead>\n",
              "  <tbody>\n",
              "    <tr>\n",
              "      <th>227</th>\n",
              "      <td>Siege of Fort Henry</td>\n",
              "      <td>9/11/1782</td>\n",
              "      <td>Virginia</td>\n",
              "    </tr>\n",
              "    <tr>\n",
              "      <th>228</th>\n",
              "      <td>Grand Assault on Gibraltar</td>\n",
              "      <td>9/13/1782</td>\n",
              "      <td>NaN</td>\n",
              "    </tr>\n",
              "    <tr>\n",
              "      <th>229</th>\n",
              "      <td>Action of 18 October 1782</td>\n",
              "      <td>10/18/1782</td>\n",
              "      <td>NaN</td>\n",
              "    </tr>\n",
              "    <tr>\n",
              "      <th>230</th>\n",
              "      <td>Action of 6 December 1782</td>\n",
              "      <td>12/6/1782</td>\n",
              "      <td>NaN</td>\n",
              "    </tr>\n",
              "    <tr>\n",
              "      <th>231</th>\n",
              "      <td>Action of 22 January 1783</td>\n",
              "      <td>1/22/1783</td>\n",
              "      <td>Virginia</td>\n",
              "    </tr>\n",
              "  </tbody>\n",
              "</table>\n",
              "</div>"
            ],
            "text/plain": [
              "                         Battle  Start Date     State\n",
              "227         Siege of Fort Henry   9/11/1782  Virginia\n",
              "228  Grand Assault on Gibraltar   9/13/1782       NaN\n",
              "229   Action of 18 October 1782  10/18/1782       NaN\n",
              "230   Action of 6 December 1782   12/6/1782       NaN\n",
              "231   Action of 22 January 1783   1/22/1783  Virginia"
            ]
          },
          "execution_count": 10,
          "metadata": {},
          "output_type": "execute_result"
        }
      ],
      "source": [
        "pd.read_csv(\"revolutionary_war.csv\").tail()"
      ]
    },
    {
      "cell_type": "code",
      "execution_count": null,
      "metadata": {
        "id": "wVJoGlFsimvB",
        "outputId": "67c8fcff-dc9d-4558-f2cf-8e20b98c3acf"
      },
      "outputs": [
        {
          "data": {
            "text/html": [
              "<div>\n",
              "<style scoped>\n",
              "    .dataframe tbody tr th:only-of-type {\n",
              "        vertical-align: middle;\n",
              "    }\n",
              "\n",
              "    .dataframe tbody tr th {\n",
              "        vertical-align: top;\n",
              "    }\n",
              "\n",
              "    .dataframe thead th {\n",
              "        text-align: right;\n",
              "    }\n",
              "</style>\n",
              "<table border=\"1\" class=\"dataframe\">\n",
              "  <thead>\n",
              "    <tr style=\"text-align: right;\">\n",
              "      <th></th>\n",
              "      <th>Battle</th>\n",
              "      <th>State</th>\n",
              "    </tr>\n",
              "    <tr>\n",
              "      <th>Start Date</th>\n",
              "      <th></th>\n",
              "      <th></th>\n",
              "    </tr>\n",
              "  </thead>\n",
              "  <tbody>\n",
              "    <tr>\n",
              "      <th>1782-09-11</th>\n",
              "      <td>Siege of Fort Henry</td>\n",
              "      <td>Virginia</td>\n",
              "    </tr>\n",
              "    <tr>\n",
              "      <th>1782-09-13</th>\n",
              "      <td>Grand Assault on Gibraltar</td>\n",
              "      <td>NaN</td>\n",
              "    </tr>\n",
              "    <tr>\n",
              "      <th>1782-10-18</th>\n",
              "      <td>Action of 18 October 1782</td>\n",
              "      <td>NaN</td>\n",
              "    </tr>\n",
              "    <tr>\n",
              "      <th>1782-12-06</th>\n",
              "      <td>Action of 6 December 1782</td>\n",
              "      <td>NaN</td>\n",
              "    </tr>\n",
              "    <tr>\n",
              "      <th>1783-01-22</th>\n",
              "      <td>Action of 22 January 1783</td>\n",
              "      <td>Virginia</td>\n",
              "    </tr>\n",
              "  </tbody>\n",
              "</table>\n",
              "</div>"
            ],
            "text/plain": [
              "                                Battle     State\n",
              "Start Date                                      \n",
              "1782-09-11         Siege of Fort Henry  Virginia\n",
              "1782-09-13  Grand Assault on Gibraltar       NaN\n",
              "1782-10-18   Action of 18 October 1782       NaN\n",
              "1782-12-06   Action of 6 December 1782       NaN\n",
              "1783-01-22   Action of 22 January 1783  Virginia"
            ]
          },
          "execution_count": 11,
          "metadata": {},
          "output_type": "execute_result"
        }
      ],
      "source": [
        "pd.read_csv(\n",
        "    \"revolutionary_war.csv\",\n",
        "    index_col = \"Start Date\",\n",
        "    parse_dates = [\"Start Date\"],\n",
        ").tail()"
      ]
    },
    {
      "cell_type": "code",
      "execution_count": null,
      "metadata": {
        "id": "d_d3VltEimvC",
        "outputId": "b1477567-7218-47cb-f232-ae6386f3b5d5"
      },
      "outputs": [
        {
          "data": {
            "text/plain": [
              "Start Date\n",
              "1782-09-11    Virginia\n",
              "1782-09-13         NaN\n",
              "1782-10-18         NaN\n",
              "1782-12-06         NaN\n",
              "1783-01-22    Virginia\n",
              "Name: State, dtype: object"
            ]
          },
          "execution_count": 12,
          "metadata": {},
          "output_type": "execute_result"
        }
      ],
      "source": [
        "pd.read_csv(\n",
        "    \"revolutionary_war.csv\",\n",
        "    index_col = \"Start Date\",\n",
        "    parse_dates = [\"Start Date\"],\n",
        "    usecols = [\"State\", \"Start Date\"],\n",
        "    squeeze = True,\n",
        ").tail()"
      ]
    },
    {
      "cell_type": "code",
      "execution_count": null,
      "metadata": {
        "id": "faH0KPYVimvC"
      },
      "outputs": [],
      "source": [
        "battles = pd.read_csv(\n",
        "    \"revolutionary_war.csv\",\n",
        "    index_col = \"Start Date\",\n",
        "    parse_dates = [\"Start Date\"],\n",
        "    usecols = [\"State\", \"Start Date\"],\n",
        "    squeeze = True,\n",
        ")"
      ]
    },
    {
      "cell_type": "markdown",
      "metadata": {
        "id": "f7VPI07zimvC"
      },
      "source": [
        "## 3.2 Sorting a Series"
      ]
    },
    {
      "cell_type": "markdown",
      "metadata": {
        "id": "GxwhqMVTimvC"
      },
      "source": [
        "### 3.2.1 Sorting by Values with the sort_values Method"
      ]
    },
    {
      "cell_type": "code",
      "execution_count": null,
      "metadata": {
        "id": "lNwwBBSBimvC",
        "outputId": "d0c55fe8-6782-4211-88f3-931404ec614d"
      },
      "outputs": [
        {
          "data": {
            "text/plain": [
              "Date\n",
              "2004-09-03      49.82\n",
              "2004-09-01      49.94\n",
              "2004-08-19      49.98\n",
              "2004-09-02      50.57\n",
              "2004-09-07      50.60\n",
              "               ...   \n",
              "2019-04-23    1264.55\n",
              "2019-10-25    1265.13\n",
              "2018-07-26    1268.33\n",
              "2019-04-26    1272.18\n",
              "2019-04-29    1287.58\n",
              "Name: Close, Length: 3824, dtype: float64"
            ]
          },
          "execution_count": 14,
          "metadata": {},
          "output_type": "execute_result"
        }
      ],
      "source": [
        "google.sort_values()"
      ]
    },
    {
      "cell_type": "code",
      "execution_count": null,
      "metadata": {
        "id": "6ApeuYE6imvC",
        "outputId": "d7a2202f-d24a-4455-da06-075c7fd32426"
      },
      "outputs": [
        {
          "data": {
            "text/plain": [
              "Pokemon\n",
              "Illumise                Bug\n",
              "Silcoon                 Bug\n",
              "Pinsir                  Bug\n",
              "Burmy                   Bug\n",
              "Wurmple                 Bug\n",
              "                  ...      \n",
              "Tirtouga       Water / Rock\n",
              "Relicanth      Water / Rock\n",
              "Corsola        Water / Rock\n",
              "Carracosta     Water / Rock\n",
              "Empoleon      Water / Steel\n",
              "Name: Type, Length: 809, dtype: object"
            ]
          },
          "execution_count": 15,
          "metadata": {},
          "output_type": "execute_result"
        }
      ],
      "source": [
        "pokemon.sort_values()"
      ]
    },
    {
      "cell_type": "code",
      "execution_count": null,
      "metadata": {
        "id": "-BegBK0CimvD",
        "outputId": "629c5b3f-29b4-48e1-a97c-959c57ef9859"
      },
      "outputs": [
        {
          "data": {
            "text/plain": [
              "0    Adam\n",
              "2     Ben\n",
              "1    adam\n",
              "dtype: object"
            ]
          },
          "execution_count": 16,
          "metadata": {},
          "output_type": "execute_result"
        }
      ],
      "source": [
        "pd.Series(data = [\"Adam\", \"adam\", \"Ben\"]).sort_values()"
      ]
    },
    {
      "cell_type": "code",
      "execution_count": null,
      "metadata": {
        "id": "mIxUsqA2imvD",
        "outputId": "11a0f15f-072d-4c78-bc4f-8240a57a9610"
      },
      "outputs": [
        {
          "data": {
            "text/plain": [
              "Date\n",
              "2019-04-29    1287.58\n",
              "2019-04-26    1272.18\n",
              "2018-07-26    1268.33\n",
              "2019-10-25    1265.13\n",
              "2019-04-23    1264.55\n",
              "Name: Close, dtype: float64"
            ]
          },
          "execution_count": 17,
          "metadata": {},
          "output_type": "execute_result"
        }
      ],
      "source": [
        "google.sort_values(ascending = False).head()"
      ]
    },
    {
      "cell_type": "code",
      "execution_count": null,
      "metadata": {
        "id": "6rpFSfj6imvD",
        "outputId": "2f6909a0-9009-4176-a023-e9841827a13b"
      },
      "outputs": [
        {
          "data": {
            "text/plain": [
              "Pokemon\n",
              "Empoleon      Water / Steel\n",
              "Corsola        Water / Rock\n",
              "Relicanth      Water / Rock\n",
              "Carracosta     Water / Rock\n",
              "Tirtouga       Water / Rock\n",
              "Name: Type, dtype: object"
            ]
          },
          "execution_count": 18,
          "metadata": {},
          "output_type": "execute_result"
        }
      ],
      "source": [
        "pokemon.sort_values(ascending = False).head()"
      ]
    },
    {
      "cell_type": "code",
      "execution_count": null,
      "metadata": {
        "id": "WL4VKE1TimvD",
        "outputId": "e0063dfc-dba4-4489-ad40-607226ff8437"
      },
      "outputs": [
        {
          "data": {
            "text/plain": [
              "Start Date\n",
              "1781-09-06    Connecticut\n",
              "1779-07-05    Connecticut\n",
              "1777-04-27    Connecticut\n",
              "1777-09-03       Delaware\n",
              "1777-05-17        Florida\n",
              "                 ...     \n",
              "1782-08-08            NaN\n",
              "1782-08-25            NaN\n",
              "1782-09-13            NaN\n",
              "1782-10-18            NaN\n",
              "1782-12-06            NaN\n",
              "Name: State, Length: 232, dtype: object"
            ]
          },
          "execution_count": 19,
          "metadata": {},
          "output_type": "execute_result"
        }
      ],
      "source": [
        "# The two lines below are equivalent\n",
        "battles.sort_values()\n",
        "battles.sort_values(na_position = \"last\")"
      ]
    },
    {
      "cell_type": "code",
      "execution_count": null,
      "metadata": {
        "id": "GMUTlb5bimvD",
        "outputId": "9f2fdf3e-4f0a-46bb-a718-ee211c32743b"
      },
      "outputs": [
        {
          "data": {
            "text/plain": [
              "Start Date\n",
              "1775-09-17         NaN\n",
              "1775-12-31         NaN\n",
              "1776-03-03         NaN\n",
              "1776-03-25         NaN\n",
              "1776-05-18         NaN\n",
              "                ...   \n",
              "1781-07-06    Virginia\n",
              "1781-07-01    Virginia\n",
              "1781-06-26    Virginia\n",
              "1781-04-25    Virginia\n",
              "1783-01-22    Virginia\n",
              "Name: State, Length: 232, dtype: object"
            ]
          },
          "execution_count": 20,
          "metadata": {},
          "output_type": "execute_result"
        }
      ],
      "source": [
        "battles.sort_values(na_position = \"first\")"
      ]
    },
    {
      "cell_type": "code",
      "execution_count": null,
      "metadata": {
        "id": "_OVCSF1mimvD",
        "outputId": "4d4e7ee1-dc43-47c2-c07d-471f9ce1ac34"
      },
      "outputs": [
        {
          "data": {
            "text/plain": [
              "Start Date\n",
              "1781-09-06    Connecticut\n",
              "1779-07-05    Connecticut\n",
              "1777-04-27    Connecticut\n",
              "1777-09-03       Delaware\n",
              "1777-05-17        Florida\n",
              "                 ...     \n",
              "1781-07-06       Virginia\n",
              "1781-07-01       Virginia\n",
              "1781-06-26       Virginia\n",
              "1781-04-25       Virginia\n",
              "1783-01-22       Virginia\n",
              "Name: State, Length: 162, dtype: object"
            ]
          },
          "execution_count": 21,
          "metadata": {},
          "output_type": "execute_result"
        }
      ],
      "source": [
        "battles.dropna().sort_values()"
      ]
    },
    {
      "cell_type": "markdown",
      "metadata": {
        "id": "Rd8q_7XQimvD"
      },
      "source": [
        "### 3.2.2 Sorting by Index with the sort_index Method"
      ]
    },
    {
      "cell_type": "code",
      "execution_count": null,
      "metadata": {
        "id": "OaOCTh59imvE",
        "outputId": "e3718aae-849b-451f-8068-f9dcc9f4c4bc"
      },
      "outputs": [
        {
          "data": {
            "text/plain": [
              "Pokemon\n",
              "Abomasnow        Grass / Ice\n",
              "Abra                 Psychic\n",
              "Absol                   Dark\n",
              "Accelgor                 Bug\n",
              "Aegislash      Steel / Ghost\n",
              "                  ...       \n",
              "Zoroark                 Dark\n",
              "Zorua                   Dark\n",
              "Zubat        Poison / Flying\n",
              "Zweilous       Dark / Dragon\n",
              "Zygarde      Dragon / Ground\n",
              "Name: Type, Length: 809, dtype: object"
            ]
          },
          "execution_count": 22,
          "metadata": {},
          "output_type": "execute_result"
        }
      ],
      "source": [
        "# The two lines below are equivalent\n",
        "pokemon.sort_index()\n",
        "pokemon.sort_index(ascending = True)"
      ]
    },
    {
      "cell_type": "code",
      "execution_count": null,
      "metadata": {
        "id": "Q_clH1VoimvE",
        "outputId": "9f43f07d-03b6-40d8-d42e-ce48c6ad0b61"
      },
      "outputs": [
        {
          "data": {
            "text/plain": [
              "Start Date\n",
              "1774-09-01    Massachusetts\n",
              "1774-12-14    New Hampshire\n",
              "1775-04-19    Massachusetts\n",
              "1775-04-19    Massachusetts\n",
              "1775-04-20         Virginia\n",
              "                  ...      \n",
              "1783-01-22         Virginia\n",
              "NaT              New Jersey\n",
              "NaT                Virginia\n",
              "NaT                     NaN\n",
              "NaT                     NaN\n",
              "Name: State, Length: 232, dtype: object"
            ]
          },
          "execution_count": 23,
          "metadata": {},
          "output_type": "execute_result"
        }
      ],
      "source": [
        "battles.sort_index()"
      ]
    },
    {
      "cell_type": "code",
      "execution_count": null,
      "metadata": {
        "id": "F6LfhFs0imvE",
        "outputId": "c6b19dc7-c42f-49a7-a99b-46451b4d4f91"
      },
      "outputs": [
        {
          "data": {
            "text/plain": [
              "Start Date\n",
              "NaT              New Jersey\n",
              "NaT                Virginia\n",
              "NaT                     NaN\n",
              "NaT                     NaN\n",
              "1774-09-01    Massachusetts\n",
              "Name: State, dtype: object"
            ]
          },
          "execution_count": 24,
          "metadata": {},
          "output_type": "execute_result"
        }
      ],
      "source": [
        "battles.sort_index(na_position = \"first\").head()"
      ]
    },
    {
      "cell_type": "code",
      "execution_count": null,
      "metadata": {
        "id": "4T1rN8e7imvE",
        "outputId": "c1133c38-b09f-4d47-bf44-3744addfede8"
      },
      "outputs": [
        {
          "data": {
            "text/plain": [
              "Start Date\n",
              "1783-01-22    Virginia\n",
              "1782-12-06         NaN\n",
              "1782-10-18         NaN\n",
              "1782-09-13         NaN\n",
              "1782-09-11    Virginia\n",
              "Name: State, dtype: object"
            ]
          },
          "execution_count": 25,
          "metadata": {},
          "output_type": "execute_result"
        }
      ],
      "source": [
        "battles.sort_index(ascending = False).head()"
      ]
    },
    {
      "cell_type": "markdown",
      "metadata": {
        "id": "M-Mkid91imvE"
      },
      "source": [
        "### 3.2.3 Retrieving the Smallest and Largest Values with the nsmallest and nlargest Methods"
      ]
    },
    {
      "cell_type": "code",
      "execution_count": null,
      "metadata": {
        "id": "RlRjmA43imvE",
        "outputId": "79e692c2-bec1-42d1-b729-5d185992973f"
      },
      "outputs": [
        {
          "data": {
            "text/plain": [
              "Date\n",
              "2019-04-29    1287.58\n",
              "2019-04-26    1272.18\n",
              "2018-07-26    1268.33\n",
              "2019-10-25    1265.13\n",
              "2019-04-23    1264.55\n",
              "Name: Close, dtype: float64"
            ]
          },
          "execution_count": 26,
          "metadata": {},
          "output_type": "execute_result"
        }
      ],
      "source": [
        "google.sort_values(ascending = False).head()"
      ]
    },
    {
      "cell_type": "code",
      "execution_count": null,
      "metadata": {
        "id": "nrXoh0TdimvF",
        "outputId": "392982f8-998a-4d21-8e6b-50bbcf719da0"
      },
      "outputs": [
        {
          "data": {
            "text/plain": [
              "Date\n",
              "2019-04-29    1287.58\n",
              "2019-04-26    1272.18\n",
              "2018-07-26    1268.33\n",
              "2019-10-25    1265.13\n",
              "2019-04-23    1264.55\n",
              "Name: Close, dtype: float64"
            ]
          },
          "execution_count": 27,
          "metadata": {},
          "output_type": "execute_result"
        }
      ],
      "source": [
        "# The two lines below are equivalent\n",
        "google.nlargest(n = 5)\n",
        "google.nlargest()"
      ]
    },
    {
      "cell_type": "code",
      "execution_count": null,
      "metadata": {
        "id": "XMQotXbRimvF",
        "outputId": "1f1b1971-1d09-4d2f-c2f4-67c5b9cf1f61"
      },
      "outputs": [
        {
          "data": {
            "text/plain": [
              "Date\n",
              "2004-09-03    49.82\n",
              "2004-09-01    49.94\n",
              "2004-08-19    49.98\n",
              "2004-09-02    50.57\n",
              "2004-09-07    50.60\n",
              "Name: Close, dtype: float64"
            ]
          },
          "execution_count": 28,
          "metadata": {},
          "output_type": "execute_result"
        }
      ],
      "source": [
        "# The two lines below are equivalent\n",
        "google.nsmallest(n = 5)\n",
        "google.nsmallest(5)"
      ]
    },
    {
      "cell_type": "markdown",
      "metadata": {
        "id": "mhvCrJMYimvF"
      },
      "source": [
        "## 3.3 Overwriting a Series with the inplace Parameter"
      ]
    },
    {
      "cell_type": "code",
      "execution_count": null,
      "metadata": {
        "id": "dZdadO92imvF",
        "outputId": "6172b99f-ed8d-4832-d7c8-cade00120844"
      },
      "outputs": [
        {
          "data": {
            "text/plain": [
              "Start Date\n",
              "1774-09-01    Massachusetts\n",
              "1774-12-14    New Hampshire\n",
              "1775-04-19    Massachusetts\n",
              "Name: State, dtype: object"
            ]
          },
          "execution_count": 29,
          "metadata": {},
          "output_type": "execute_result"
        }
      ],
      "source": [
        "battles.head(3)"
      ]
    },
    {
      "cell_type": "code",
      "execution_count": null,
      "metadata": {
        "id": "Rhy_5iUeimvF",
        "outputId": "97e1e000-d748-41ee-9270-278d60e769e6"
      },
      "outputs": [
        {
          "data": {
            "text/plain": [
              "Start Date\n",
              "1781-09-06    Connecticut\n",
              "1779-07-05    Connecticut\n",
              "1777-04-27    Connecticut\n",
              "Name: State, dtype: object"
            ]
          },
          "execution_count": 30,
          "metadata": {},
          "output_type": "execute_result"
        }
      ],
      "source": [
        "battles.sort_values().head(3)"
      ]
    },
    {
      "cell_type": "code",
      "execution_count": null,
      "metadata": {
        "id": "4gf9-vYYimvF",
        "outputId": "9065dc8f-00ad-441a-d62a-6939a2665afc"
      },
      "outputs": [
        {
          "data": {
            "text/plain": [
              "Start Date\n",
              "1774-09-01    Massachusetts\n",
              "1774-12-14    New Hampshire\n",
              "1775-04-19    Massachusetts\n",
              "Name: State, dtype: object"
            ]
          },
          "execution_count": 31,
          "metadata": {},
          "output_type": "execute_result"
        }
      ],
      "source": [
        "battles.head(3)"
      ]
    },
    {
      "cell_type": "code",
      "execution_count": null,
      "metadata": {
        "id": "y--pTOxhimvG",
        "outputId": "6dd57ae0-bad3-44e9-e015-87fef765d8f8"
      },
      "outputs": [
        {
          "data": {
            "text/plain": [
              "Start Date\n",
              "1774-09-01    Massachusetts\n",
              "1774-12-14    New Hampshire\n",
              "1775-04-19    Massachusetts\n",
              "Name: State, dtype: object"
            ]
          },
          "execution_count": 32,
          "metadata": {},
          "output_type": "execute_result"
        }
      ],
      "source": [
        "battles.head(3)"
      ]
    },
    {
      "cell_type": "code",
      "execution_count": null,
      "metadata": {
        "id": "eEM9U4_EimvG"
      },
      "outputs": [],
      "source": [
        "battles.sort_values(inplace = True)"
      ]
    },
    {
      "cell_type": "code",
      "execution_count": null,
      "metadata": {
        "id": "U8BGnaP7imvQ",
        "outputId": "66eb9f8d-efaa-4828-a686-7f7c78164c61"
      },
      "outputs": [
        {
          "data": {
            "text/plain": [
              "Start Date\n",
              "1781-09-06    Connecticut\n",
              "1779-07-05    Connecticut\n",
              "1777-04-27    Connecticut\n",
              "Name: State, dtype: object"
            ]
          },
          "execution_count": 34,
          "metadata": {},
          "output_type": "execute_result"
        }
      ],
      "source": [
        "battles.head(3)"
      ]
    },
    {
      "cell_type": "markdown",
      "metadata": {
        "id": "oUPi8IILimvR"
      },
      "source": [
        "## 3.4 Counting Values with the value_counts Method"
      ]
    },
    {
      "cell_type": "code",
      "execution_count": null,
      "metadata": {
        "id": "MFX188DOimvR",
        "outputId": "58e5ee98-0d4b-4aaa-b386-2efd6a624440"
      },
      "outputs": [
        {
          "data": {
            "text/plain": [
              "Pokemon\n",
              "Bulbasaur     Grass / Poison\n",
              "Ivysaur       Grass / Poison\n",
              "Venusaur      Grass / Poison\n",
              "Charmander              Fire\n",
              "Charmeleon              Fire\n",
              "Name: Type, dtype: object"
            ]
          },
          "execution_count": 35,
          "metadata": {},
          "output_type": "execute_result"
        }
      ],
      "source": [
        "pokemon.head()"
      ]
    },
    {
      "cell_type": "code",
      "execution_count": null,
      "metadata": {
        "id": "OCTYYAWQimvR",
        "outputId": "fb15fe68-9812-482f-f0f4-84520bc2ece4"
      },
      "outputs": [
        {
          "data": {
            "text/plain": [
              "Normal                65\n",
              "Water                 61\n",
              "Grass                 38\n",
              "Psychic               35\n",
              "Fire                  30\n",
              "                      ..\n",
              "Fighting / Flying      1\n",
              "Psychic / Fighting     1\n",
              "Ground / Steel         1\n",
              "Fighting / Ghost       1\n",
              "Fighting / Dark        1\n",
              "Name: Type, Length: 159, dtype: int64"
            ]
          },
          "execution_count": 36,
          "metadata": {},
          "output_type": "execute_result"
        }
      ],
      "source": [
        "pokemon.value_counts()"
      ]
    },
    {
      "cell_type": "code",
      "execution_count": null,
      "metadata": {
        "id": "P-R4Ifo9imvR",
        "outputId": "8976b352-26e0-4e2a-f2bf-53a3af2db383"
      },
      "outputs": [
        {
          "data": {
            "text/plain": [
              "159"
            ]
          },
          "execution_count": 37,
          "metadata": {},
          "output_type": "execute_result"
        }
      ],
      "source": [
        "len(pokemon.value_counts())"
      ]
    },
    {
      "cell_type": "code",
      "execution_count": null,
      "metadata": {
        "id": "AhNhKoEaimvR",
        "outputId": "a6233624-cadb-4cf6-f6ed-1bb1b9a81aa6"
      },
      "outputs": [
        {
          "data": {
            "text/plain": [
              "159"
            ]
          },
          "execution_count": 38,
          "metadata": {},
          "output_type": "execute_result"
        }
      ],
      "source": [
        "pokemon.nunique()"
      ]
    },
    {
      "cell_type": "code",
      "execution_count": null,
      "metadata": {
        "id": "4e_qH9_NimvS",
        "outputId": "38f1c4bc-c5e1-4065-f6ba-e0e8ed086468"
      },
      "outputs": [
        {
          "data": {
            "text/plain": [
              "Fighting / Dark       1\n",
              "Bug / Ground          1\n",
              "Fire / Rock           1\n",
              "Dragon / Electric     1\n",
              "Psychic / Steel       1\n",
              "                     ..\n",
              "Fire                 30\n",
              "Psychic              35\n",
              "Grass                38\n",
              "Water                61\n",
              "Normal               65\n",
              "Name: Type, Length: 159, dtype: int64"
            ]
          },
          "execution_count": 39,
          "metadata": {},
          "output_type": "execute_result"
        }
      ],
      "source": [
        "pokemon.value_counts(ascending = True)"
      ]
    },
    {
      "cell_type": "code",
      "execution_count": null,
      "metadata": {
        "id": "e4e11WZvimvS",
        "outputId": "2877617c-4292-4995-afae-6f0273abfe81"
      },
      "outputs": [
        {
          "data": {
            "text/plain": [
              "Normal     0.080346\n",
              "Water      0.075402\n",
              "Grass      0.046972\n",
              "Psychic    0.043263\n",
              "Fire       0.037083\n",
              "Name: Type, dtype: float64"
            ]
          },
          "execution_count": 40,
          "metadata": {},
          "output_type": "execute_result"
        }
      ],
      "source": [
        "pokemon.value_counts(normalize = True).head()"
      ]
    },
    {
      "cell_type": "code",
      "execution_count": null,
      "metadata": {
        "id": "6Ly89IavimvS",
        "outputId": "b5447959-d329-48e8-bb40-87d3881731a1"
      },
      "outputs": [
        {
          "data": {
            "text/plain": [
              "Normal     8.034611\n",
              "Water      7.540173\n",
              "Grass      4.697157\n",
              "Psychic    4.326329\n",
              "Fire       3.708282\n",
              "Name: Type, dtype: float64"
            ]
          },
          "execution_count": 41,
          "metadata": {},
          "output_type": "execute_result"
        }
      ],
      "source": [
        "pokemon.value_counts(normalize = True).head() * 100"
      ]
    },
    {
      "cell_type": "code",
      "execution_count": null,
      "metadata": {
        "id": "aG52dXrJimvS",
        "outputId": "518a929d-ba6f-47b5-d596-f84d89860e19"
      },
      "outputs": [
        {
          "data": {
            "text/plain": [
              "Normal                8.03\n",
              "Water                 7.54\n",
              "Grass                 4.70\n",
              "Psychic               4.33\n",
              "Fire                  3.71\n",
              "                      ... \n",
              "Fighting / Flying     0.12\n",
              "Psychic / Fighting    0.12\n",
              "Ground / Steel        0.12\n",
              "Fighting / Ghost      0.12\n",
              "Fighting / Dark       0.12\n",
              "Name: Type, Length: 159, dtype: float64"
            ]
          },
          "execution_count": 42,
          "metadata": {},
          "output_type": "execute_result"
        }
      ],
      "source": [
        "(pokemon.value_counts(normalize = True) * 100).round(2)"
      ]
    },
    {
      "cell_type": "code",
      "execution_count": null,
      "metadata": {
        "id": "RLUY6NlXimvS",
        "outputId": "c790f171-8553-47c7-c034-dd9cea9ff211"
      },
      "outputs": [
        {
          "data": {
            "text/plain": [
              "194.27    3\n",
              "307.10    3\n",
              "290.41    3\n",
              "287.68    3\n",
              "237.04    3\n",
              "Name: Close, dtype: int64"
            ]
          },
          "execution_count": 43,
          "metadata": {},
          "output_type": "execute_result"
        }
      ],
      "source": [
        "google.value_counts().head()"
      ]
    },
    {
      "cell_type": "code",
      "execution_count": null,
      "metadata": {
        "id": "hGw9e_ANimvS",
        "outputId": "af79a6cd-4300-489b-bc5c-a3da3b3a4ee1"
      },
      "outputs": [
        {
          "data": {
            "text/plain": [
              "1287.58"
            ]
          },
          "execution_count": 44,
          "metadata": {},
          "output_type": "execute_result"
        }
      ],
      "source": [
        "google.max()"
      ]
    },
    {
      "cell_type": "code",
      "execution_count": null,
      "metadata": {
        "id": "VsrfABW5imvS",
        "outputId": "fa443eda-c50f-4976-a49d-f6cd7a6438af"
      },
      "outputs": [
        {
          "data": {
            "text/plain": [
              "49.82"
            ]
          },
          "execution_count": 45,
          "metadata": {},
          "output_type": "execute_result"
        }
      ],
      "source": [
        "google.min()"
      ]
    },
    {
      "cell_type": "code",
      "execution_count": null,
      "metadata": {
        "id": "RYrX06N_imvT",
        "outputId": "1e79a97b-7176-4c9b-eb8f-15d27eb42ed1"
      },
      "outputs": [
        {
          "data": {
            "text/plain": [
              "(200.0, 400.0]      1568\n",
              "(-0.001, 200.0]      595\n",
              "(400.0, 600.0]       575\n",
              "(1000.0, 1200.0]     406\n",
              "(600.0, 800.0]       380\n",
              "(800.0, 1000.0]      207\n",
              "(1200.0, 1400.0]      93\n",
              "Name: Close, dtype: int64"
            ]
          },
          "execution_count": 46,
          "metadata": {},
          "output_type": "execute_result"
        }
      ],
      "source": [
        "buckets = [0, 200, 400, 600, 800, 1000, 1200, 1400]\n",
        "google.value_counts(bins = buckets)"
      ]
    },
    {
      "cell_type": "code",
      "execution_count": null,
      "metadata": {
        "id": "bXXkaqfbimvT",
        "outputId": "9d5b0da2-285b-4eef-ca98-1baab871a62c"
      },
      "outputs": [
        {
          "data": {
            "text/plain": [
              "(-0.001, 200.0]      595\n",
              "(200.0, 400.0]      1568\n",
              "(400.0, 600.0]       575\n",
              "(600.0, 800.0]       380\n",
              "(800.0, 1000.0]      207\n",
              "(1000.0, 1200.0]     406\n",
              "(1200.0, 1400.0]      93\n",
              "Name: Close, dtype: int64"
            ]
          },
          "execution_count": 47,
          "metadata": {},
          "output_type": "execute_result"
        }
      ],
      "source": [
        "google.value_counts(bins = buckets).sort_index()"
      ]
    },
    {
      "cell_type": "code",
      "execution_count": null,
      "metadata": {
        "id": "8aX2fjL3imvT",
        "outputId": "01054c98-428c-442d-ee19-48bb1242fefd"
      },
      "outputs": [
        {
          "data": {
            "text/plain": [
              "(-0.001, 200.0]      595\n",
              "(200.0, 400.0]      1568\n",
              "(400.0, 600.0]       575\n",
              "(600.0, 800.0]       380\n",
              "(800.0, 1000.0]      207\n",
              "(1000.0, 1200.0]     406\n",
              "(1200.0, 1400.0]      93\n",
              "Name: Close, dtype: int64"
            ]
          },
          "execution_count": 48,
          "metadata": {},
          "output_type": "execute_result"
        }
      ],
      "source": [
        "google.value_counts(bins = buckets, sort = False)"
      ]
    },
    {
      "cell_type": "code",
      "execution_count": null,
      "metadata": {
        "id": "BB06QKmUimvT",
        "outputId": "dcee8954-b1d1-48c5-891b-42dba21fddcd"
      },
      "outputs": [
        {
          "data": {
            "text/plain": [
              "(48.581, 256.113]      1204\n",
              "(256.113, 462.407]     1104\n",
              "(462.407, 668.7]        507\n",
              "(668.7, 874.993]        380\n",
              "(874.993, 1081.287]     292\n",
              "(1081.287, 1287.58]     337\n",
              "Name: Close, dtype: int64"
            ]
          },
          "execution_count": 49,
          "metadata": {},
          "output_type": "execute_result"
        }
      ],
      "source": [
        "google.value_counts(bins = 6, sort = False)"
      ]
    },
    {
      "cell_type": "code",
      "execution_count": null,
      "metadata": {
        "id": "cUsORCBcimvT",
        "outputId": "31a143f9-50bd-459b-f840-11ed3d324bf9"
      },
      "outputs": [
        {
          "data": {
            "text/plain": [
              "Start Date\n",
              "1781-09-06    Connecticut\n",
              "1779-07-05    Connecticut\n",
              "1777-04-27    Connecticut\n",
              "1777-09-03       Delaware\n",
              "1777-05-17        Florida\n",
              "Name: State, dtype: object"
            ]
          },
          "execution_count": 50,
          "metadata": {},
          "output_type": "execute_result"
        }
      ],
      "source": [
        "battles.head()"
      ]
    },
    {
      "cell_type": "code",
      "execution_count": null,
      "metadata": {
        "id": "hvI1VzCtimvU",
        "outputId": "5c6c5aab-3dd2-4a38-e8db-1aa0ae420a1c"
      },
      "outputs": [
        {
          "data": {
            "text/plain": [
              "South Carolina    31\n",
              "New York          28\n",
              "New Jersey        24\n",
              "Virginia          21\n",
              "Massachusetts     11\n",
              "Name: State, dtype: int64"
            ]
          },
          "execution_count": 51,
          "metadata": {},
          "output_type": "execute_result"
        }
      ],
      "source": [
        "battles.value_counts().head()"
      ]
    },
    {
      "cell_type": "code",
      "execution_count": null,
      "metadata": {
        "id": "gRM87QrwimvU",
        "outputId": "f7b3ffe2-f3c6-4d51-a17a-b7aed5290f00"
      },
      "outputs": [
        {
          "data": {
            "text/plain": [
              "NaN               70\n",
              "South Carolina    31\n",
              "New York          28\n",
              "New Jersey        24\n",
              "Virginia          21\n",
              "Name: State, dtype: int64"
            ]
          },
          "execution_count": 52,
          "metadata": {},
          "output_type": "execute_result"
        }
      ],
      "source": [
        "battles.value_counts(dropna = False).head()"
      ]
    },
    {
      "cell_type": "code",
      "execution_count": null,
      "metadata": {
        "id": "AZA-Hjf2imvU",
        "outputId": "e5be4ac7-259a-4f26-cd9d-20ccc3ece8a1"
      },
      "outputs": [
        {
          "data": {
            "text/plain": [
              "DatetimeIndex(['1781-09-06', '1779-07-05', '1777-04-27', '1777-09-03',\n",
              "               '1777-05-17', '1779-09-10', '1779-09-07', '1780-03-02',\n",
              "               '1778-06-30', '1781-01-07',\n",
              "               ...\n",
              "               '1782-05-06', '1782-05-25', '1782-05-28', '1782-07-01',\n",
              "               '1782-07-06', '1782-08-08', '1782-08-25', '1782-09-13',\n",
              "               '1782-10-18', '1782-12-06'],\n",
              "              dtype='datetime64[ns]', name='Start Date', length=232, freq=None)"
            ]
          },
          "execution_count": 53,
          "metadata": {},
          "output_type": "execute_result"
        }
      ],
      "source": [
        "battles.index"
      ]
    },
    {
      "cell_type": "code",
      "execution_count": null,
      "metadata": {
        "id": "orjWp8UiimvU",
        "outputId": "d86e7203-76e3-4b66-f558-9ea65ff6dc4e"
      },
      "outputs": [
        {
          "data": {
            "text/plain": [
              "1782-01-11    2\n",
              "1778-09-07    2\n",
              "1780-05-25    2\n",
              "1782-03-16    2\n",
              "1781-09-13    2\n",
              "             ..\n",
              "1776-03-25    1\n",
              "1782-08-08    1\n",
              "1775-04-20    1\n",
              "1776-10-11    1\n",
              "1780-03-02    1\n",
              "Name: Start Date, Length: 217, dtype: int64"
            ]
          },
          "execution_count": 54,
          "metadata": {},
          "output_type": "execute_result"
        }
      ],
      "source": [
        "battles.index.value_counts()"
      ]
    },
    {
      "cell_type": "markdown",
      "metadata": {
        "id": "ZNaa5MZuimvU"
      },
      "source": [
        "## 3.5 Invoking a Function on Every Series Value with the apply Method"
      ]
    },
    {
      "cell_type": "code",
      "execution_count": null,
      "metadata": {
        "id": "jxavuE2AimvU"
      },
      "outputs": [],
      "source": [
        "funcs = [len, max, min]"
      ]
    },
    {
      "cell_type": "code",
      "execution_count": null,
      "metadata": {
        "id": "BOSQXMS4imvU",
        "outputId": "dd7306f8-9440-4cd3-fe75-9b2983645a2c"
      },
      "outputs": [
        {
          "name": "stdout",
          "output_type": "stream",
          "text": [
            "3824\n",
            "1287.58\n",
            "49.82\n"
          ]
        }
      ],
      "source": [
        "funcs = [len, max, min]\n",
        "\n",
        "for current_func in funcs:\n",
        "    print(current_func(google))"
      ]
    },
    {
      "cell_type": "code",
      "execution_count": null,
      "metadata": {
        "id": "v5LHXE2bimvV",
        "outputId": "c37c580d-8839-4768-f5f6-277689a08f4e"
      },
      "outputs": [
        {
          "data": {
            "text/plain": [
              "99"
            ]
          },
          "execution_count": 57,
          "metadata": {},
          "output_type": "execute_result"
        }
      ],
      "source": [
        "round(99.2)"
      ]
    },
    {
      "cell_type": "code",
      "execution_count": null,
      "metadata": {
        "id": "fSPnMrTzimvV",
        "outputId": "411b3e73-5b01-4c8e-e704-3197d0f5e947"
      },
      "outputs": [
        {
          "data": {
            "text/plain": [
              "99"
            ]
          },
          "execution_count": 58,
          "metadata": {},
          "output_type": "execute_result"
        }
      ],
      "source": [
        "round(99.49)"
      ]
    },
    {
      "cell_type": "code",
      "execution_count": null,
      "metadata": {
        "id": "tLWklSwzimvV",
        "outputId": "e517b09b-0e1b-45d3-abee-18d4457107a0"
      },
      "outputs": [
        {
          "data": {
            "text/plain": [
              "100"
            ]
          },
          "execution_count": 59,
          "metadata": {},
          "output_type": "execute_result"
        }
      ],
      "source": [
        "round(99.5)"
      ]
    },
    {
      "cell_type": "code",
      "execution_count": null,
      "metadata": {
        "id": "gFPx_MbLimvV",
        "outputId": "a8da4a73-bc38-4841-f33c-793eaa717560"
      },
      "outputs": [
        {
          "data": {
            "text/plain": [
              "Date\n",
              "2004-08-19      50\n",
              "2004-08-20      54\n",
              "2004-08-23      54\n",
              "2004-08-24      52\n",
              "2004-08-25      53\n",
              "              ... \n",
              "2019-10-21    1246\n",
              "2019-10-22    1243\n",
              "2019-10-23    1259\n",
              "2019-10-24    1261\n",
              "2019-10-25    1265\n",
              "Name: Close, Length: 3824, dtype: int64"
            ]
          },
          "execution_count": 60,
          "metadata": {},
          "output_type": "execute_result"
        }
      ],
      "source": [
        "# The two lines below are equivalent\n",
        "google.apply(func = round)\n",
        "google.apply(round)"
      ]
    },
    {
      "cell_type": "code",
      "execution_count": null,
      "metadata": {
        "id": "oHk-9uilimvV"
      },
      "outputs": [],
      "source": [
        "def single_or_multi(pokemon_type):\n",
        "    if \"/\" in pokemon_type:\n",
        "        return \"Multi\"\n",
        "\n",
        "    return \"Single\""
      ]
    },
    {
      "cell_type": "code",
      "execution_count": null,
      "metadata": {
        "id": "lDEcXhH2imvV",
        "outputId": "75649e28-6531-4418-d377-b645dd79c381"
      },
      "outputs": [
        {
          "data": {
            "text/plain": [
              "Pokemon\n",
              "Bulbasaur     Grass / Poison\n",
              "Ivysaur       Grass / Poison\n",
              "Venusaur      Grass / Poison\n",
              "Charmander              Fire\n",
              "Name: Type, dtype: object"
            ]
          },
          "execution_count": 62,
          "metadata": {},
          "output_type": "execute_result"
        }
      ],
      "source": [
        "pokemon.head(4)"
      ]
    },
    {
      "cell_type": "code",
      "execution_count": null,
      "metadata": {
        "id": "l-D1Tiy7imvW",
        "outputId": "d7b3a39d-9c8e-44da-e293-0a8948d8de44"
      },
      "outputs": [
        {
          "data": {
            "text/plain": [
              "Pokemon\n",
              "Bulbasaur       Multi\n",
              "Ivysaur         Multi\n",
              "Venusaur        Multi\n",
              "Charmander     Single\n",
              "Charmeleon     Single\n",
              "                ...  \n",
              "Stakataka       Multi\n",
              "Blacephalon     Multi\n",
              "Zeraora        Single\n",
              "Meltan         Single\n",
              "Melmetal       Single\n",
              "Name: Type, Length: 809, dtype: object"
            ]
          },
          "execution_count": 63,
          "metadata": {},
          "output_type": "execute_result"
        }
      ],
      "source": [
        "pokemon.apply(single_or_multi)"
      ]
    },
    {
      "cell_type": "code",
      "execution_count": null,
      "metadata": {
        "id": "EnOSAsx2imvW",
        "outputId": "3aceb189-e027-4462-e761-d8992294e6a8"
      },
      "outputs": [
        {
          "data": {
            "text/plain": [
              "Multi     405\n",
              "Single    404\n",
              "Name: Type, dtype: int64"
            ]
          },
          "execution_count": 64,
          "metadata": {},
          "output_type": "execute_result"
        }
      ],
      "source": [
        "pokemon.apply(single_or_multi).value_counts()"
      ]
    },
    {
      "cell_type": "markdown",
      "metadata": {
        "id": "U2Wc5y-6imvW"
      },
      "source": [
        "## 3.6 Coding Challenge"
      ]
    },
    {
      "cell_type": "markdown",
      "metadata": {
        "id": "tRyObPPJimvW"
      },
      "source": [
        "### 3.6.1 Problems"
      ]
    },
    {
      "cell_type": "markdown",
      "metadata": {
        "id": "WSbrmXJ_imvW"
      },
      "source": [
        "### 3.6.2 Solutions"
      ]
    },
    {
      "cell_type": "code",
      "execution_count": null,
      "metadata": {
        "id": "aJFN1KrbimvW",
        "outputId": "d4589195-6e2f-4e0f-813e-ab1d78b43324"
      },
      "outputs": [
        {
          "data": {
            "text/plain": [
              "'Saturday'"
            ]
          },
          "execution_count": 65,
          "metadata": {},
          "output_type": "execute_result"
        }
      ],
      "source": [
        "import datetime as dt\n",
        "today = dt.datetime(2020, 12, 26)\n",
        "today.strftime(\"%A\")"
      ]
    },
    {
      "cell_type": "code",
      "execution_count": null,
      "metadata": {
        "id": "D3tvwNtOimvX",
        "outputId": "a1479626-611d-4f0f-87c2-f7983d763b1e"
      },
      "outputs": [
        {
          "data": {
            "text/html": [
              "<div>\n",
              "<style scoped>\n",
              "    .dataframe tbody tr th:only-of-type {\n",
              "        vertical-align: middle;\n",
              "    }\n",
              "\n",
              "    .dataframe tbody tr th {\n",
              "        vertical-align: top;\n",
              "    }\n",
              "\n",
              "    .dataframe thead th {\n",
              "        text-align: right;\n",
              "    }\n",
              "</style>\n",
              "<table border=\"1\" class=\"dataframe\">\n",
              "  <thead>\n",
              "    <tr style=\"text-align: right;\">\n",
              "      <th></th>\n",
              "      <th>Battle</th>\n",
              "      <th>Start Date</th>\n",
              "      <th>State</th>\n",
              "    </tr>\n",
              "  </thead>\n",
              "  <tbody>\n",
              "    <tr>\n",
              "      <th>0</th>\n",
              "      <td>Powder Alarm</td>\n",
              "      <td>9/1/1774</td>\n",
              "      <td>Massachusetts</td>\n",
              "    </tr>\n",
              "    <tr>\n",
              "      <th>1</th>\n",
              "      <td>Storming of Fort William and Mary</td>\n",
              "      <td>12/14/1774</td>\n",
              "      <td>New Hampshire</td>\n",
              "    </tr>\n",
              "    <tr>\n",
              "      <th>2</th>\n",
              "      <td>Battles of Lexington and Concord</td>\n",
              "      <td>4/19/1775</td>\n",
              "      <td>Massachusetts</td>\n",
              "    </tr>\n",
              "    <tr>\n",
              "      <th>3</th>\n",
              "      <td>Siege of Boston</td>\n",
              "      <td>4/19/1775</td>\n",
              "      <td>Massachusetts</td>\n",
              "    </tr>\n",
              "    <tr>\n",
              "      <th>4</th>\n",
              "      <td>Gunpowder Incident</td>\n",
              "      <td>4/20/1775</td>\n",
              "      <td>Virginia</td>\n",
              "    </tr>\n",
              "  </tbody>\n",
              "</table>\n",
              "</div>"
            ],
            "text/plain": [
              "                              Battle  Start Date          State\n",
              "0                       Powder Alarm    9/1/1774  Massachusetts\n",
              "1  Storming of Fort William and Mary  12/14/1774  New Hampshire\n",
              "2   Battles of Lexington and Concord   4/19/1775  Massachusetts\n",
              "3                    Siege of Boston   4/19/1775  Massachusetts\n",
              "4                 Gunpowder Incident   4/20/1775       Virginia"
            ]
          },
          "execution_count": 66,
          "metadata": {},
          "output_type": "execute_result"
        }
      ],
      "source": [
        "pd.read_csv(\"revolutionary_war.csv\").head()"
      ]
    },
    {
      "cell_type": "code",
      "execution_count": null,
      "metadata": {
        "id": "_-3y9pCvimvX",
        "outputId": "03dbc4db-32a8-4bba-f060-bcfe1f29ab2b"
      },
      "outputs": [
        {
          "data": {
            "text/plain": [
              "0   1774-09-01\n",
              "1   1774-12-14\n",
              "2   1775-04-19\n",
              "3   1775-04-19\n",
              "4   1775-04-20\n",
              "Name: Start Date, dtype: datetime64[ns]"
            ]
          },
          "execution_count": 67,
          "metadata": {},
          "output_type": "execute_result"
        }
      ],
      "source": [
        "days_of_war = pd.read_csv(\n",
        "    \"revolutionary_war.csv\",\n",
        "    usecols = [\"Start Date\"],\n",
        "    parse_dates = [\"Start Date\"],\n",
        "    squeeze = True,\n",
        ")\n",
        "\n",
        "days_of_war.head()"
      ]
    },
    {
      "cell_type": "code",
      "execution_count": null,
      "metadata": {
        "id": "traiqWQRimvX"
      },
      "outputs": [],
      "source": [
        "def day_of_week(date):\n",
        "    return date.strftime(\"%A\")"
      ]
    },
    {
      "cell_type": "markdown",
      "metadata": {
        "id": "q35edmybimvX"
      },
      "source": [
        "**NOTE**: I've commented out the code below so that the Notebook can run without raising an error."
      ]
    },
    {
      "cell_type": "code",
      "execution_count": null,
      "metadata": {
        "id": "2E0S3BVlimvX"
      },
      "outputs": [],
      "source": [
        "# days_of_war.apply(day_of_week)"
      ]
    },
    {
      "cell_type": "code",
      "execution_count": null,
      "metadata": {
        "id": "bvjhr4tPimvX",
        "outputId": "82572c08-8666-44d6-d3f6-b3e9cdfda30b"
      },
      "outputs": [
        {
          "data": {
            "text/plain": [
              "0       Thursday\n",
              "1      Wednesday\n",
              "2      Wednesday\n",
              "3      Wednesday\n",
              "4       Thursday\n",
              "         ...    \n",
              "227    Wednesday\n",
              "228       Friday\n",
              "229       Friday\n",
              "230       Friday\n",
              "231    Wednesday\n",
              "Name: Start Date, Length: 228, dtype: object"
            ]
          },
          "execution_count": 70,
          "metadata": {},
          "output_type": "execute_result"
        }
      ],
      "source": [
        "days_of_war.dropna().apply(day_of_week)"
      ]
    },
    {
      "cell_type": "code",
      "execution_count": null,
      "metadata": {
        "id": "pMXfLnf0imvX",
        "outputId": "af78ed7a-819a-41a2-9808-ecfd2a633084"
      },
      "outputs": [
        {
          "data": {
            "text/plain": [
              "Saturday     39\n",
              "Friday       39\n",
              "Wednesday    32\n",
              "Sunday       31\n",
              "Thursday     31\n",
              "Tuesday      29\n",
              "Monday       27\n",
              "Name: Start Date, dtype: int64"
            ]
          },
          "execution_count": 71,
          "metadata": {},
          "output_type": "execute_result"
        }
      ],
      "source": [
        "days_of_war.dropna().apply(day_of_week).value_counts()"
      ]
    },
    {
      "cell_type": "markdown",
      "metadata": {
        "id": "p0JciyQaimvY"
      },
      "source": [
        "## 3.7 Summary"
      ]
    },
    {
      "cell_type": "code",
      "execution_count": null,
      "metadata": {
        "id": "U2rFf8QnimvY"
      },
      "outputs": [],
      "source": []
    }
  ],
  "metadata": {
    "kernelspec": {
      "display_name": "Python 3",
      "language": "python",
      "name": "python3"
    },
    "language_info": {
      "codemirror_mode": {
        "name": "ipython",
        "version": 3
      },
      "file_extension": ".py",
      "mimetype": "text/x-python",
      "name": "python",
      "nbconvert_exporter": "python",
      "pygments_lexer": "ipython3",
      "version": "3.9.2"
    },
    "colab": {
      "provenance": []
    }
  },
  "nbformat": 4,
  "nbformat_minor": 0
}