{
  "cells": [
    {
      "cell_type": "markdown",
      "metadata": {
        "id": "6Qin9DMk2Wsj"
      },
      "source": [
        "## 2.1 Overview of a Series"
      ]
    },
    {
      "cell_type": "code",
      "execution_count": 1,
      "metadata": {
        "id": "8ChalTUK2Wsk"
      },
      "outputs": [],
      "source": [
        "import pandas as pd\n",
        "import numpy as np\n",
        "#"
      ]
    },
    {
      "cell_type": "markdown",
      "metadata": {
        "id": "J9dh2z1F2Wsl"
      },
      "source": [
        "### 2.1.1 Classes, and Instances"
      ]
    },
    {
      "cell_type": "code",
      "execution_count": 7,
      "metadata": {
        "colab": {
          "base_uri": "https://localhost:8080/",
          "height": 84
        },
        "id": "IwMwW8d02Wsm",
        "outputId": "53d6687f-83c2-4159-8820-bcb0127b1433"
      },
      "outputs": [
        {
          "output_type": "execute_result",
          "data": {
            "text/plain": [
              "Series([], dtype: object)"
            ],
            "text/html": [
              "<div>\n",
              "<style scoped>\n",
              "    .dataframe tbody tr th:only-of-type {\n",
              "        vertical-align: middle;\n",
              "    }\n",
              "\n",
              "    .dataframe tbody tr th {\n",
              "        vertical-align: top;\n",
              "    }\n",
              "\n",
              "    .dataframe thead th {\n",
              "        text-align: right;\n",
              "    }\n",
              "</style>\n",
              "<table border=\"1\" class=\"dataframe\">\n",
              "  <thead>\n",
              "    <tr style=\"text-align: right;\">\n",
              "      <th></th>\n",
              "      <th>0</th>\n",
              "    </tr>\n",
              "  </thead>\n",
              "  <tbody>\n",
              "  </tbody>\n",
              "</table>\n",
              "</div><br><label><b>dtype:</b> object</label>"
            ]
          },
          "metadata": {},
          "execution_count": 7
        }
      ],
      "source": [
        "pd.Series()"
      ]
    },
    {
      "cell_type": "markdown",
      "metadata": {
        "id": "6qsctPa82Wsn"
      },
      "source": [
        "### 2.1.2 Populating the Series with Values"
      ]
    },
    {
      "cell_type": "code",
      "execution_count": 16,
      "metadata": {
        "colab": {
          "base_uri": "https://localhost:8080/",
          "height": 209
        },
        "id": "twrK7Tw32Wsp",
        "outputId": "6603d1aa-00f3-44df-ae57-56e764213367"
      },
      "outputs": [
        {
          "output_type": "execute_result",
          "data": {
            "text/plain": [
              "0     Chocolate\n",
              "1       Vanilla\n",
              "2    Strawberry\n",
              "3    Rum Raisin\n",
              "dtype: object"
            ],
            "text/html": [
              "<div>\n",
              "<style scoped>\n",
              "    .dataframe tbody tr th:only-of-type {\n",
              "        vertical-align: middle;\n",
              "    }\n",
              "\n",
              "    .dataframe tbody tr th {\n",
              "        vertical-align: top;\n",
              "    }\n",
              "\n",
              "    .dataframe thead th {\n",
              "        text-align: right;\n",
              "    }\n",
              "</style>\n",
              "<table border=\"1\" class=\"dataframe\">\n",
              "  <thead>\n",
              "    <tr style=\"text-align: right;\">\n",
              "      <th></th>\n",
              "      <th>0</th>\n",
              "    </tr>\n",
              "  </thead>\n",
              "  <tbody>\n",
              "    <tr>\n",
              "      <th>0</th>\n",
              "      <td>Chocolate</td>\n",
              "    </tr>\n",
              "    <tr>\n",
              "      <th>1</th>\n",
              "      <td>Vanilla</td>\n",
              "    </tr>\n",
              "    <tr>\n",
              "      <th>2</th>\n",
              "      <td>Strawberry</td>\n",
              "    </tr>\n",
              "    <tr>\n",
              "      <th>3</th>\n",
              "      <td>Rum Raisin</td>\n",
              "    </tr>\n",
              "  </tbody>\n",
              "</table>\n",
              "</div><br><label><b>dtype:</b> object</label>"
            ]
          },
          "metadata": {},
          "execution_count": 16
        }
      ],
      "source": [
        "pd.Series(\n",
        "    [ \"Chocolate\", \"Vanilla\", \"Strawberry\", \"Rum Raisin\"]\n",
        ")"
      ]
    },
    {
      "cell_type": "code",
      "source": [
        "pd.Series(\n",
        "    data= [ 11, 12, 13, 14],\n",
        "    name = \"col-name\",\n",
        "    dtype=str\n",
        ")"
      ],
      "metadata": {
        "id": "bu0XK4nnOYk_",
        "outputId": "7f058760-2f17-432e-bb64-c993cc76308e",
        "colab": {
          "base_uri": "https://localhost:8080/",
          "height": 209
        }
      },
      "execution_count": 24,
      "outputs": [
        {
          "output_type": "execute_result",
          "data": {
            "text/plain": [
              "0    11\n",
              "1    12\n",
              "2    13\n",
              "3    14\n",
              "Name: col-name, dtype: object"
            ],
            "text/html": [
              "<div>\n",
              "<style scoped>\n",
              "    .dataframe tbody tr th:only-of-type {\n",
              "        vertical-align: middle;\n",
              "    }\n",
              "\n",
              "    .dataframe tbody tr th {\n",
              "        vertical-align: top;\n",
              "    }\n",
              "\n",
              "    .dataframe thead th {\n",
              "        text-align: right;\n",
              "    }\n",
              "</style>\n",
              "<table border=\"1\" class=\"dataframe\">\n",
              "  <thead>\n",
              "    <tr style=\"text-align: right;\">\n",
              "      <th></th>\n",
              "      <th>col-name</th>\n",
              "    </tr>\n",
              "  </thead>\n",
              "  <tbody>\n",
              "    <tr>\n",
              "      <th>0</th>\n",
              "      <td>11</td>\n",
              "    </tr>\n",
              "    <tr>\n",
              "      <th>1</th>\n",
              "      <td>12</td>\n",
              "    </tr>\n",
              "    <tr>\n",
              "      <th>2</th>\n",
              "      <td>13</td>\n",
              "    </tr>\n",
              "    <tr>\n",
              "      <th>3</th>\n",
              "      <td>14</td>\n",
              "    </tr>\n",
              "  </tbody>\n",
              "</table>\n",
              "</div><br><label><b>dtype:</b> object</label>"
            ]
          },
          "metadata": {},
          "execution_count": 24
        }
      ]
    },
    {
      "cell_type": "markdown",
      "metadata": {
        "id": "8YVsdwRM2Wsq"
      },
      "source": [
        "### 2.1.3 Customizing the Series Index"
      ]
    },
    {
      "cell_type": "code",
      "execution_count": 15,
      "metadata": {
        "colab": {
          "base_uri": "https://localhost:8080/",
          "height": 209
        },
        "id": "-wHzvX7e2Wsq",
        "outputId": "11c44f75-49e4-408d-cb09-d1168a6aa634"
      },
      "outputs": [
        {
          "output_type": "execute_result",
          "data": {
            "text/plain": [
              "Monday        Chocolate\n",
              "Wednesday       Vanilla\n",
              "Friday       Strawberry\n",
              "Saturday     Rum Raisin\n",
              "dtype: object"
            ],
            "text/html": [
              "<div>\n",
              "<style scoped>\n",
              "    .dataframe tbody tr th:only-of-type {\n",
              "        vertical-align: middle;\n",
              "    }\n",
              "\n",
              "    .dataframe tbody tr th {\n",
              "        vertical-align: top;\n",
              "    }\n",
              "\n",
              "    .dataframe thead th {\n",
              "        text-align: right;\n",
              "    }\n",
              "</style>\n",
              "<table border=\"1\" class=\"dataframe\">\n",
              "  <thead>\n",
              "    <tr style=\"text-align: right;\">\n",
              "      <th></th>\n",
              "      <th>0</th>\n",
              "    </tr>\n",
              "  </thead>\n",
              "  <tbody>\n",
              "    <tr>\n",
              "      <th>Monday</th>\n",
              "      <td>Chocolate</td>\n",
              "    </tr>\n",
              "    <tr>\n",
              "      <th>Wednesday</th>\n",
              "      <td>Vanilla</td>\n",
              "    </tr>\n",
              "    <tr>\n",
              "      <th>Friday</th>\n",
              "      <td>Strawberry</td>\n",
              "    </tr>\n",
              "    <tr>\n",
              "      <th>Saturday</th>\n",
              "      <td>Rum Raisin</td>\n",
              "    </tr>\n",
              "  </tbody>\n",
              "</table>\n",
              "</div><br><label><b>dtype:</b> object</label>"
            ]
          },
          "metadata": {},
          "execution_count": 15
        }
      ],
      "source": [
        "pd.Series(\n",
        "    data = [\"Chocolate\", \"Vanilla\", \"Strawberry\", \"Rum Raisin\"],\n",
        "    index =[\"Monday\", \"Wednesday\", \"Friday\", \"Saturday\"]\n",
        ")"
      ]
    },
    {
      "cell_type": "code",
      "execution_count": 14,
      "metadata": {
        "colab": {
          "base_uri": "https://localhost:8080/",
          "height": 209
        },
        "id": "UC1pKsQ52Wsr",
        "outputId": "11cb64ff-aba6-426d-e2f9-f02f1b1b1840"
      },
      "outputs": [
        {
          "output_type": "execute_result",
          "data": {
            "text/plain": [
              "Monday        Chocolate\n",
              "Wednesday       Vanilla\n",
              "Friday       Strawberry\n",
              "Wednesday    Rum Raisin\n",
              "dtype: object"
            ],
            "text/html": [
              "<div>\n",
              "<style scoped>\n",
              "    .dataframe tbody tr th:only-of-type {\n",
              "        vertical-align: middle;\n",
              "    }\n",
              "\n",
              "    .dataframe tbody tr th {\n",
              "        vertical-align: top;\n",
              "    }\n",
              "\n",
              "    .dataframe thead th {\n",
              "        text-align: right;\n",
              "    }\n",
              "</style>\n",
              "<table border=\"1\" class=\"dataframe\">\n",
              "  <thead>\n",
              "    <tr style=\"text-align: right;\">\n",
              "      <th></th>\n",
              "      <th>0</th>\n",
              "    </tr>\n",
              "  </thead>\n",
              "  <tbody>\n",
              "    <tr>\n",
              "      <th>Monday</th>\n",
              "      <td>Chocolate</td>\n",
              "    </tr>\n",
              "    <tr>\n",
              "      <th>Wednesday</th>\n",
              "      <td>Vanilla</td>\n",
              "    </tr>\n",
              "    <tr>\n",
              "      <th>Friday</th>\n",
              "      <td>Strawberry</td>\n",
              "    </tr>\n",
              "    <tr>\n",
              "      <th>Wednesday</th>\n",
              "      <td>Rum Raisin</td>\n",
              "    </tr>\n",
              "  </tbody>\n",
              "</table>\n",
              "</div><br><label><b>dtype:</b> object</label>"
            ]
          },
          "metadata": {},
          "execution_count": 14
        }
      ],
      "source": [
        "ice_cream_flavors = [\n",
        "    \"Chocolate\",\n",
        "    \"Vanilla\",\n",
        "    \"Strawberry\",\n",
        "    \"Rum Raisin\",\n",
        "]\n",
        "\n",
        "days_of_week = (\"Monday\", \"Wednesday\", \"Friday\", \"Wednesday\")\n",
        "\n",
        "# The two lines below are equivalent\n",
        "pd.Series(ice_cream_flavors, days_of_week)\n",
        "pd.Series(data = ice_cream_flavors, index = days_of_week)"
      ]
    },
    {
      "cell_type": "code",
      "execution_count": null,
      "metadata": {
        "id": "y-4jl1YJ2Wsr",
        "outputId": "58ff490f-5fc6-4f5f-d812-ecae03e621e2"
      },
      "outputs": [
        {
          "data": {
            "text/plain": [
              "Monday        Chocolate\n",
              "Wednesday       Vanilla\n",
              "Friday       Strawberry\n",
              "Wednesday    Rum Raisin\n",
              "dtype: object"
            ]
          },
          "execution_count": 7,
          "metadata": {},
          "output_type": "execute_result"
        }
      ],
      "source": [
        "pd.Series(index = days_of_week, data = ice_cream_flavors)"
      ]
    },
    {
      "cell_type": "code",
      "execution_count": null,
      "metadata": {
        "id": "F76w0x0R2Wss",
        "outputId": "bc530dce-aaf5-478a-a71d-0ad437c1f984"
      },
      "outputs": [
        {
          "data": {
            "text/plain": [
              "0     True\n",
              "1    False\n",
              "2    False\n",
              "dtype: bool"
            ]
          },
          "execution_count": 8,
          "metadata": {},
          "output_type": "execute_result"
        }
      ],
      "source": [
        "bunch_of_bools = [True, False, False]\n",
        "pd.Series(bunch_of_bools)"
      ]
    },
    {
      "cell_type": "code",
      "execution_count": null,
      "metadata": {
        "id": "0FEfmr8X2Wss",
        "outputId": "b96996bc-ae14-4d5d-abea-7bc8768618d9"
      },
      "outputs": [
        {
          "data": {
            "text/plain": [
              "Open     985.32\n",
              "Close    950.44\n",
              "dtype: float64"
            ]
          },
          "execution_count": 9,
          "metadata": {},
          "output_type": "execute_result"
        }
      ],
      "source": [
        "stock_prices = [985.32, 950.44]\n",
        "time_of_day = [\"Open\", \"Close\"]\n",
        "pd.Series(data = stock_prices, index = time_of_day)"
      ]
    },
    {
      "cell_type": "code",
      "execution_count": null,
      "metadata": {
        "id": "vlUkDaCY2Wss",
        "outputId": "369fecb4-1921-4aea-fe14-8a19b0e19597"
      },
      "outputs": [
        {
          "data": {
            "text/plain": [
              "0     4\n",
              "1     8\n",
              "2    15\n",
              "3    16\n",
              "4    23\n",
              "5    42\n",
              "dtype: int64"
            ]
          },
          "execution_count": 10,
          "metadata": {},
          "output_type": "execute_result"
        }
      ],
      "source": [
        "lucky_numbers = [4, 8, 15, 16, 23, 42]\n",
        "pd.Series(lucky_numbers)"
      ]
    },
    {
      "cell_type": "code",
      "execution_count": null,
      "metadata": {
        "id": "GX8dtnNj2Wst",
        "outputId": "0e997b8d-4de6-4a64-cc71-bf653fcfa943"
      },
      "outputs": [
        {
          "data": {
            "text/plain": [
              "0     4.0\n",
              "1     8.0\n",
              "2    15.0\n",
              "3    16.0\n",
              "4    23.0\n",
              "5    42.0\n",
              "dtype: float64"
            ]
          },
          "execution_count": 11,
          "metadata": {},
          "output_type": "execute_result"
        }
      ],
      "source": [
        "lucky_numbers = [4, 8, 15, 16, 23, 42]\n",
        "pd.Series(lucky_numbers, dtype = \"float\")"
      ]
    },
    {
      "cell_type": "markdown",
      "metadata": {
        "id": "fRAsJJ_X2Wst"
      },
      "source": [
        "### 2.1.4 Creating a Series with Missing Values"
      ]
    },
    {
      "cell_type": "code",
      "execution_count": null,
      "metadata": {
        "id": "qav3BfCk2Wst",
        "outputId": "c2b89059-d1ff-4888-8799-69d376f4e10b"
      },
      "outputs": [
        {
          "data": {
            "text/plain": [
              "0    94.0\n",
              "1    88.0\n",
              "2     NaN\n",
              "3    91.0\n",
              "dtype: float64"
            ]
          },
          "execution_count": 12,
          "metadata": {},
          "output_type": "execute_result"
        }
      ],
      "source": [
        "temperatures = [94, 88, np.nan, 91]\n",
        "pd.Series(data = temperatures)"
      ]
    },
    {
      "cell_type": "markdown",
      "metadata": {
        "id": "MBRjVqSZ2Wst"
      },
      "source": [
        "## 2.2 Create a Series from Python Objects"
      ]
    },
    {
      "cell_type": "code",
      "execution_count": null,
      "metadata": {
        "id": "zaPGZNd32Wsv",
        "outputId": "99b92fbd-8079-474b-cde0-d0030144b0c4"
      },
      "outputs": [
        {
          "data": {
            "text/plain": [
              "Cereal              125\n",
              "Chocolate Bar       406\n",
              "Ice Cream Sundae    342\n",
              "dtype: int64"
            ]
          },
          "execution_count": 13,
          "metadata": {},
          "output_type": "execute_result"
        }
      ],
      "source": [
        "calorie_info = {\n",
        "    \"Cereal\": 125,\n",
        "    \"Chocolate Bar\": 406,\n",
        "    \"Ice Cream Sundae\": 342,\n",
        "}\n",
        "\n",
        "diet = pd.Series(calorie_info)\n",
        "diet"
      ]
    },
    {
      "cell_type": "code",
      "execution_count": null,
      "metadata": {
        "id": "qjcJbVPv2Wsv",
        "outputId": "79ff297f-1a77-4e45-ee37-5d60d8c747cb"
      },
      "outputs": [
        {
          "data": {
            "text/plain": [
              "0      Red\n",
              "1    Green\n",
              "2     Blue\n",
              "dtype: object"
            ]
          },
          "execution_count": 14,
          "metadata": {},
          "output_type": "execute_result"
        }
      ],
      "source": [
        "pd.Series(data = (\"Red\", \"Green\", \"Blue\"))"
      ]
    },
    {
      "cell_type": "code",
      "execution_count": null,
      "metadata": {
        "id": "ziFs8ywu2Wsv",
        "outputId": "dcf888cf-c2e3-4470-8f19-6230aded3ac2"
      },
      "outputs": [
        {
          "data": {
            "text/plain": [
              "0     (120, 41, 26)\n",
              "1    (196, 165, 45)\n",
              "dtype: object"
            ]
          },
          "execution_count": 15,
          "metadata": {},
          "output_type": "execute_result"
        }
      ],
      "source": [
        "rgb_colors = [(120, 41, 26), (196, 165, 45)]\n",
        "pd.Series(data = rgb_colors)"
      ]
    },
    {
      "cell_type": "markdown",
      "metadata": {
        "id": "6C9uWPIY2Wsw"
      },
      "source": [
        "**NOTE**: I've commented out the code below so that the Notebook can run without raising an error."
      ]
    },
    {
      "cell_type": "code",
      "execution_count": null,
      "metadata": {
        "id": "V588baen2Wsw"
      },
      "outputs": [],
      "source": [
        "my_set = {\"Ricky\", \"Bobby\"}\n",
        "# pd.Series(my_set)"
      ]
    },
    {
      "cell_type": "code",
      "execution_count": null,
      "metadata": {
        "id": "2B8-6kkG2Wsw",
        "outputId": "46ccedc6-ad1a-4262-f84d-3cc9aa77b3bc"
      },
      "outputs": [
        {
          "data": {
            "text/plain": [
              "0    Bobby\n",
              "1    Ricky\n",
              "dtype: object"
            ]
          },
          "execution_count": 17,
          "metadata": {},
          "output_type": "execute_result"
        }
      ],
      "source": [
        "pd.Series(list(my_set))"
      ]
    },
    {
      "cell_type": "code",
      "execution_count": null,
      "metadata": {
        "id": "KeiHS8z22Wsx",
        "outputId": "56669cd9-7439-44be-f54c-53f4e62f9134"
      },
      "outputs": [
        {
          "data": {
            "text/plain": [
              "array([63,  6, 44, 12, 66, 61, 64, 42, 81,  6])"
            ]
          },
          "execution_count": 18,
          "metadata": {},
          "output_type": "execute_result"
        }
      ],
      "source": [
        "random_data = np.random.randint(1, 101, 10)\n",
        "random_data"
      ]
    },
    {
      "cell_type": "code",
      "execution_count": null,
      "metadata": {
        "id": "0BxQyZs42Wsx",
        "outputId": "7383e668-42c5-4b59-bba6-654cf509ae33"
      },
      "outputs": [
        {
          "data": {
            "text/plain": [
              "0    63\n",
              "1     6\n",
              "2    44\n",
              "3    12\n",
              "4    66\n",
              "5    61\n",
              "6    64\n",
              "7    42\n",
              "8    81\n",
              "9     6\n",
              "dtype: int64"
            ]
          },
          "execution_count": 19,
          "metadata": {},
          "output_type": "execute_result"
        }
      ],
      "source": [
        "pd.Series(random_data)"
      ]
    },
    {
      "cell_type": "markdown",
      "metadata": {
        "id": "xpZJJJKA2Wsx"
      },
      "source": [
        "## 2.3 Series Attributes"
      ]
    },
    {
      "cell_type": "code",
      "execution_count": null,
      "metadata": {
        "id": "cytseejy2Wsx",
        "outputId": "b176f5ae-e061-4473-e24b-9bc37b6ce574"
      },
      "outputs": [
        {
          "data": {
            "text/plain": [
              "array([125, 406, 342])"
            ]
          },
          "execution_count": 20,
          "metadata": {},
          "output_type": "execute_result"
        }
      ],
      "source": [
        "diet.values"
      ]
    },
    {
      "cell_type": "code",
      "execution_count": null,
      "metadata": {
        "id": "G5NVZOYd2Wsx",
        "outputId": "226c1e9b-083d-474d-e17e-b7757518c30a"
      },
      "outputs": [
        {
          "data": {
            "text/plain": [
              "numpy.ndarray"
            ]
          },
          "execution_count": 21,
          "metadata": {},
          "output_type": "execute_result"
        }
      ],
      "source": [
        "type(diet.values)"
      ]
    },
    {
      "cell_type": "code",
      "execution_count": null,
      "metadata": {
        "id": "buTj3Azl2Wsy",
        "outputId": "47e912d5-2783-4b06-871d-c5bedb6b7e7f"
      },
      "outputs": [
        {
          "data": {
            "text/plain": [
              "Index(['Cereal', 'Chocolate Bar', 'Ice Cream Sundae'], dtype='object')"
            ]
          },
          "execution_count": 22,
          "metadata": {},
          "output_type": "execute_result"
        }
      ],
      "source": [
        "diet.index"
      ]
    },
    {
      "cell_type": "code",
      "execution_count": null,
      "metadata": {
        "id": "X5tZMSMk2Wsy",
        "outputId": "c904a4a2-b3e6-40c6-908b-75af2ebb2b20"
      },
      "outputs": [
        {
          "data": {
            "text/plain": [
              "pandas.core.indexes.base.Index"
            ]
          },
          "execution_count": 23,
          "metadata": {},
          "output_type": "execute_result"
        }
      ],
      "source": [
        "type(diet.index)"
      ]
    },
    {
      "cell_type": "code",
      "execution_count": null,
      "metadata": {
        "id": "AUszF5NZ2Wsy",
        "outputId": "57752478-c0bc-4682-ade6-60e570b8fe96"
      },
      "outputs": [
        {
          "data": {
            "text/plain": [
              "dtype('int64')"
            ]
          },
          "execution_count": 24,
          "metadata": {},
          "output_type": "execute_result"
        }
      ],
      "source": [
        "diet.dtype"
      ]
    },
    {
      "cell_type": "code",
      "execution_count": null,
      "metadata": {
        "id": "eWPKRRXu2Wsy",
        "outputId": "e21fa786-d848-4362-d2b9-2dadda9f9c4a"
      },
      "outputs": [
        {
          "data": {
            "text/plain": [
              "3"
            ]
          },
          "execution_count": 25,
          "metadata": {},
          "output_type": "execute_result"
        }
      ],
      "source": [
        "diet.size"
      ]
    },
    {
      "cell_type": "code",
      "execution_count": null,
      "metadata": {
        "id": "6mGJtWPr2Wsy",
        "outputId": "810e9430-5941-48b5-ad09-b3ac7cc5652c"
      },
      "outputs": [
        {
          "data": {
            "text/plain": [
              "(3,)"
            ]
          },
          "execution_count": 26,
          "metadata": {},
          "output_type": "execute_result"
        }
      ],
      "source": [
        "diet.shape"
      ]
    },
    {
      "cell_type": "code",
      "execution_count": null,
      "metadata": {
        "id": "LlQCC-p42Wsz",
        "outputId": "1d03a186-676d-4b24-d806-8a5901078eed"
      },
      "outputs": [
        {
          "data": {
            "text/plain": [
              "True"
            ]
          },
          "execution_count": 27,
          "metadata": {},
          "output_type": "execute_result"
        }
      ],
      "source": [
        "diet.is_unique"
      ]
    },
    {
      "cell_type": "code",
      "execution_count": null,
      "metadata": {
        "id": "X9MW5aRE2Wsz",
        "outputId": "0ab8f119-4dde-495e-94f6-bbc3de3922cf"
      },
      "outputs": [
        {
          "data": {
            "text/plain": [
              "False"
            ]
          },
          "execution_count": 28,
          "metadata": {},
          "output_type": "execute_result"
        }
      ],
      "source": [
        "pd.Series(data = [3, 3]).is_unique"
      ]
    },
    {
      "cell_type": "code",
      "execution_count": null,
      "metadata": {
        "id": "6oJVvhKH2Wsz",
        "outputId": "62e6b287-b6c1-4194-e25d-365bb432f1ed"
      },
      "outputs": [
        {
          "data": {
            "text/plain": [
              "True"
            ]
          },
          "execution_count": 29,
          "metadata": {},
          "output_type": "execute_result"
        }
      ],
      "source": [
        "pd.Series(data = [1, 3, 6]).is_monotonic"
      ]
    },
    {
      "cell_type": "code",
      "execution_count": null,
      "metadata": {
        "id": "yF96AtPu2Wsz",
        "outputId": "1fa7163c-c94f-4204-a821-93cd0d553f64"
      },
      "outputs": [
        {
          "data": {
            "text/plain": [
              "False"
            ]
          },
          "execution_count": 30,
          "metadata": {},
          "output_type": "execute_result"
        }
      ],
      "source": [
        "pd.Series(data = [1, 6, 3]).is_monotonic"
      ]
    },
    {
      "cell_type": "markdown",
      "metadata": {
        "id": "Bf7ys6542Wsz"
      },
      "source": [
        "## 2.4 Retrieving the First and Last Rows"
      ]
    },
    {
      "cell_type": "code",
      "execution_count": null,
      "metadata": {
        "id": "1p__3hCr2Ws7",
        "outputId": "833b00eb-d04d-4ca9-9df2-5134177eff8f"
      },
      "outputs": [
        {
          "data": {
            "text/plain": [
              "0       0\n",
              "1       5\n",
              "2      10\n",
              "3      15\n",
              "4      20\n",
              "     ... \n",
              "95    475\n",
              "96    480\n",
              "97    485\n",
              "98    490\n",
              "99    495\n",
              "Length: 100, dtype: int64"
            ]
          },
          "execution_count": 31,
          "metadata": {},
          "output_type": "execute_result"
        }
      ],
      "source": [
        "values = range(0, 500, 5)\n",
        "nums = pd.Series(data = values)\n",
        "nums"
      ]
    },
    {
      "cell_type": "code",
      "execution_count": null,
      "metadata": {
        "id": "JQUdFr0t2Ws8",
        "outputId": "241d0bb9-d9ad-4e5f-8f2f-6b3c9fc1ead4"
      },
      "outputs": [
        {
          "data": {
            "text/plain": [
              "0     0\n",
              "1     5\n",
              "2    10\n",
              "dtype: int64"
            ]
          },
          "execution_count": 32,
          "metadata": {},
          "output_type": "execute_result"
        }
      ],
      "source": [
        "nums.head(3)"
      ]
    },
    {
      "cell_type": "code",
      "execution_count": null,
      "metadata": {
        "id": "IVmVYv-K2Ws8",
        "outputId": "74dad1b1-f1e4-4e7f-ef0f-eed670ec385e"
      },
      "outputs": [
        {
          "data": {
            "text/plain": [
              "0     0\n",
              "1     5\n",
              "2    10\n",
              "dtype: int64"
            ]
          },
          "execution_count": 33,
          "metadata": {},
          "output_type": "execute_result"
        }
      ],
      "source": [
        "nums.head(n = 3)"
      ]
    },
    {
      "cell_type": "code",
      "execution_count": null,
      "metadata": {
        "id": "Og5Smv1c2Ws8",
        "outputId": "8ff2ffcd-b200-460b-b1e9-80d21bf5d7c0"
      },
      "outputs": [
        {
          "data": {
            "text/plain": [
              "0     0\n",
              "1     5\n",
              "2    10\n",
              "3    15\n",
              "4    20\n",
              "dtype: int64"
            ]
          },
          "execution_count": 34,
          "metadata": {},
          "output_type": "execute_result"
        }
      ],
      "source": [
        "nums.head()"
      ]
    },
    {
      "cell_type": "code",
      "execution_count": null,
      "metadata": {
        "id": "mSpk77I12Ws8",
        "outputId": "95411e71-c34a-46e0-9497-5bb78f8bc9b2"
      },
      "outputs": [
        {
          "data": {
            "text/plain": [
              "94    470\n",
              "95    475\n",
              "96    480\n",
              "97    485\n",
              "98    490\n",
              "99    495\n",
              "dtype: int64"
            ]
          },
          "execution_count": 35,
          "metadata": {},
          "output_type": "execute_result"
        }
      ],
      "source": [
        "nums.tail(6)"
      ]
    },
    {
      "cell_type": "code",
      "execution_count": null,
      "metadata": {
        "id": "KU2BhiIz2Ws8",
        "outputId": "b122cf24-ff65-439a-f316-259879d5e557"
      },
      "outputs": [
        {
          "data": {
            "text/plain": [
              "95    475\n",
              "96    480\n",
              "97    485\n",
              "98    490\n",
              "99    495\n",
              "dtype: int64"
            ]
          },
          "execution_count": 36,
          "metadata": {},
          "output_type": "execute_result"
        }
      ],
      "source": [
        "nums.tail()"
      ]
    },
    {
      "cell_type": "markdown",
      "metadata": {
        "id": "6ZOjcSwh2Ws8"
      },
      "source": [
        "## 2.5 Mathematical Operations"
      ]
    },
    {
      "cell_type": "markdown",
      "metadata": {
        "id": "Z9pEBoLi2Ws8"
      },
      "source": [
        "### 2.5.1 Statistical Operations"
      ]
    },
    {
      "cell_type": "code",
      "execution_count": null,
      "metadata": {
        "id": "UClUgvo42Ws8",
        "outputId": "ac0a74d5-6d9d-4fd3-ba00-f6867106d0a5"
      },
      "outputs": [
        {
          "data": {
            "text/plain": [
              "0    1.0\n",
              "1    2.0\n",
              "2    3.0\n",
              "3    NaN\n",
              "4    4.0\n",
              "5    5.0\n",
              "dtype: float64"
            ]
          },
          "execution_count": 37,
          "metadata": {},
          "output_type": "execute_result"
        }
      ],
      "source": [
        "numbers = pd.Series([1, 2, 3, np.nan, 4, 5])\n",
        "numbers"
      ]
    },
    {
      "cell_type": "code",
      "execution_count": null,
      "metadata": {
        "id": "Bu16gYd92Ws9",
        "outputId": "b5fde952-3170-423f-b3ee-65efda3a8487"
      },
      "outputs": [
        {
          "data": {
            "text/plain": [
              "5"
            ]
          },
          "execution_count": 38,
          "metadata": {},
          "output_type": "execute_result"
        }
      ],
      "source": [
        "numbers.count()"
      ]
    },
    {
      "cell_type": "code",
      "execution_count": null,
      "metadata": {
        "id": "xY4l1FVR2Ws9",
        "outputId": "e5235f39-78d4-4617-e2ee-1b9e455122b0"
      },
      "outputs": [
        {
          "data": {
            "text/plain": [
              "15.0"
            ]
          },
          "execution_count": 39,
          "metadata": {},
          "output_type": "execute_result"
        }
      ],
      "source": [
        "numbers.sum()"
      ]
    },
    {
      "cell_type": "code",
      "execution_count": null,
      "metadata": {
        "id": "bKJRvgZn2Ws9",
        "outputId": "72bd55a4-ebb1-4db6-bd53-ac224490499c"
      },
      "outputs": [
        {
          "data": {
            "text/plain": [
              "nan"
            ]
          },
          "execution_count": 40,
          "metadata": {},
          "output_type": "execute_result"
        }
      ],
      "source": [
        "numbers.sum(skipna = False)"
      ]
    },
    {
      "cell_type": "code",
      "execution_count": null,
      "metadata": {
        "id": "D0CLyPPS2Ws9",
        "outputId": "795fa138-e4b0-49d9-c7e6-129144603bf0"
      },
      "outputs": [
        {
          "data": {
            "text/plain": [
              "15.0"
            ]
          },
          "execution_count": 41,
          "metadata": {},
          "output_type": "execute_result"
        }
      ],
      "source": [
        "numbers.sum(min_count = 3)"
      ]
    },
    {
      "cell_type": "code",
      "execution_count": null,
      "metadata": {
        "id": "aTm0Gt482Ws9",
        "outputId": "f15dcdce-586a-48df-f4a1-30cab14c905d"
      },
      "outputs": [
        {
          "data": {
            "text/plain": [
              "nan"
            ]
          },
          "execution_count": 42,
          "metadata": {},
          "output_type": "execute_result"
        }
      ],
      "source": [
        "numbers.sum(min_count = 6)"
      ]
    },
    {
      "cell_type": "code",
      "execution_count": null,
      "metadata": {
        "id": "4oXOy5BK2Ws9",
        "outputId": "9d3a8c24-b838-41de-d657-e182fdca2ec1"
      },
      "outputs": [
        {
          "data": {
            "text/plain": [
              "120.0"
            ]
          },
          "execution_count": 43,
          "metadata": {},
          "output_type": "execute_result"
        }
      ],
      "source": [
        "numbers.product()"
      ]
    },
    {
      "cell_type": "code",
      "execution_count": null,
      "metadata": {
        "id": "POxFj0gZ2Ws-",
        "outputId": "6ab03538-597b-4be2-e179-6bc617beb684"
      },
      "outputs": [
        {
          "data": {
            "text/plain": [
              "nan"
            ]
          },
          "execution_count": 44,
          "metadata": {},
          "output_type": "execute_result"
        }
      ],
      "source": [
        "numbers.product(skipna = False)"
      ]
    },
    {
      "cell_type": "code",
      "execution_count": null,
      "metadata": {
        "id": "ey9c6cff2Ws-",
        "outputId": "e48dcf9e-1ceb-4b47-d713-0d36f11fdcb1"
      },
      "outputs": [
        {
          "data": {
            "text/plain": [
              "120.0"
            ]
          },
          "execution_count": 45,
          "metadata": {},
          "output_type": "execute_result"
        }
      ],
      "source": [
        "numbers.product(min_count = 3)"
      ]
    },
    {
      "cell_type": "code",
      "execution_count": null,
      "metadata": {
        "id": "ysZvU_Mo2Ws-",
        "outputId": "98a97757-e997-4691-e6a4-d2b409579eb8"
      },
      "outputs": [
        {
          "data": {
            "text/plain": [
              "0    1.0\n",
              "1    2.0\n",
              "2    3.0\n",
              "3    NaN\n",
              "4    4.0\n",
              "5    5.0\n",
              "dtype: float64"
            ]
          },
          "execution_count": 46,
          "metadata": {},
          "output_type": "execute_result"
        }
      ],
      "source": [
        "numbers"
      ]
    },
    {
      "cell_type": "code",
      "execution_count": null,
      "metadata": {
        "id": "psvCpw_A2Ws-",
        "outputId": "f37f2ca4-28c8-41e1-e212-bfba283f1a77"
      },
      "outputs": [
        {
          "data": {
            "text/plain": [
              "0     1.0\n",
              "1     3.0\n",
              "2     6.0\n",
              "3     NaN\n",
              "4    10.0\n",
              "5    15.0\n",
              "dtype: float64"
            ]
          },
          "execution_count": 47,
          "metadata": {},
          "output_type": "execute_result"
        }
      ],
      "source": [
        "numbers.cumsum()"
      ]
    },
    {
      "cell_type": "code",
      "execution_count": null,
      "metadata": {
        "id": "HZIkpsGz2Ws-",
        "outputId": "148e1644-7a19-4a53-87b0-a1454980413c"
      },
      "outputs": [
        {
          "data": {
            "text/plain": [
              "0    1.0\n",
              "1    3.0\n",
              "2    6.0\n",
              "3    NaN\n",
              "4    NaN\n",
              "5    NaN\n",
              "dtype: float64"
            ]
          },
          "execution_count": 48,
          "metadata": {},
          "output_type": "execute_result"
        }
      ],
      "source": [
        "numbers.cumsum(skipna = False)"
      ]
    },
    {
      "cell_type": "code",
      "execution_count": null,
      "metadata": {
        "id": "XhwoloSx2Ws-",
        "outputId": "007fbb68-81c0-42f8-bf96-a360cc90b778"
      },
      "outputs": [
        {
          "data": {
            "text/plain": [
              "0    1.0\n",
              "1    2.0\n",
              "2    3.0\n",
              "3    NaN\n",
              "4    4.0\n",
              "5    5.0\n",
              "dtype: float64"
            ]
          },
          "execution_count": 49,
          "metadata": {},
          "output_type": "execute_result"
        }
      ],
      "source": [
        "numbers"
      ]
    },
    {
      "cell_type": "code",
      "execution_count": null,
      "metadata": {
        "id": "BwNoTUNN2Ws-",
        "outputId": "d93acddd-8b9c-4566-aa04-de95040611bb"
      },
      "outputs": [
        {
          "data": {
            "text/plain": [
              "0         NaN\n",
              "1    1.000000\n",
              "2    0.500000\n",
              "3    0.000000\n",
              "4    0.333333\n",
              "5    0.250000\n",
              "dtype: float64"
            ]
          },
          "execution_count": 50,
          "metadata": {},
          "output_type": "execute_result"
        }
      ],
      "source": [
        "numbers.pct_change()"
      ]
    },
    {
      "cell_type": "code",
      "execution_count": null,
      "metadata": {
        "id": "v8Gl9G6W2Ws_",
        "outputId": "9ef5eed6-d5b0-4342-a2ea-44ecbba5cef6"
      },
      "outputs": [
        {
          "data": {
            "text/plain": [
              "0         NaN\n",
              "1    1.000000\n",
              "2    0.500000\n",
              "3    0.000000\n",
              "4    0.333333\n",
              "5    0.250000\n",
              "dtype: float64"
            ]
          },
          "execution_count": 51,
          "metadata": {},
          "output_type": "execute_result"
        }
      ],
      "source": [
        "# The three lines below are equivalent\n",
        "numbers.pct_change()\n",
        "numbers.pct_change(fill_method = \"pad\")\n",
        "numbers.pct_change(fill_method = \"ffill\")"
      ]
    },
    {
      "cell_type": "code",
      "execution_count": null,
      "metadata": {
        "id": "i02EhaOl2Ws_",
        "outputId": "11a4fb1e-dfe6-4603-92ee-28a3c35423a0"
      },
      "outputs": [
        {
          "data": {
            "text/plain": [
              "0         NaN\n",
              "1    1.000000\n",
              "2    0.500000\n",
              "3    0.333333\n",
              "4    0.000000\n",
              "5    0.250000\n",
              "dtype: float64"
            ]
          },
          "execution_count": 52,
          "metadata": {},
          "output_type": "execute_result"
        }
      ],
      "source": [
        "# The two lines below are equivalent\n",
        "numbers.pct_change(fill_method = \"bfill\")\n",
        "numbers.pct_change(fill_method = \"backfill\")"
      ]
    },
    {
      "cell_type": "code",
      "execution_count": null,
      "metadata": {
        "id": "-tfl-CRo2Ws_",
        "outputId": "d631f899-9506-44d1-9b43-70eb307238d1"
      },
      "outputs": [
        {
          "data": {
            "text/plain": [
              "3.0"
            ]
          },
          "execution_count": 53,
          "metadata": {},
          "output_type": "execute_result"
        }
      ],
      "source": [
        "numbers.mean()"
      ]
    },
    {
      "cell_type": "code",
      "execution_count": null,
      "metadata": {
        "id": "czMG2zOy2Ws_",
        "outputId": "b68889e9-fd77-4d3d-f4ee-b6b5b8bf006a"
      },
      "outputs": [
        {
          "data": {
            "text/plain": [
              "3.0"
            ]
          },
          "execution_count": 54,
          "metadata": {},
          "output_type": "execute_result"
        }
      ],
      "source": [
        "numbers.median()"
      ]
    },
    {
      "cell_type": "code",
      "execution_count": null,
      "metadata": {
        "id": "eXT3C5e92Ws_",
        "outputId": "c4582090-5b21-4912-cfb1-4694dc5bfa57"
      },
      "outputs": [
        {
          "data": {
            "text/plain": [
              "1.5811388300841898"
            ]
          },
          "execution_count": 55,
          "metadata": {},
          "output_type": "execute_result"
        }
      ],
      "source": [
        "numbers.std()"
      ]
    },
    {
      "cell_type": "code",
      "execution_count": null,
      "metadata": {
        "id": "bKKTv7GB2WtA",
        "outputId": "eae68c43-f8ee-4525-dcf8-396a6c150a13"
      },
      "outputs": [
        {
          "data": {
            "text/plain": [
              "5.0"
            ]
          },
          "execution_count": 56,
          "metadata": {},
          "output_type": "execute_result"
        }
      ],
      "source": [
        "numbers.max()"
      ]
    },
    {
      "cell_type": "code",
      "execution_count": null,
      "metadata": {
        "id": "briD85ao2WtA",
        "outputId": "4845e9fe-63df-448c-d6ac-47eb3d7122b4"
      },
      "outputs": [
        {
          "data": {
            "text/plain": [
              "1.0"
            ]
          },
          "execution_count": 57,
          "metadata": {},
          "output_type": "execute_result"
        }
      ],
      "source": [
        "numbers.min()"
      ]
    },
    {
      "cell_type": "code",
      "execution_count": null,
      "metadata": {
        "id": "xxcsL4vj2WtA",
        "outputId": "b06188e5-e2fb-4c72-fd1a-d0c50478f1a0"
      },
      "outputs": [
        {
          "data": {
            "text/plain": [
              "0       koala\n",
              "1    aardvark\n",
              "2       zebra\n",
              "dtype: object"
            ]
          },
          "execution_count": 58,
          "metadata": {},
          "output_type": "execute_result"
        }
      ],
      "source": [
        "animals = pd.Series([\"koala\", \"aardvark\", \"zebra\"])\n",
        "animals"
      ]
    },
    {
      "cell_type": "code",
      "execution_count": null,
      "metadata": {
        "id": "QTMIujdz2WtA",
        "outputId": "fe5c5f0a-e55a-4df5-c258-c0940434d7a6"
      },
      "outputs": [
        {
          "data": {
            "text/plain": [
              "'zebra'"
            ]
          },
          "execution_count": 59,
          "metadata": {},
          "output_type": "execute_result"
        }
      ],
      "source": [
        "animals.max()"
      ]
    },
    {
      "cell_type": "code",
      "execution_count": null,
      "metadata": {
        "id": "ForeG3MX2WtA",
        "outputId": "623242cc-d452-46d7-c913-9f72e204b309"
      },
      "outputs": [
        {
          "data": {
            "text/plain": [
              "'aardvark'"
            ]
          },
          "execution_count": 60,
          "metadata": {},
          "output_type": "execute_result"
        }
      ],
      "source": [
        "animals.min()"
      ]
    },
    {
      "cell_type": "code",
      "execution_count": null,
      "metadata": {
        "id": "A0mXkEZ62WtA",
        "outputId": "74c9d8bf-33a5-4bf8-844c-71220139e9bf"
      },
      "outputs": [
        {
          "data": {
            "text/plain": [
              "count    5.000000\n",
              "mean     3.000000\n",
              "std      1.581139\n",
              "min      1.000000\n",
              "25%      2.000000\n",
              "50%      3.000000\n",
              "75%      4.000000\n",
              "max      5.000000\n",
              "dtype: float64"
            ]
          },
          "execution_count": 61,
          "metadata": {},
          "output_type": "execute_result"
        }
      ],
      "source": [
        "numbers.describe()"
      ]
    },
    {
      "cell_type": "code",
      "execution_count": null,
      "metadata": {
        "id": "YtQ8LGol2WtB",
        "outputId": "70991ca6-eb72-4c8f-ace7-04da3e108343"
      },
      "outputs": [
        {
          "data": {
            "text/plain": [
              "2    3.0\n",
              "5    5.0\n",
              "3    NaN\n",
              "dtype: float64"
            ]
          },
          "execution_count": 62,
          "metadata": {},
          "output_type": "execute_result"
        }
      ],
      "source": [
        "numbers.sample(3)"
      ]
    },
    {
      "cell_type": "code",
      "execution_count": null,
      "metadata": {
        "id": "XIzh4nhe2WtB",
        "outputId": "99e11da3-4d1b-4e3a-ff39-39e7b3a67c28"
      },
      "outputs": [
        {
          "data": {
            "text/plain": [
              "array(['Hemingway', 'Orwell', 'Dostoevsky', 'Fitzgerald'], dtype=object)"
            ]
          },
          "execution_count": 63,
          "metadata": {},
          "output_type": "execute_result"
        }
      ],
      "source": [
        "authors = pd.Series(\n",
        "    [\"Hemingway\", \"Orwell\", \"Dostoevsky\", \"Fitzgerald\", \"Orwell\"]\n",
        ")\n",
        "\n",
        "authors.unique()"
      ]
    },
    {
      "cell_type": "code",
      "execution_count": null,
      "metadata": {
        "id": "w1yV-Fr-2WtB",
        "outputId": "39802f94-9bfb-42a0-81ee-0295c13f4a5e"
      },
      "outputs": [
        {
          "data": {
            "text/plain": [
              "4"
            ]
          },
          "execution_count": 64,
          "metadata": {},
          "output_type": "execute_result"
        }
      ],
      "source": [
        "authors.nunique()"
      ]
    },
    {
      "cell_type": "markdown",
      "metadata": {
        "id": "h-C9lF112WtB"
      },
      "source": [
        "### 2.5.2 Arithmetic Operations"
      ]
    },
    {
      "cell_type": "code",
      "execution_count": null,
      "metadata": {
        "id": "FK7byzsf2WtB",
        "outputId": "4a22af30-31cf-40cf-a9e0-9a39d691e594"
      },
      "outputs": [
        {
          "data": {
            "text/plain": [
              "A     5.0\n",
              "B     NaN\n",
              "C    15.0\n",
              "dtype: float64"
            ]
          },
          "execution_count": 65,
          "metadata": {},
          "output_type": "execute_result"
        }
      ],
      "source": [
        "s1 = pd.Series(data = [5, np.nan, 15], index = [\"A\", \"B\", \"C\"])\n",
        "s1"
      ]
    },
    {
      "cell_type": "code",
      "execution_count": null,
      "metadata": {
        "id": "ueZvA0tm2WtB",
        "outputId": "afec359f-0a4c-4a45-ad4b-78317422d625"
      },
      "outputs": [
        {
          "data": {
            "text/plain": [
              "A     8.0\n",
              "B     NaN\n",
              "C    18.0\n",
              "dtype: float64"
            ]
          },
          "execution_count": 66,
          "metadata": {},
          "output_type": "execute_result"
        }
      ],
      "source": [
        "s1 + 3"
      ]
    },
    {
      "cell_type": "code",
      "execution_count": null,
      "metadata": {
        "id": "C-cyAM6g2WtB",
        "outputId": "0716f7fd-6f86-4ff9-e9ca-699a60971152"
      },
      "outputs": [
        {
          "data": {
            "text/plain": [
              "A     8.0\n",
              "B     NaN\n",
              "C    18.0\n",
              "dtype: float64"
            ]
          },
          "execution_count": 67,
          "metadata": {},
          "output_type": "execute_result"
        }
      ],
      "source": [
        "s1.add(3)"
      ]
    },
    {
      "cell_type": "code",
      "execution_count": null,
      "metadata": {
        "id": "7VSOpaDf2WtC",
        "outputId": "3a13f5fc-97a0-4c77-b813-88a5c09dec97"
      },
      "outputs": [
        {
          "data": {
            "text/plain": [
              "A     0.0\n",
              "B     NaN\n",
              "C    10.0\n",
              "dtype: float64"
            ]
          },
          "execution_count": 68,
          "metadata": {},
          "output_type": "execute_result"
        }
      ],
      "source": [
        "# The three lines below are equivalent\n",
        "s1 - 5\n",
        "s1.sub(5)\n",
        "s1.subtract(5)"
      ]
    },
    {
      "cell_type": "code",
      "execution_count": null,
      "metadata": {
        "id": "YMfHDQQe2WtC",
        "outputId": "63c0a661-9927-4d21-d388-bd207c04c6a7"
      },
      "outputs": [
        {
          "data": {
            "text/plain": [
              "A    10.0\n",
              "B     NaN\n",
              "C    30.0\n",
              "dtype: float64"
            ]
          },
          "execution_count": 69,
          "metadata": {},
          "output_type": "execute_result"
        }
      ],
      "source": [
        "# The three lines below are equivalent\n",
        "s1 * 2\n",
        "s1.mul(2)\n",
        "s1.multiply(2)"
      ]
    },
    {
      "cell_type": "code",
      "execution_count": null,
      "metadata": {
        "id": "RJ9oRIqm2WtC",
        "outputId": "2f3f26a0-4f97-414f-bf96-76b4ad4fc8f2"
      },
      "outputs": [
        {
          "data": {
            "text/plain": [
              "A    2.5\n",
              "B    NaN\n",
              "C    7.5\n",
              "dtype: float64"
            ]
          },
          "execution_count": 70,
          "metadata": {},
          "output_type": "execute_result"
        }
      ],
      "source": [
        "# The three lines below are equivalent\n",
        "s1 / 2\n",
        "s1.div(2)\n",
        "s1.divide(2)"
      ]
    },
    {
      "cell_type": "code",
      "execution_count": null,
      "metadata": {
        "id": "7LyS2YLM2WtC",
        "outputId": "aff04eec-bb02-4d15-92c0-683bf72a2006"
      },
      "outputs": [
        {
          "data": {
            "text/plain": [
              "A    1.0\n",
              "B    NaN\n",
              "C    3.0\n",
              "dtype: float64"
            ]
          },
          "execution_count": 71,
          "metadata": {},
          "output_type": "execute_result"
        }
      ],
      "source": [
        "# The two lines below are equivalent\n",
        "s1 // 4\n",
        "s1.floordiv(4)"
      ]
    },
    {
      "cell_type": "code",
      "execution_count": null,
      "metadata": {
        "id": "Rkqcr9TP2WtC",
        "outputId": "3919e3ab-12e4-40f3-ef88-ce21f149c070"
      },
      "outputs": [
        {
          "data": {
            "text/plain": [
              "A    2.0\n",
              "B    NaN\n",
              "C    0.0\n",
              "dtype: float64"
            ]
          },
          "execution_count": 72,
          "metadata": {},
          "output_type": "execute_result"
        }
      ],
      "source": [
        "# The two lines below are equivalent\n",
        "s1 % 3\n",
        "s1.mod(3)"
      ]
    },
    {
      "cell_type": "markdown",
      "metadata": {
        "id": "6p2VQY-r2WtC"
      },
      "source": [
        "### 2.5.3 Broadcasting"
      ]
    },
    {
      "cell_type": "code",
      "execution_count": null,
      "metadata": {
        "id": "DR__SsIx2WtD"
      },
      "outputs": [],
      "source": [
        "s1 = pd.Series([1, 2, 3], index = [\"A\", \"B\", \"C\"])\n",
        "s2 = pd.Series([4, 5, 6], index = [\"A\", \"B\", \"C\"])"
      ]
    },
    {
      "cell_type": "code",
      "execution_count": null,
      "metadata": {
        "id": "mmM8hfRn2WtD",
        "outputId": "f23290d5-6594-4e53-b4a9-8a5e8650e2ca"
      },
      "outputs": [
        {
          "data": {
            "text/plain": [
              "A    5\n",
              "B    7\n",
              "C    9\n",
              "dtype: int64"
            ]
          },
          "execution_count": 74,
          "metadata": {},
          "output_type": "execute_result"
        }
      ],
      "source": [
        "s1 + s2"
      ]
    },
    {
      "cell_type": "code",
      "execution_count": null,
      "metadata": {
        "id": "6Pv8-1fz2WtD"
      },
      "outputs": [],
      "source": [
        "s1 = pd.Series(data = [3, 6, np.nan, 12])\n",
        "s2 = pd.Series(data = [2, 6, np.nan, 12])"
      ]
    },
    {
      "cell_type": "code",
      "execution_count": null,
      "metadata": {
        "id": "6wD65TRn2WtD",
        "outputId": "c9c6ac4e-bfb7-45f0-c9ab-9144921ea1df"
      },
      "outputs": [
        {
          "data": {
            "text/plain": [
              "0    False\n",
              "1     True\n",
              "2    False\n",
              "3     True\n",
              "dtype: bool"
            ]
          },
          "execution_count": 76,
          "metadata": {},
          "output_type": "execute_result"
        }
      ],
      "source": [
        "# The two lines below are equivalent\n",
        "s1 == s2\n",
        "s1.eq(s2)"
      ]
    },
    {
      "cell_type": "code",
      "execution_count": null,
      "metadata": {
        "id": "1oetO8JH2WtD",
        "outputId": "04e1f2c6-1de4-420f-be6c-e2fa87c6eb7b"
      },
      "outputs": [
        {
          "data": {
            "text/plain": [
              "0     True\n",
              "1    False\n",
              "2     True\n",
              "3    False\n",
              "dtype: bool"
            ]
          },
          "execution_count": 77,
          "metadata": {},
          "output_type": "execute_result"
        }
      ],
      "source": [
        "# The two lines below are equivalent\n",
        "s1 != s2\n",
        "s1.ne(s2)"
      ]
    },
    {
      "cell_type": "code",
      "execution_count": null,
      "metadata": {
        "id": "S8H6UPhe2WtD"
      },
      "outputs": [],
      "source": [
        "s1 = pd.Series(\n",
        "    data = [5, 10, 15], index = [\"A\", \"B\", \"C\"]\n",
        ")\n",
        "\n",
        "s2 = pd.Series(\n",
        "    data = [4, 8, 12, 14], index = [\"B\", \"C\", \"D\", \"E\"]\n",
        ")"
      ]
    },
    {
      "cell_type": "code",
      "execution_count": null,
      "metadata": {
        "id": "aw9JY6gq2WtD",
        "outputId": "0f0b33a9-5606-4551-fed2-153a4f4caa62"
      },
      "outputs": [
        {
          "data": {
            "text/plain": [
              "A     NaN\n",
              "B    14.0\n",
              "C    23.0\n",
              "D     NaN\n",
              "E     NaN\n",
              "dtype: float64"
            ]
          },
          "execution_count": 79,
          "metadata": {},
          "output_type": "execute_result"
        }
      ],
      "source": [
        "s1 + s2"
      ]
    },
    {
      "cell_type": "markdown",
      "metadata": {
        "id": "XWwIv8d92WtE"
      },
      "source": [
        "## 2.6 Passing the Series to Python's Built-In Functions"
      ]
    },
    {
      "cell_type": "code",
      "execution_count": null,
      "metadata": {
        "id": "8S6NTftt2WtE"
      },
      "outputs": [],
      "source": [
        "cities = pd.Series(\n",
        "    data = [\"San Francisco\", \"Los Angeles\", \"Las  Vegas\", np.nan]\n",
        ")"
      ]
    },
    {
      "cell_type": "code",
      "execution_count": null,
      "metadata": {
        "id": "nZnPrcXN2WtE",
        "outputId": "e217f095-99b7-4d21-d1b8-be35ac5eaa89"
      },
      "outputs": [
        {
          "data": {
            "text/plain": [
              "4"
            ]
          },
          "execution_count": 81,
          "metadata": {},
          "output_type": "execute_result"
        }
      ],
      "source": [
        "len(cities)"
      ]
    },
    {
      "cell_type": "code",
      "execution_count": null,
      "metadata": {
        "id": "i6O9Mur72WtE",
        "outputId": "413fb060-fd44-46cd-b2fc-1d72d4df9288"
      },
      "outputs": [
        {
          "data": {
            "text/plain": [
              "pandas.core.series.Series"
            ]
          },
          "execution_count": 82,
          "metadata": {},
          "output_type": "execute_result"
        }
      ],
      "source": [
        "type(cities)"
      ]
    },
    {
      "cell_type": "code",
      "execution_count": null,
      "metadata": {
        "id": "_faNABZS2WtE",
        "outputId": "87ee4b4d-7a98-4ddf-9721-250f06368b6c"
      },
      "outputs": [
        {
          "data": {
            "text/plain": [
              "['T',\n",
              " '_AXIS_LEN',\n",
              " '_AXIS_ORDERS',\n",
              " '_AXIS_REVERSED',\n",
              " '_AXIS_TO_AXIS_NUMBER',\n",
              " '_HANDLED_TYPES',\n",
              " '__abs__',\n",
              " '__add__',\n",
              " '__and__',\n",
              " '__annotations__',\n",
              " '__array__',\n",
              " '__array_priority__',\n",
              " '__array_ufunc__',\n",
              " '__array_wrap__',\n",
              " '__bool__',\n",
              " '__class__',\n",
              " '__contains__',\n",
              " '__copy__',\n",
              " '__deepcopy__',\n",
              " '__delattr__',\n",
              " '__delitem__',\n",
              " '__dict__',\n",
              " '__dir__',\n",
              " '__divmod__',\n",
              " '__doc__',\n",
              " '__eq__',\n",
              " '__finalize__',\n",
              " '__float__',\n",
              " '__floordiv__',\n",
              " '__format__',\n",
              " '__ge__',\n",
              " '__getattr__',\n",
              " '__getattribute__',\n",
              " '__getitem__',\n",
              " '__getstate__',\n",
              " '__gt__',\n",
              " '__hash__',\n",
              " '__iadd__',\n",
              " '__iand__',\n",
              " '__ifloordiv__',\n",
              " '__imod__',\n",
              " '__imul__',\n",
              " '__init__',\n",
              " '__init_subclass__',\n",
              " '__int__',\n",
              " '__invert__',\n",
              " '__ior__',\n",
              " '__ipow__',\n",
              " '__isub__',\n",
              " '__iter__',\n",
              " '__itruediv__',\n",
              " '__ixor__',\n",
              " '__le__',\n",
              " '__len__',\n",
              " '__long__',\n",
              " '__lt__',\n",
              " '__matmul__',\n",
              " '__mod__',\n",
              " '__module__',\n",
              " '__mul__',\n",
              " '__ne__',\n",
              " '__neg__',\n",
              " '__new__',\n",
              " '__nonzero__',\n",
              " '__or__',\n",
              " '__pos__',\n",
              " '__pow__',\n",
              " '__radd__',\n",
              " '__rand__',\n",
              " '__rdivmod__',\n",
              " '__reduce__',\n",
              " '__reduce_ex__',\n",
              " '__repr__',\n",
              " '__rfloordiv__',\n",
              " '__rmatmul__',\n",
              " '__rmod__',\n",
              " '__rmul__',\n",
              " '__ror__',\n",
              " '__round__',\n",
              " '__rpow__',\n",
              " '__rsub__',\n",
              " '__rtruediv__',\n",
              " '__rxor__',\n",
              " '__setattr__',\n",
              " '__setitem__',\n",
              " '__setstate__',\n",
              " '__sizeof__',\n",
              " '__str__',\n",
              " '__sub__',\n",
              " '__subclasshook__',\n",
              " '__truediv__',\n",
              " '__weakref__',\n",
              " '__xor__',\n",
              " '_accessors',\n",
              " '_accum_func',\n",
              " '_add_numeric_operations',\n",
              " '_agg_by_level',\n",
              " '_agg_examples_doc',\n",
              " '_agg_see_also_doc',\n",
              " '_align_frame',\n",
              " '_align_series',\n",
              " '_arith_method',\n",
              " '_attrs',\n",
              " '_binop',\n",
              " '_builtin_table',\n",
              " '_can_hold_na',\n",
              " '_check_inplace_and_allows_duplicate_labels',\n",
              " '_check_inplace_setting',\n",
              " '_check_is_chained_assignment_possible',\n",
              " '_check_label_or_level_ambiguity',\n",
              " '_check_setitem_copy',\n",
              " '_clear_item_cache',\n",
              " '_clip_with_one_bound',\n",
              " '_clip_with_scalar',\n",
              " '_cmp_method',\n",
              " '_consolidate',\n",
              " '_consolidate_inplace',\n",
              " '_construct_axes_dict',\n",
              " '_construct_axes_from_arguments',\n",
              " '_construct_result',\n",
              " '_constructor',\n",
              " '_constructor_expanddim',\n",
              " '_constructor_sliced',\n",
              " '_convert',\n",
              " '_convert_dtypes',\n",
              " '_cython_table',\n",
              " '_data',\n",
              " '_dir_additions',\n",
              " '_dir_deletions',\n",
              " '_drop_axis',\n",
              " '_drop_labels_or_levels',\n",
              " '_find_valid_index',\n",
              " '_flags',\n",
              " '_get_axis',\n",
              " '_get_axis_name',\n",
              " '_get_axis_number',\n",
              " '_get_axis_resolvers',\n",
              " '_get_block_manager_axis',\n",
              " '_get_bool_data',\n",
              " '_get_cacher',\n",
              " '_get_cleaned_column_resolvers',\n",
              " '_get_cython_func',\n",
              " '_get_index_resolvers',\n",
              " '_get_item_cache',\n",
              " '_get_label_or_level_values',\n",
              " '_get_numeric_data',\n",
              " '_get_value',\n",
              " '_get_values',\n",
              " '_get_values_tuple',\n",
              " '_get_with',\n",
              " '_gotitem',\n",
              " '_hidden_attrs',\n",
              " '_index',\n",
              " '_indexed_same',\n",
              " '_info_axis',\n",
              " '_info_axis_name',\n",
              " '_info_axis_number',\n",
              " '_init_dict',\n",
              " '_init_mgr',\n",
              " '_inplace_method',\n",
              " '_internal_names',\n",
              " '_internal_names_set',\n",
              " '_is_builtin_func',\n",
              " '_is_cached',\n",
              " '_is_copy',\n",
              " '_is_label_or_level_reference',\n",
              " '_is_label_reference',\n",
              " '_is_level_reference',\n",
              " '_is_mixed_type',\n",
              " '_is_view',\n",
              " '_iset_item',\n",
              " '_item_cache',\n",
              " '_ix',\n",
              " '_ixs',\n",
              " '_logical_func',\n",
              " '_logical_method',\n",
              " '_map_values',\n",
              " '_maybe_cache_changed',\n",
              " '_maybe_update_cacher',\n",
              " '_metadata',\n",
              " '_mgr',\n",
              " '_min_count_stat_function',\n",
              " '_name',\n",
              " '_needs_reindex_multi',\n",
              " '_obj_with_exclusions',\n",
              " '_protect_consolidate',\n",
              " '_reduce',\n",
              " '_reindex_axes',\n",
              " '_reindex_indexer',\n",
              " '_reindex_multi',\n",
              " '_reindex_with_indexers',\n",
              " '_replace_single',\n",
              " '_repr_data_resource_',\n",
              " '_repr_latex_',\n",
              " '_reset_cache',\n",
              " '_reset_cacher',\n",
              " '_selected_obj',\n",
              " '_selection',\n",
              " '_selection_list',\n",
              " '_selection_name',\n",
              " '_set_as_cached',\n",
              " '_set_axis',\n",
              " '_set_axis_name',\n",
              " '_set_axis_nocheck',\n",
              " '_set_is_copy',\n",
              " '_set_item',\n",
              " '_set_labels',\n",
              " '_set_name',\n",
              " '_set_value',\n",
              " '_set_values',\n",
              " '_set_with',\n",
              " '_set_with_engine',\n",
              " '_slice',\n",
              " '_stat_axis',\n",
              " '_stat_axis_name',\n",
              " '_stat_axis_number',\n",
              " '_stat_function',\n",
              " '_stat_function_ddof',\n",
              " '_take_with_is_copy',\n",
              " '_to_dict_of_blocks',\n",
              " '_try_aggregate_string_function',\n",
              " '_typ',\n",
              " '_update_inplace',\n",
              " '_validate_dtype',\n",
              " '_values',\n",
              " '_where',\n",
              " 'abs',\n",
              " 'add',\n",
              " 'add_prefix',\n",
              " 'add_suffix',\n",
              " 'agg',\n",
              " 'aggregate',\n",
              " 'align',\n",
              " 'all',\n",
              " 'any',\n",
              " 'append',\n",
              " 'apply',\n",
              " 'argmax',\n",
              " 'argmin',\n",
              " 'argsort',\n",
              " 'array',\n",
              " 'asfreq',\n",
              " 'asof',\n",
              " 'astype',\n",
              " 'at',\n",
              " 'at_time',\n",
              " 'attrs',\n",
              " 'autocorr',\n",
              " 'axes',\n",
              " 'backfill',\n",
              " 'between',\n",
              " 'between_time',\n",
              " 'bfill',\n",
              " 'bool',\n",
              " 'clip',\n",
              " 'combine',\n",
              " 'combine_first',\n",
              " 'compare',\n",
              " 'convert_dtypes',\n",
              " 'copy',\n",
              " 'corr',\n",
              " 'count',\n",
              " 'cov',\n",
              " 'cummax',\n",
              " 'cummin',\n",
              " 'cumprod',\n",
              " 'cumsum',\n",
              " 'describe',\n",
              " 'diff',\n",
              " 'div',\n",
              " 'divide',\n",
              " 'divmod',\n",
              " 'dot',\n",
              " 'drop',\n",
              " 'drop_duplicates',\n",
              " 'droplevel',\n",
              " 'dropna',\n",
              " 'dtype',\n",
              " 'dtypes',\n",
              " 'duplicated',\n",
              " 'empty',\n",
              " 'eq',\n",
              " 'equals',\n",
              " 'ewm',\n",
              " 'expanding',\n",
              " 'explode',\n",
              " 'factorize',\n",
              " 'ffill',\n",
              " 'fillna',\n",
              " 'filter',\n",
              " 'first',\n",
              " 'first_valid_index',\n",
              " 'flags',\n",
              " 'floordiv',\n",
              " 'ge',\n",
              " 'get',\n",
              " 'groupby',\n",
              " 'gt',\n",
              " 'hasnans',\n",
              " 'head',\n",
              " 'hist',\n",
              " 'iat',\n",
              " 'idxmax',\n",
              " 'idxmin',\n",
              " 'iloc',\n",
              " 'index',\n",
              " 'infer_objects',\n",
              " 'interpolate',\n",
              " 'is_monotonic',\n",
              " 'is_monotonic_decreasing',\n",
              " 'is_monotonic_increasing',\n",
              " 'is_unique',\n",
              " 'isin',\n",
              " 'isna',\n",
              " 'isnull',\n",
              " 'item',\n",
              " 'items',\n",
              " 'iteritems',\n",
              " 'keys',\n",
              " 'kurt',\n",
              " 'kurtosis',\n",
              " 'last',\n",
              " 'last_valid_index',\n",
              " 'le',\n",
              " 'loc',\n",
              " 'lt',\n",
              " 'mad',\n",
              " 'map',\n",
              " 'mask',\n",
              " 'max',\n",
              " 'mean',\n",
              " 'median',\n",
              " 'memory_usage',\n",
              " 'min',\n",
              " 'mod',\n",
              " 'mode',\n",
              " 'mul',\n",
              " 'multiply',\n",
              " 'name',\n",
              " 'nbytes',\n",
              " 'ndim',\n",
              " 'ne',\n",
              " 'nlargest',\n",
              " 'notna',\n",
              " 'notnull',\n",
              " 'nsmallest',\n",
              " 'nunique',\n",
              " 'pad',\n",
              " 'pct_change',\n",
              " 'pipe',\n",
              " 'plot',\n",
              " 'pop',\n",
              " 'pow',\n",
              " 'prod',\n",
              " 'product',\n",
              " 'quantile',\n",
              " 'radd',\n",
              " 'rank',\n",
              " 'ravel',\n",
              " 'rdiv',\n",
              " 'rdivmod',\n",
              " 'reindex',\n",
              " 'reindex_like',\n",
              " 'rename',\n",
              " 'rename_axis',\n",
              " 'reorder_levels',\n",
              " 'repeat',\n",
              " 'replace',\n",
              " 'resample',\n",
              " 'reset_index',\n",
              " 'rfloordiv',\n",
              " 'rmod',\n",
              " 'rmul',\n",
              " 'rolling',\n",
              " 'round',\n",
              " 'rpow',\n",
              " 'rsub',\n",
              " 'rtruediv',\n",
              " 'sample',\n",
              " 'searchsorted',\n",
              " 'sem',\n",
              " 'set_axis',\n",
              " 'set_flags',\n",
              " 'shape',\n",
              " 'shift',\n",
              " 'size',\n",
              " 'skew',\n",
              " 'slice_shift',\n",
              " 'sort_index',\n",
              " 'sort_values',\n",
              " 'squeeze',\n",
              " 'std',\n",
              " 'str',\n",
              " 'sub',\n",
              " 'subtract',\n",
              " 'sum',\n",
              " 'swapaxes',\n",
              " 'swaplevel',\n",
              " 'tail',\n",
              " 'take',\n",
              " 'to_clipboard',\n",
              " 'to_csv',\n",
              " 'to_dict',\n",
              " 'to_excel',\n",
              " 'to_frame',\n",
              " 'to_hdf',\n",
              " 'to_json',\n",
              " 'to_latex',\n",
              " 'to_list',\n",
              " 'to_markdown',\n",
              " 'to_numpy',\n",
              " 'to_period',\n",
              " 'to_pickle',\n",
              " 'to_sql',\n",
              " 'to_string',\n",
              " 'to_timestamp',\n",
              " 'to_xarray',\n",
              " 'transform',\n",
              " 'transpose',\n",
              " 'truediv',\n",
              " 'truncate',\n",
              " 'tz_convert',\n",
              " 'tz_localize',\n",
              " 'unique',\n",
              " 'unstack',\n",
              " 'update',\n",
              " 'value_counts',\n",
              " 'values',\n",
              " 'var',\n",
              " 'view',\n",
              " 'where',\n",
              " 'xs']"
            ]
          },
          "execution_count": 83,
          "metadata": {},
          "output_type": "execute_result"
        }
      ],
      "source": [
        "dir(cities)"
      ]
    },
    {
      "cell_type": "code",
      "execution_count": null,
      "metadata": {
        "id": "s0wjZJnl2WtE",
        "outputId": "19a1e864-20db-4920-9c3c-22cc0001877d"
      },
      "outputs": [
        {
          "data": {
            "text/plain": [
              "['San Francisco', 'Los Angeles', 'Las  Vegas', nan]"
            ]
          },
          "execution_count": 84,
          "metadata": {},
          "output_type": "execute_result"
        }
      ],
      "source": [
        "list(cities)"
      ]
    },
    {
      "cell_type": "code",
      "execution_count": null,
      "metadata": {
        "id": "ncgLuiv82WtE",
        "outputId": "a7be0545-d559-4bd0-d19c-603e3ec6649c"
      },
      "outputs": [
        {
          "data": {
            "text/plain": [
              "{0: 'San Francisco', 1: 'Los Angeles', 2: 'Las  Vegas', 3: nan}"
            ]
          },
          "execution_count": 85,
          "metadata": {},
          "output_type": "execute_result"
        }
      ],
      "source": [
        "dict(cities)"
      ]
    },
    {
      "cell_type": "code",
      "execution_count": null,
      "metadata": {
        "id": "HWgRhvqx2WtF",
        "outputId": "a038c06b-4777-4478-ed17-8c2e57c69a4c"
      },
      "outputs": [
        {
          "data": {
            "text/plain": [
              "0    San Francisco\n",
              "1      Los Angeles\n",
              "2       Las  Vegas\n",
              "3              NaN\n",
              "dtype: object"
            ]
          },
          "execution_count": 86,
          "metadata": {},
          "output_type": "execute_result"
        }
      ],
      "source": [
        "cities"
      ]
    },
    {
      "cell_type": "code",
      "execution_count": null,
      "metadata": {
        "id": "0tZ445Es2WtF",
        "outputId": "9c5ed08e-4743-4312-fedc-5e30b565bc64"
      },
      "outputs": [
        {
          "data": {
            "text/plain": [
              "False"
            ]
          },
          "execution_count": 87,
          "metadata": {},
          "output_type": "execute_result"
        }
      ],
      "source": [
        "\"Las Vegas\" in cities"
      ]
    },
    {
      "cell_type": "code",
      "execution_count": null,
      "metadata": {
        "id": "HO1l51aH2WtF",
        "outputId": "8d03f5a0-663d-42b9-ed86-163e509ac252"
      },
      "outputs": [
        {
          "data": {
            "text/plain": [
              "True"
            ]
          },
          "execution_count": 88,
          "metadata": {},
          "output_type": "execute_result"
        }
      ],
      "source": [
        "2 in cities"
      ]
    },
    {
      "cell_type": "code",
      "execution_count": null,
      "metadata": {
        "id": "Y7ajzpZd2WtF",
        "outputId": "453418c0-9921-4e81-fd66-e9d011d2aa49"
      },
      "outputs": [
        {
          "data": {
            "text/plain": [
              "False"
            ]
          },
          "execution_count": 89,
          "metadata": {},
          "output_type": "execute_result"
        }
      ],
      "source": [
        "\"Las Vegas\" in cities.values"
      ]
    },
    {
      "cell_type": "code",
      "execution_count": null,
      "metadata": {
        "id": "t8hwK1MR2WtF",
        "outputId": "f1dc7aaf-62b6-44bd-f19a-d57c26e9caf0"
      },
      "outputs": [
        {
          "data": {
            "text/plain": [
              "True"
            ]
          },
          "execution_count": 90,
          "metadata": {},
          "output_type": "execute_result"
        }
      ],
      "source": [
        "100 not in cities"
      ]
    },
    {
      "cell_type": "code",
      "execution_count": null,
      "metadata": {
        "id": "1kOXe4_k2WtF",
        "outputId": "93c18fdf-8da3-42c6-abfc-d54f250fb428"
      },
      "outputs": [
        {
          "data": {
            "text/plain": [
              "True"
            ]
          },
          "execution_count": 91,
          "metadata": {},
          "output_type": "execute_result"
        }
      ],
      "source": [
        "\"Paris\" not in cities.values"
      ]
    },
    {
      "cell_type": "markdown",
      "metadata": {
        "id": "zIOQsCFz2WtG"
      },
      "source": [
        "## 2.7 Coding Challenge"
      ]
    },
    {
      "cell_type": "markdown",
      "metadata": {
        "id": "wSzbgxcy2WtG"
      },
      "source": [
        "### 2.7.1 Problems"
      ]
    },
    {
      "cell_type": "markdown",
      "metadata": {
        "id": "qm1vLUJo2WtG"
      },
      "source": [
        "### 2.7.2 Solutions"
      ]
    },
    {
      "cell_type": "code",
      "execution_count": null,
      "metadata": {
        "id": "zLeJLCzC2WtG"
      },
      "outputs": [],
      "source": [
        "superheroes = [\n",
        "    \"Batman\",\n",
        "    \"Superman\",\n",
        "    \"Spider-Man\",\n",
        "    \"Iron Man\",\n",
        "    \"Captain America\",\n",
        "    \"Wonder Woman\"\n",
        "]"
      ]
    },
    {
      "cell_type": "code",
      "execution_count": null,
      "metadata": {
        "id": "fltHvKqg2WtG"
      },
      "outputs": [],
      "source": [
        "strength_levels = (100, 120, 90, 95, 110, 120)"
      ]
    },
    {
      "cell_type": "code",
      "execution_count": null,
      "metadata": {
        "id": "3c0qoYf12WtG",
        "outputId": "f5d95709-d3ae-446f-ff68-eefaea818828"
      },
      "outputs": [
        {
          "data": {
            "text/plain": [
              "0             Batman\n",
              "1           Superman\n",
              "2         Spider-Man\n",
              "3           Iron Man\n",
              "4    Captain America\n",
              "5       Wonder Woman\n",
              "dtype: object"
            ]
          },
          "execution_count": 94,
          "metadata": {},
          "output_type": "execute_result"
        }
      ],
      "source": [
        "pd.Series(superheroes)"
      ]
    },
    {
      "cell_type": "code",
      "execution_count": null,
      "metadata": {
        "id": "d2afqFNE2WtG",
        "outputId": "1e32ed37-56ae-49e6-a241-3f39e96a02a3"
      },
      "outputs": [
        {
          "data": {
            "text/plain": [
              "0    100\n",
              "1    120\n",
              "2     90\n",
              "3     95\n",
              "4    110\n",
              "5    120\n",
              "dtype: int64"
            ]
          },
          "execution_count": 95,
          "metadata": {},
          "output_type": "execute_result"
        }
      ],
      "source": [
        "pd.Series(data = strength_levels)"
      ]
    },
    {
      "cell_type": "code",
      "execution_count": null,
      "metadata": {
        "id": "kTK5YM3f2WtG",
        "outputId": "7df4004c-3983-48f8-be9e-43d00f3c7681"
      },
      "outputs": [
        {
          "data": {
            "text/plain": [
              "Batman             100\n",
              "Superman           120\n",
              "Spider-Man          90\n",
              "Iron Man            95\n",
              "Captain America    110\n",
              "Wonder Woman       120\n",
              "dtype: int64"
            ]
          },
          "execution_count": 96,
          "metadata": {},
          "output_type": "execute_result"
        }
      ],
      "source": [
        "heroes = pd.Series(\n",
        "    data = strength_levels, index = superheroes\n",
        ")\n",
        "\n",
        "heroes"
      ]
    },
    {
      "cell_type": "code",
      "execution_count": null,
      "metadata": {
        "id": "80PiGtXh2WtG",
        "outputId": "674a101c-ff40-4424-bcad-3a48ff33ea9a"
      },
      "outputs": [
        {
          "data": {
            "text/plain": [
              "Batman      100\n",
              "Superman    120\n",
              "dtype: int64"
            ]
          },
          "execution_count": 97,
          "metadata": {},
          "output_type": "execute_result"
        }
      ],
      "source": [
        "heroes.head(2)"
      ]
    },
    {
      "cell_type": "code",
      "execution_count": null,
      "metadata": {
        "id": "cstIvkJv2WtH",
        "outputId": "596e461d-9925-401f-8336-8e826edd188b"
      },
      "outputs": [
        {
          "data": {
            "text/plain": [
              "Spider-Man          90\n",
              "Iron Man            95\n",
              "Captain America    110\n",
              "Wonder Woman       120\n",
              "dtype: int64"
            ]
          },
          "execution_count": 98,
          "metadata": {},
          "output_type": "execute_result"
        }
      ],
      "source": [
        "heroes.tail(4)"
      ]
    },
    {
      "cell_type": "code",
      "execution_count": null,
      "metadata": {
        "id": "dn2qURXX2WtH",
        "outputId": "90aea155-43cc-4199-ccc4-eb0a53f0d8c0"
      },
      "outputs": [
        {
          "data": {
            "text/plain": [
              "5"
            ]
          },
          "execution_count": 99,
          "metadata": {},
          "output_type": "execute_result"
        }
      ],
      "source": [
        "heroes.nunique()"
      ]
    },
    {
      "cell_type": "code",
      "execution_count": null,
      "metadata": {
        "id": "YjqpgHI62WtH",
        "outputId": "87ae6724-42ea-45d2-cd6c-721a9d0036cc"
      },
      "outputs": [
        {
          "data": {
            "text/plain": [
              "105.83333333333333"
            ]
          },
          "execution_count": 100,
          "metadata": {},
          "output_type": "execute_result"
        }
      ],
      "source": [
        "heroes.mean()"
      ]
    },
    {
      "cell_type": "code",
      "execution_count": null,
      "metadata": {
        "id": "VquXeK-t2WtH",
        "outputId": "99ce504f-2474-439b-fc6b-9dc821479e5e"
      },
      "outputs": [
        {
          "data": {
            "text/plain": [
              "120"
            ]
          },
          "execution_count": 101,
          "metadata": {},
          "output_type": "execute_result"
        }
      ],
      "source": [
        "heroes.max()"
      ]
    },
    {
      "cell_type": "code",
      "execution_count": null,
      "metadata": {
        "id": "yC3AjfAf2WtH",
        "outputId": "8c7cadd6-3f5e-4e9a-bff5-f6f680dc37c6"
      },
      "outputs": [
        {
          "data": {
            "text/plain": [
              "90"
            ]
          },
          "execution_count": 102,
          "metadata": {},
          "output_type": "execute_result"
        }
      ],
      "source": [
        "heroes.min()"
      ]
    },
    {
      "cell_type": "code",
      "execution_count": null,
      "metadata": {
        "id": "c_ShxLHx2WtH",
        "outputId": "46e7dc77-e9ac-413c-8ed8-07e8ef3a278c"
      },
      "outputs": [
        {
          "data": {
            "text/plain": [
              "Batman             200\n",
              "Superman           240\n",
              "Spider-Man         180\n",
              "Iron Man           190\n",
              "Captain America    220\n",
              "Wonder Woman       240\n",
              "dtype: int64"
            ]
          },
          "execution_count": 103,
          "metadata": {},
          "output_type": "execute_result"
        }
      ],
      "source": [
        "heroes * 2"
      ]
    },
    {
      "cell_type": "code",
      "execution_count": null,
      "metadata": {
        "id": "qTAcBdJ22WtH",
        "outputId": "cd466c30-e846-42d2-ec20-296144c549c9"
      },
      "outputs": [
        {
          "data": {
            "text/plain": [
              "{'Batman': 100,\n",
              " 'Superman': 120,\n",
              " 'Spider-Man': 90,\n",
              " 'Iron Man': 95,\n",
              " 'Captain America': 110,\n",
              " 'Wonder Woman': 120}"
            ]
          },
          "execution_count": 104,
          "metadata": {},
          "output_type": "execute_result"
        }
      ],
      "source": [
        "dict(heroes)"
      ]
    },
    {
      "cell_type": "markdown",
      "metadata": {
        "id": "ie8Pda_m2WtI"
      },
      "source": [
        "## 2.7 Summary"
      ]
    },
    {
      "cell_type": "code",
      "execution_count": null,
      "metadata": {
        "id": "uuXDxNId2WtI"
      },
      "outputs": [],
      "source": []
    }
  ],
  "metadata": {
    "kernelspec": {
      "display_name": "Python 3",
      "language": "python",
      "name": "python3"
    },
    "language_info": {
      "codemirror_mode": {
        "name": "ipython",
        "version": 3
      },
      "file_extension": ".py",
      "mimetype": "text/x-python",
      "name": "python",
      "nbconvert_exporter": "python",
      "pygments_lexer": "ipython3",
      "version": "3.9.2"
    },
    "colab": {
      "provenance": []
    }
  },
  "nbformat": 4,
  "nbformat_minor": 0
}